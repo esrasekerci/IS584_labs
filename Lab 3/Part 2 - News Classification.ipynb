{
  "cells": [
    {
      "cell_type": "markdown",
      "metadata": {
        "id": "5hvcwopK7EU5"
      },
      "source": [
        "<a href=\"https://colab.research.google.com/github/volgasezen/is584/blob/main/Lab 3/Part 2 - News Classification.ipynb\" target=\"_parent\"><img src=\"https://colab.research.google.com/assets/colab-badge.svg\" alt=\"Open In Colab\"/></a>"
      ]
    },
    {
      "cell_type": "markdown",
      "metadata": {
        "id": "XC-p2CGy6McK"
      },
      "source": [
        "<h1 style=\"margin-bottom:0\">IS 584: Deep Learning for Text Analytics</h1>\n",
        "<br>\n",
        "<h3 style=\"margin-top:0\">Lab 3 / Part 2: News Article Classification with PyTorch</h2>\n",
        "<h4 style=\"margin-top:0\">Given by Volga Sezen</h4>\n",
        "<i>Thanks to Ayberk Aydın and Arif Ozan Kızıldağ for the feedback.</i>\n",
        "<br>\n",
        "\n",
        "-----------"
      ]
    },
    {
      "cell_type": "markdown",
      "metadata": {
        "id": "7ydeZvm3A-37"
      },
      "source": [
        "## torchtext (depracated)"
      ]
    },
    {
      "cell_type": "markdown",
      "metadata": {
        "id": "JKQtPE_SBNSb"
      },
      "source": [
        "Aside from scientific computing, PyTorch has many utilities for handling data for machine learning and deep learning tasks. You can sample, shuffle, split and batch data as well as apply transformations on them.\n",
        "\n",
        "Under [torchtext](https://pytorch.org/text/stable/index.html) many NLP specific functions for accessing tokenizers like sentencepiece, building vocabularies, downloading pretrained embedding models and more are included. However, development of [torchtext](https://pytorch.org/text/stable/index.html) stopped in April 2024. The most recent version of pytorch it can run with is 2.3.1, hence when running on colab the following commands has to be executed.\n",
        "\n",
        "Any tool can be used. When we will discuss transformers, we will need to move towards different libraries to adapt to the changes."
      ]
    },
    {
      "cell_type": "markdown",
      "metadata": {
        "id": "nSyKS8FfuX5y"
      },
      "source": [
        "### Importing Packages"
      ]
    },
    {
      "cell_type": "code",
      "execution_count": null,
      "metadata": {
        "id": "Wv06sTyrLnwK"
      },
      "outputs": [],
      "source": [
        "!pip install torch==2.3.1 --index-url https://download.pytorch.org/whl/cu121 --no-dependencies -q\n",
        "!pip install torchtext -q\n",
        "!pip install datasets -q"
      ]
    },
    {
      "cell_type": "code",
      "execution_count": 1,
      "metadata": {
        "colab": {
          "base_uri": "https://localhost:8080/"
        },
        "id": "mJaCgY0b6CDo",
        "outputId": "31cc9779-594d-4903-ab72-35ff4413c2b0"
      },
      "outputs": [
        {
          "name": "stdout",
          "output_type": "stream",
          "text": [
            "torch version: 2.1.0\n"
          ]
        }
      ],
      "source": [
        "import torch\n",
        "\n",
        "print(f'torch version: {torch.__version__}')"
      ]
    },
    {
      "cell_type": "markdown",
      "metadata": {},
      "source": [
        "\n",
        "To be able to access the AG_NEWS dataset we will use the [datasets](https://huggingface.co/docs/hub/en/datasets) library of HuggingFace. It has its own dataset structure, but we will be converting it into a machine-readable form with data utilities of pytorch"
      ]
    },
    {
      "cell_type": "code",
      "execution_count": 2,
      "metadata": {
        "colab": {
          "base_uri": "https://localhost:8080/"
        },
        "id": "zz9oFsf98XkV",
        "outputId": "3da559cb-dbc2-4f38-815e-9a2b4b3addfe"
      },
      "outputs": [],
      "source": [
        "from datasets import load_dataset\n",
        "\n",
        "ds = load_dataset(\"fancyzhx/ag_news\")"
      ]
    },
    {
      "cell_type": "code",
      "execution_count": 3,
      "metadata": {},
      "outputs": [
        {
          "data": {
            "text/plain": [
              "DatasetDict({\n",
              "    test: Dataset({\n",
              "        features: ['text', 'label'],\n",
              "        num_rows: 7600\n",
              "    })\n",
              "    train: Dataset({\n",
              "        features: ['text', 'label'],\n",
              "        num_rows: 120000\n",
              "    })\n",
              "})"
            ]
          },
          "execution_count": 3,
          "metadata": {},
          "output_type": "execute_result"
        }
      ],
      "source": [
        "ds"
      ]
    },
    {
      "cell_type": "code",
      "execution_count": 4,
      "metadata": {
        "colab": {
          "base_uri": "https://localhost:8080/"
        },
        "id": "G-4awMGU-XPm",
        "outputId": "43e952f1-7647-4fb8-fa2c-467d39a3c287"
      },
      "outputs": [
        {
          "data": {
            "text/plain": [
              "{'text': \"Wall St. Bears Claw Back Into the Black (Reuters) Reuters - Short-sellers, Wall Street's dwindling\\\\band of ultra-cynics, are seeing green again.\",\n",
              " 'label': 2}"
            ]
          },
          "execution_count": 4,
          "metadata": {},
          "output_type": "execute_result"
        }
      ],
      "source": [
        "ds['train'][0]"
      ]
    },
    {
      "cell_type": "code",
      "execution_count": 5,
      "metadata": {
        "colab": {
          "base_uri": "https://localhost:8080/"
        },
        "id": "TEmej_fM_EgE",
        "outputId": "f8f89ac6-ca87-4151-863f-00a01dff9350"
      },
      "outputs": [
        {
          "name": "stderr",
          "output_type": "stream",
          "text": [
            "c:\\ProgramData\\miniconda3\\lib\\site-packages\\torchtext\\data\\utils.py:105: UserWarning: Spacy model \"en\" could not be loaded, trying \"en_core_web_sm\" instead\n",
            "  warnings.warn(\n"
          ]
        }
      ],
      "source": [
        "import torchtext\n",
        "# torchtext.disable_torchtext_deprecation_warning()\n",
        "\n",
        "from torchtext.data.utils import get_tokenizer\n",
        "tokenizer = get_tokenizer('spacy')"
      ]
    },
    {
      "cell_type": "code",
      "execution_count": 6,
      "metadata": {
        "id": "yBzINfH4_fXe"
      },
      "outputs": [],
      "source": [
        "from torchtext.vocab import build_vocab_from_iterator\n",
        "\n",
        "def yield_tokens(data_iter):\n",
        "    for text in data_iter:\n",
        "        yield tokenizer(text)\n",
        "\n",
        "vocab = build_vocab_from_iterator(yield_tokens(ds['train']['text']), specials=[\"<unk>\"])\n",
        "vocab.set_default_index(vocab[\"<unk>\"])"
      ]
    },
    {
      "cell_type": "code",
      "execution_count": 7,
      "metadata": {
        "colab": {
          "base_uri": "https://localhost:8080/"
        },
        "id": "yaFHdRN6_uEY",
        "outputId": "edd6551f-979b-4142-cfb7-ccdc86f55dcc"
      },
      "outputs": [
        {
          "name": "stdout",
          "output_type": "stream",
          "text": [
            "Unique tokens in TEXT vocabulary: 110933\n"
          ]
        }
      ],
      "source": [
        "print(\"Unique tokens in TEXT vocabulary:\",len(vocab))"
      ]
    },
    {
      "cell_type": "code",
      "execution_count": 8,
      "metadata": {
        "colab": {
          "base_uri": "https://localhost:8080/"
        },
        "id": "fO_4y52JAFCJ",
        "outputId": "2794da4a-11f0-44dc-bb93-c1a3246a3762"
      },
      "outputs": [
        {
          "name": "stdout",
          "output_type": "stream",
          "text": [
            "Input to the text_transform: A sentence in English probably won't contain the word 'hendese'.\n",
            "Output of the text_transform: [46, 3668, 8, 1879, 1758, 2500, 250, 6808, 1, 2518, 75, 0, 75, 3]\n"
          ]
        }
      ],
      "source": [
        "text_transform = lambda x: [vocab[token] for token in tokenizer(x)]\n",
        "\n",
        "# Print out the output of text_transform\n",
        "\n",
        "test_input = \"A sentence in English probably won't contain the word 'hendese'.\"\n",
        "\n",
        "print(f\"Input to the text_transform: {test_input}\")\n",
        "print(f\"Output of the text_transform: {text_transform(test_input)}\")"
      ]
    },
    {
      "cell_type": "code",
      "execution_count": null,
      "metadata": {
        "colab": {
          "base_uri": "https://localhost:8080/",
          "height": 452
        },
        "id": "pS-oz3qI-jm4",
        "outputId": "2e449505-5629-4083-d37a-fc4dab112c6d"
      },
      "outputs": [
        {
          "data": {
            "image/png": "[encoded data removed]",
            "text/plain": [
              "<Figure size 640x480 with 1 Axes>"
            ]
          },
          "metadata": {},
          "output_type": "display_data"
        }
      ],
      "source": [
        "import itertools\n",
        "from collections import Counter, OrderedDict\n",
        "\n",
        "words = list(itertools.chain.from_iterable(yield_tokens(ds['train']['text'])))\n",
        "\n",
        "counter = Counter(words)\n",
        "sorted_by_freq_tuples = sorted(counter.items(), key=lambda x: x[1], reverse=True)\n",
        "\n",
        "frequencies = [x[1] for x in sorted_by_freq_tuples]\n",
        "\n",
        "plt.plot(frequencies)\n",
        "plt.title('Sorted logarithmic frequencies of each word')\n",
        "# plt.xscale('log')\n",
        "plt.yscale('log')"
      ]
    },
    {
      "cell_type": "markdown",
      "metadata": {},
      "source": [
        "This function does the following:\n",
        "\n",
        "* Iterates over each row in the batch. (Batch size is defined later.)\n",
        "* Tokenizes the \"text\" column\n",
        "* Calculates the length of the text\n",
        "* Turns the text, label and \"checkpoints\" to tensors\n",
        "\n",
        "Since we use \"extend\" method of lists, we will have one giant list. To distinguish one sentence from another we need \"checkpoints\" based on the length of each sentence."
      ]
    },
    {
      "cell_type": "code",
      "execution_count": 9,
      "metadata": {
        "id": "x9fuJeqhAiW9"
      },
      "outputs": [],
      "source": [
        "def collate(batch):\n",
        "    texts, labels, offsets = [], [], [0]\n",
        "\n",
        "    for item in batch:\n",
        "        text, label = item.values()\n",
        "        texts.extend(text_transform(text))\n",
        "        offsets.append(len(text_transform(text)))\n",
        "        labels.append(label)\n",
        "\n",
        "    texts = torch.tensor(texts)\n",
        "    offsets = torch.tensor(offsets[:-1]).cumsum(dim=-1)\n",
        "    labels = torch.tensor(labels)\n",
        "\n",
        "    return texts, labels, offsets"
      ]
    },
    {
      "cell_type": "markdown",
      "metadata": {},
      "source": [
        "We can use this collate function inside the DataLoader class. Here we can define the dataset, batch size, and control shuffling."
      ]
    },
    {
      "cell_type": "code",
      "execution_count": 10,
      "metadata": {
        "colab": {
          "base_uri": "https://localhost:8080/"
        },
        "id": "9gfiwnQSDInL",
        "outputId": "c4eb99cc-387f-44eb-f81e-c69afab41f11"
      },
      "outputs": [
        {
          "data": {
            "text/plain": [
              "(tensor([   445,    572,   2057,  50436,   1196,   1718,      1,   1380,     14,\n",
              "             30,     15,     30,      5,   4033,      5,  10267,      2,    445,\n",
              "            420,     22,  95259,      7,   8377,      5,  39309,      2,     45,\n",
              "           4736,   3034,    372,      3,  17829,   5251,   6386,   7993,  10805,\n",
              "             14,     30,     15,     30,      5,   5024,    929,    354,  17829,\n",
              "          74890,     28,      6,   5044,     11,    514,    528,      5,  17101,\n",
              "              9, 101573,   2669,      8,      1,    799,    260,      2,     28,\n",
              "           4398, 102776,   8666,     10,    220,    353,      7,      1,    139,\n",
              "              3,    165,      9,   2763,  12828,    347,     75,   1953,     14,\n",
              "             30,     15,     30,      5,  10357,    714,    107,   4561,  32382,\n",
              "              1,    393,      9,      1,   1186,     11,    326,     45,    187,\n",
              "          62037,     43,      1,    388,    139,    116,     87,    207,      1,\n",
              "           7429,      7,  47842,  18184,      3,     73,  13729,    165,   9294,\n",
              "             31,  12873,   1589,   8212,     14,     30,     15,     30,      5,\n",
              "           7289,     41,   6113,     96,  95922,     31,      1,    924,   3947,\n",
              "              8,    802,     73,  90933,    661,      6,    925,   3164,     97,\n",
              "         107519,      2,     34,     96,    307,     26,     10,    117,      3,\n",
              "            165,    107,   7051,      4,    129,      5,     93,    148,      2,\n",
              "           8585,     42,  15528,      4,     38,    393,     14,     99,     15,\n",
              "             99,      5,  86452,     90,     96,    107,      2,  12501,   2106,\n",
              "              9,  18357,  10992,      2,   4106,      6,     42,    422,  15528,\n",
              "           3999,     89,    275,    171,      1,     38,    419,    592,      3,\n",
              "            347,   1304,    322,      2,    375,   1961,   1123,   7229,     14,\n",
              "             30,     15,     30,      5,    347,    751,   1482,    329,     10,\n",
              "          74052,   4856,    411,   3055,     11,      1,     47,     20,     96,\n",
              "            107,   2400,    389,     12,     13,  64532,    741,      2,  15541,\n",
              "              6,   1848,   1186,     31,    292, 100234,     69,     14,  15246,\n",
              "             15,   2659,   4297,  12843,      8,   3786,   1903,     14,     33,\n",
              "             15,     33,      5,  10130,      7,      1,    391,     22,   1087,\n",
              "            770,    139,   2454,   1614,    431,     27,     12,     13,  48497,\n",
              "            141,      8,      1,    325,     87,      4,     12,     13,  64623,\n",
              "           7282,      2,      1,   4170,   1258,   3484,     26,     60,      3,\n",
              "           1381,   1277,    597,  17525,     43,   1658,     14,   2251,     15,\n",
              "           2251,      5,   3240,    162,   7094,    119,      6,   1859,      8,\n",
              "           1215,      2,      9,     42,    693,     11,   4333,   1919,    431,\n",
              "             77,     87,      2,      1,    103,     26,     60,      2,   8057,\n",
              "              1,    393,     24,   2945,     31,      6,  31847,   4855,      3,\n",
              "           3939,   1408,     14,   3558,     15,   3558,      5,    247,  11527,\n",
              "              6,  81279,      8,  85282,      2,   5246,  68884,  10876,   1280,\n",
              "              4,    418,     20,      1,    835,    577,     21,      6,   1445,\n",
              "           1377,   3888,    354,     21,     34,   1015,   1821,   5716,      7,\n",
              "             12,     13,  64594,      3,   5462,     39,      2,      6,    570,\n",
              "          22817,   3112,     27,     35,   9779,      4,    852,    111,  92772,\n",
              "             79,    984,   1919,   1049,    238,     35,  10224,      3,    375,\n",
              "              2,     21,   3088,      2,     70,   1516,    984,     37,      1,\n",
              "          46269,   2108,     31,   1655,   3437,      2,     70,    113,  10876,\n",
              "              3,    445,    572,   2057,  50436,   1196,   1718,      1,   1380,\n",
              "             12,    118,    124,     14,     30,     15,      5,   4033,      5,\n",
              "          10267,      2,    445,    420,     22,  14637,     12,   3501,      7,\n",
              "           8377,      5,  39309,      2,     45,   4736,   3034,    372,      3,\n",
              "            165,      9,   2763,  12828,    347,     75,   1953,     12,    118,\n",
              "            124,     14,     30,     15,      5,  10357,    714,    107,   4561,\n",
              "           1740,     12,     79,      1,    393,      9,      1,   1186,     11,\n",
              "            326,     45,    187,      4,     12,   8568,     43,      1,    388,\n",
              "            139,    116,     87,    207,      1,   7429,      7,      1,     12,\n",
              "           1433,  18184,      3,    142,   6334,     11,   1561,      4,  16782,\n",
              "            475,      5,    315,  12562,     12,   4609,     14,     30,     15,\n",
              "              5,   1561,    140,    369,   2195,      4,  45965,  22892,     12,\n",
              "             96,    107,    114,    836,     45,    797, 102307,     27,   8381,\n",
              "             86,     12,   5029,    464,    128,     14,  14595,     15,      7,\n",
              "            714,      2,    315,     22,   1561,   3757,     26,     12,    117,\n",
              "              2,   1107,     17,    107,     97,    627,   1489,      3,  11658,\n",
              "              5,   1561,    656,   5812,    322,   6683,      5,  14524,     12,\n",
              "           4193,     14,     30,     15,      5,  11658,      5,   1561,     96,\n",
              "           4643,    397,   1950,     12,   2683,   1855,      4,   3063,    148,\n",
              "            714,    107,      2,   1561,    109,     12,  14524,  15426,     26,\n",
              "             10,     91,      3,    188,   1632,   6668,   1263,      4,  10695,\n",
              "           2215,     12,    316,     58,    118,    124,     14,     30,     15,\n",
              "              5,     18,   1942,     11,    188,     12,     69,     22,   3162,\n",
              "           2487,   1475,    426,    752,    720,    111,      4,      6,     12,\n",
              "          10973,    284,     10,     66,     39,      1,    224,    264,     62,\n",
              "          27452,     12,      6,  10915,     31,     64,   2887,   1104,      3,\n",
              "            904,   2072,  24490,     10,   1286,    969,   5764,     12,    118,\n",
              "            124,     14,     30,     15,      5,     18,    357,   5797,  11909,\n",
              "             10,     66,     12,     39,    349,   1731,      6,    148,     64,\n",
              "            390,   1427,      8,   1807,   3448,     12,   1156,   4331,     10,\n",
              "              1,    393,     22,   1707,      9,     23,   2744,      4,   1344,\n",
              "             12,    635,    566,      4,   1033,      1,    750,   4057,      3,\n",
              "          54764,     34,   1792,  55127,    800,    191,   1530,    191,    135,\n",
              "            858,      4,    219,    448,   7781,   4486,     19,     44,   8249,\n",
              "              2,    369,    250,     40,   7448,     79,   1361,      1,    770,\n",
              "           1559,     51,    794,      3]),\n",
              " tensor([2, 2, 2, 2, 2, 2, 2, 2, 2, 2, 2, 2, 2, 2, 2, 2]),\n",
              " tensor([  0,  31,  73, 113, 153, 198, 244, 288, 333, 415, 450, 498, 557, 597,\n",
              "         648, 702]))"
            ]
          },
          "execution_count": 10,
          "metadata": {},
          "output_type": "execute_result"
        }
      ],
      "source": [
        "from torch.utils.data import DataLoader\n",
        "\n",
        "train_loader = DataLoader(ds['train'],\n",
        "                          batch_size=16,\n",
        "                          shuffle=False,\n",
        "                          collate_fn = collate)\n",
        "\n",
        "next(iter(train_loader))"
      ]
    },
    {
      "cell_type": "markdown",
      "metadata": {
        "id": "C2EyRgkIBZmM"
      },
      "source": [
        "Define the model\n",
        "----------------\n",
        "\n",
        "The model is composed of the [nn.EmbeddingBag](<https://pytorch.org/docs/stable/nn.html?highlight=embeddingbag#torch.nn.EmbeddingBag>) layer plus a linear layer for the classification purpose. ``nn.EmbeddingBag`` with the default mode of \"mean\" computes the mean value of a “bag” of embeddings. Although the text entries here have different lengths, nn.EmbeddingBag module requires no padding here since the text lengths are saved in offsets.\n",
        "\n",
        "Additionally, since ``nn.EmbeddingBag`` accumulates the average across\n",
        "the embeddings on the fly, ``nn.EmbeddingBag`` can enhance the\n",
        "performance and memory efficiency to process a sequence of tensors.\n",
        "\n",
        "![](https://pytorch.org/tutorials/_images/text_sentiment_ngrams_model.png)"
      ]
    },
    {
      "cell_type": "code",
      "execution_count": 11,
      "metadata": {
        "id": "x6AcGnNiI5za"
      },
      "outputs": [],
      "source": [
        "from torch import nn\n",
        "\n",
        "class TextClassificationModel(nn.Module):\n",
        "\n",
        "    def __init__(self, vocab_size, embed_dim, num_class):\n",
        "        super(TextClassificationModel, self).__init__()\n",
        "        self.embedding = nn.EmbeddingBag(vocab_size, embed_dim) #, sparse=True)\n",
        "        self.fc = nn.Linear(embed_dim, num_class)\n",
        "        self.init_weights()\n",
        "\n",
        "    def init_weights(self):\n",
        "        initrange = 0.5\n",
        "        self.embedding.weight.data.uniform_(-initrange, initrange)\n",
        "        self.fc.weight.data.uniform_(-initrange, initrange)\n",
        "        self.fc.bias.data.zero_()\n",
        "\n",
        "    def forward(self, text, offset):\n",
        "        embedded = self.embedding(text, offset)\n",
        "        return self.fc(embedded)"
      ]
    },
    {
      "cell_type": "markdown",
      "metadata": {
        "id": "niRUlCBpEEsy"
      },
      "source": [
        "We will first initialize hyperparameters of our model, such as the vocabulary size and embedding dimension. With these, we can then initialize the model. This will also call the `init_weights` method automatically."
      ]
    },
    {
      "cell_type": "code",
      "execution_count": 12,
      "metadata": {
        "id": "GZTehhb8I9JY"
      },
      "outputs": [],
      "source": [
        "num_class = len(set([x['label'] for x in ds['train']]))\n",
        "vocab_size = len(vocab)\n",
        "emsize = 64\n",
        "\n",
        "device = \"cuda\" if torch.cuda.is_available() else \"cpu\"\n",
        "\n",
        "model = TextClassificationModel(vocab_size, emsize, num_class).to(device)"
      ]
    },
    {
      "cell_type": "markdown",
      "metadata": {
        "id": "_nI2EDR0ET1J"
      },
      "source": [
        "We can use predefined functions to train and evaluate the model at each epoch. Please note that each batch is sent to cuda separately. If this assignment is done elsewhere, it can cause you to run out of VRAM."
      ]
    },
    {
      "cell_type": "code",
      "execution_count": 14,
      "metadata": {
        "id": "ysWVwyjdJzlZ"
      },
      "outputs": [],
      "source": [
        "def accuracy(preds, y):\n",
        "    \"\"\" Return accuracy per batch. \"\"\"\n",
        "    preds = torch.argmax(preds, dim=-1)\n",
        "    correct = (preds == y).float()\n",
        "    return correct.sum() / len(correct)\n",
        "\n",
        "def train(model, iterator, optimizer, criterion):\n",
        "    '''Train the model with specified data, optimizer, and loss function. '''\n",
        "    epoch_loss = 0\n",
        "    epoch_acc = 0\n",
        "\n",
        "    model.train()\n",
        "\n",
        "    for text, label, offset in iterator:\n",
        "        text, label, offset = text.to(device), label.to(device), offset.to(device)\n",
        "\n",
        "        predictions = model(text, offset)\n",
        "        loss = criterion(predictions, label)\n",
        "\n",
        "        optimizer.zero_grad()\n",
        "        loss.backward()\n",
        "        optimizer.step()\n",
        "\n",
        "        acc = accuracy(predictions, label)\n",
        "\n",
        "        epoch_loss += loss.item()\n",
        "        epoch_acc += acc.item()\n",
        "\n",
        "    return epoch_loss / len(iterator), epoch_acc / len(iterator)\n",
        "\n",
        "\n",
        "def evaluate(model, iterator, criterion):\n",
        "    '''Evaluate model performance. '''\n",
        "    epoch_loss = 0\n",
        "    epoch_acc = 0\n",
        "\n",
        "    # Turm off dropout while evaluating\n",
        "    model.eval()\n",
        "\n",
        "    # No need to backprop in eval\n",
        "    with torch.no_grad():\n",
        "        for text, label, offset in iterator:\n",
        "            text, label, offset = text.to(device), label.to(device), offset.to(device)\n",
        "\n",
        "            predictions = model(text, offset)\n",
        "            loss = criterion(predictions, label)\n",
        "            acc = accuracy(predictions, label)\n",
        "\n",
        "            epoch_loss += loss.item()\n",
        "            epoch_acc += acc.item()\n",
        "\n",
        "    return epoch_loss / len(iterator), epoch_acc / len(iterator)"
      ]
    },
    {
      "cell_type": "markdown",
      "metadata": {
        "id": "0ofgBZD4D3xH"
      },
      "source": [
        "Initiating DataLoaders and Training Utilities\n",
        "-----------------------------------\n",
        "\n",
        "Since the original ``AG_NEWS`` has no validation split, we can separate the training\n",
        "set into train/valid sets with a split ratio of 0.95 (train) and\n",
        "0.05 (valid). Here we use\n",
        "[torch.utils.data.dataset.random_split](<https://pytorch.org/docs/stable/data.html?highlight=random_split#torch.utils.data.random_split>)\n",
        "function in PyTorch core library.\n",
        "\n",
        "\n",
        "[CrossEntropyLoss](<https://pytorch.org/docs/stable/nn.html?highlight=crossentropyloss#torch.nn.CrossEntropyLoss>)\n",
        "criterion combines ``nn.LogSoftmax()`` and ``nn.NLLLoss()`` in a single class.\n",
        "It is useful when training a classification problem with C classes.\n",
        "[SGD](<https://pytorch.org/docs/stable/_modules/torch/optim/sgd.html>)\n",
        "implements stochastic gradient descent method as the optimizer. The initial\n",
        "learning rate is set to 5.0.\n",
        "[StepLR](<https://pytorch.org/docs/master/_modules/torch/optim/lr_scheduler.html#StepLR>)\n",
        "is used here to adjust the learning rate through epochs."
      ]
    },
    {
      "cell_type": "code",
      "execution_count": 15,
      "metadata": {
        "id": "i6jU_hFvKyxB"
      },
      "outputs": [],
      "source": [
        "from torch.utils.data.dataset import random_split\n",
        "\n",
        "n_epochs = 10\n",
        "\n",
        "criterion = torch.nn.CrossEntropyLoss()\n",
        "optimizer = torch.optim.SGD(model.parameters(), lr=5)\n",
        "scheduler = torch.optim.lr_scheduler.StepLR(optimizer, 1.0, gamma=0.1)\n",
        "\n",
        "train_split, val_split = random_split(ds['train'], [0.95, 0.05])\n",
        "\n",
        "from torch.utils.data import DataLoader\n",
        "\n",
        "train_loader = DataLoader(train_split,\n",
        "                          batch_size=16,\n",
        "                          shuffle=False,\n",
        "                          collate_fn = collate)\n",
        "\n",
        "val_loader = DataLoader(val_split,\n",
        "                        batch_size=16,\n",
        "                        shuffle=False,\n",
        "                        collate_fn = collate)\n",
        "\n",
        "test_loader = DataLoader(ds['test'],\n",
        "                        batch_size=16,\n",
        "                        shuffle=False,\n",
        "                        collate_fn = collate)"
      ]
    },
    {
      "cell_type": "code",
      "execution_count": 16,
      "metadata": {
        "colab": {
          "base_uri": "https://localhost:8080/"
        },
        "id": "ebomiV2gWCZO",
        "outputId": "1182f9c2-e191-4fc6-a479-83ef626f66e0"
      },
      "outputs": [
        {
          "data": {
            "text/plain": [
              "TextClassificationModel(\n",
              "  (embedding): EmbeddingBag(110933, 64, mode='mean')\n",
              "  (fc): Linear(in_features=64, out_features=4, bias=True)\n",
              ")"
            ]
          },
          "execution_count": 16,
          "metadata": {},
          "output_type": "execute_result"
        }
      ],
      "source": [
        "model"
      ]
    },
    {
      "cell_type": "markdown",
      "metadata": {
        "id": "fR9ejVILE_mP"
      },
      "source": [
        "To take a quick look at what the model does let's give an example pair of \"sentences\". Here the tokens [1,2] would correspond to the first sentence, and the next one begins at index 2 and follows until the end.\n",
        "\n",
        "We get 4 logits representing the activation of each class."
      ]
    },
    {
      "cell_type": "code",
      "execution_count": 17,
      "metadata": {
        "colab": {
          "base_uri": "https://localhost:8080/"
        },
        "id": "8RsR8vGUX30P",
        "outputId": "868eab36-1df5-4953-fc4f-edb2572fb22f"
      },
      "outputs": [
        {
          "data": {
            "text/plain": [
              "tensor([[ 1.4036,  0.4197, -0.0831, -0.1600],\n",
              "        [ 0.1536,  0.1166, -0.4576, -0.1929]], device='cuda:0',\n",
              "       grad_fn=<AddmmBackward0>)"
            ]
          },
          "execution_count": 17,
          "metadata": {},
          "output_type": "execute_result"
        }
      ],
      "source": [
        "a = torch.tensor([1,2,3,4,5,1]).to(device)\n",
        "c = torch.tensor([0,2]).to(device)\n",
        "\n",
        "model(a,c)"
      ]
    },
    {
      "cell_type": "markdown",
      "metadata": {
        "id": "quzWIKf7uX6B"
      },
      "source": [
        "## Training the Neural Network"
      ]
    },
    {
      "cell_type": "code",
      "execution_count": 18,
      "metadata": {
        "colab": {
          "base_uri": "https://localhost:8080/"
        },
        "id": "w5vBFaWdKJzW",
        "outputId": "4d67cba0-4de3-4b40-e490-02e5729701ee"
      },
      "outputs": [
        {
          "name": "stdout",
          "output_type": "stream",
          "text": [
            "Epoch  1 ended.\n",
            "\tTrain Loss: 0.403 | Train Acc: 85.72%\n",
            "\t Val. Loss: 0.316 |  Val. Acc: 89.63%\n",
            "Epoch  2 ended.\n",
            "\tTrain Loss: 0.250 | Train Acc: 91.74%\n",
            "\t Val. Loss: 0.313 |  Val. Acc: 90.10%\n",
            "Epoch  3 ended.\n",
            "\tTrain Loss: 0.205 | Train Acc: 93.29%\n",
            "\t Val. Loss: 0.323 |  Val. Acc: 90.05%\n",
            "Epoch  4 ended.\n",
            "\tTrain Loss: 0.139 | Train Acc: 95.41%\n",
            "\t Val. Loss: 0.290 |  Val. Acc: 91.20%\n",
            "Epoch  5 ended.\n",
            "\tTrain Loss: 0.128 | Train Acc: 95.81%\n",
            "\t Val. Loss: 0.295 |  Val. Acc: 91.22%\n",
            "Epoch  6 ended.\n",
            "\tTrain Loss: 0.121 | Train Acc: 96.05%\n",
            "\t Val. Loss: 0.300 |  Val. Acc: 91.28%\n",
            "Epoch  7 ended.\n",
            "\tTrain Loss: 0.116 | Train Acc: 96.21%\n",
            "\t Val. Loss: 0.305 |  Val. Acc: 91.35%\n",
            "Epoch  8 ended.\n",
            "\tTrain Loss: 0.111 | Train Acc: 96.39%\n",
            "\t Val. Loss: 0.311 |  Val. Acc: 91.38%\n",
            "Epoch  9 ended.\n",
            "\tTrain Loss: 0.106 | Train Acc: 96.56%\n",
            "\t Val. Loss: 0.316 |  Val. Acc: 91.38%\n",
            "Epoch 10 ended.\n",
            "\tTrain Loss: 0.102 | Train Acc: 96.69%\n",
            "\t Val. Loss: 0.322 |  Val. Acc: 91.28%\n"
          ]
        }
      ],
      "source": [
        "tr_acc = []\n",
        "val_acc = []\n",
        "lr = []\n",
        "\n",
        "total_acc = None\n",
        "\n",
        "for epoch in range(n_epochs):\n",
        "\n",
        "    # Get epoch losses and accuracies\n",
        "    train_loss, train_acc = train(model, train_loader, optimizer, criterion)\n",
        "    valid_loss, valid_acc = evaluate(model, val_loader, criterion)\n",
        "\n",
        "    if total_acc is not None and total_acc > valid_acc:\n",
        "      scheduler.step()\n",
        "    else:\n",
        "       total_acc = valid_acc\n",
        "\n",
        "    tr_acc.append(train_acc)\n",
        "    val_acc.append(valid_acc)\n",
        "    lr.append(optimizer.param_groups[0]['lr'])\n",
        "\n",
        "    print(f'Epoch {epoch+1:2} ended.')\n",
        "    print(f'\\tTrain Loss: {train_loss:.3f} | Train Acc: {train_acc*100:.2f}%')\n",
        "    print(f'\\t Val. Loss: {valid_loss:.3f} |  Val. Acc: {valid_acc*100:.2f}%')"
      ]
    },
    {
      "cell_type": "code",
      "execution_count": 21,
      "metadata": {},
      "outputs": [
        {
          "name": "stderr",
          "output_type": "stream",
          "text": [
            "No artists with labels found to put in legend.  Note that artists whose label start with an underscore are ignored when legend() is called with no argument.\n"
          ]
        },
        {
          "data": {
            "image/png": "[encoded data removed]",
            "text/plain": [
              "<Figure size 1100x500 with 2 Axes>"
            ]
          },
          "metadata": {},
          "output_type": "display_data"
        }
      ],
      "source": [
        "import matplotlib.pyplot as plt\n",
        "\n",
        "fig, ax = plt.subplots(1, 2, figsize=(11,5))\n",
        "\n",
        "ax[0].plot(range(1,11), tr_acc, label='Training Acc.')\n",
        "ax[0].plot(range(1,11), val_acc, label='Validation Acc.')\n",
        "ax[0].set_title('Accuracy on different sets')\n",
        "ax[0].set_xlabel('Epoch')\n",
        "ax[0].legend()\n",
        "\n",
        "ax[1].plot(range(1,11), lr, c='r')\n",
        "ax[1].set_title('Learning Rates')\n",
        "ax[1].set_xlabel('Epoch')\n",
        "ax[1].set_yscale('log')\n",
        "\n",
        "plt.show()\n"
      ]
    },
    {
      "cell_type": "markdown",
      "metadata": {
        "id": "35ynujwKFkJW"
      },
      "source": [
        "Let's now evaluate the model performance on unseen examples."
      ]
    },
    {
      "cell_type": "code",
      "execution_count": 22,
      "metadata": {
        "colab": {
          "base_uri": "https://localhost:8080/"
        },
        "id": "Wh8Wl_8XOefD",
        "outputId": "dd835571-5926-4600-ecab-98f0679f5185"
      },
      "outputs": [
        {
          "name": "stdout",
          "output_type": "stream",
          "text": [
            "Accuracy of our model on the test set is: 91.21%\n"
          ]
        }
      ],
      "source": [
        "_, test_acc = evaluate(model, test_loader, criterion)\n",
        "print(f'Accuracy of our model on the test set is: {test_acc:.2%}')"
      ]
    },
    {
      "cell_type": "code",
      "execution_count": 23,
      "metadata": {
        "colab": {
          "base_uri": "https://localhost:8080/"
        },
        "id": "0mILzQS3OlDV",
        "outputId": "81ca046b-b056-4750-e276-d6a0a9531a8f"
      },
      "outputs": [
        {
          "name": "stdout",
          "output_type": "stream",
          "text": [
            "This is a Sports article according to our model. (Confidence: 62.09%)\n"
          ]
        }
      ],
      "source": [
        "ag_news_label = {1: \"World\",\n",
        "                 2: \"Sports\",\n",
        "                 3: \"Business\",\n",
        "                 4: \"Sci/Tec\"}\n",
        "\n",
        "\n",
        "def predict(text, text_transform):\n",
        "    model.eval()\n",
        "    with torch.no_grad():\n",
        "        text = torch.tensor(text_transform(text)).to(device)\n",
        "        output = model(text, torch.tensor([0]).to(device))\n",
        "        pred = output.argmax(1).item()\n",
        "\n",
        "        soft = torch.nn.Softmax(dim=-1)\n",
        "        probs = soft(output).squeeze()\n",
        "        return pred+1, probs[pred].item()\n",
        "    model.train()\n",
        "\n",
        "ex_text_str = \"MEMPHIS, Tenn. – Four days ago, Jon Rahm was \\\n",
        "    enduring the season’s worst weather conditions on Sunday at The \\\n",
        "    Open on his way to a closing 75 at Royal Portrush, which \\\n",
        "    considering the wind and the rain was a respectable showing. \\\n",
        "    Thursday’s first round at the WGC-FedEx St. Jude Invitational \\\n",
        "    was another story. With temperatures in the mid-80s and hardly any \\\n",
        "    wind, the Spaniard was 13 strokes better in a flawless round. \\\n",
        "    Thanks to his best putting performance on the PGA Tour, Rahm \\\n",
        "    finished with an 8-under 62 for a three-stroke lead, which \\\n",
        "    was even more impressive considering he’d never played the \\\n",
        "    front nine at TPC Southwind.\"\n",
        "\n",
        "_pred, _prob = predict(ex_text_str, text_transform)\n",
        "\n",
        "print(f'This is a {ag_news_label[_pred]} article according to our model. (Confidence: {_prob:.2%})')\n"
      ]
    },
    {
      "cell_type": "code",
      "execution_count": 24,
      "metadata": {
        "colab": {
          "base_uri": "https://localhost:8080/"
        },
        "id": "Jp4vu1hPbCIN",
        "outputId": "065f1367-5334-4ded-a9da-ea41748c0a14"
      },
      "outputs": [
        {
          "name": "stdout",
          "output_type": "stream",
          "text": [
            "This is a Sci/Tec article according to our model. (Confidence: 48.29%)\n"
          ]
        }
      ],
      "source": [
        "other_ex = \"Hurricane Otis ripped across Mexico’s southern Pacific coast as a powerful Category 5 \\\n",
        "storm early Wednesday, tearing through buildings in the resort city of Acapulco, sending \\\n",
        "sheets of earth down steep mountainsides and leaving large swaths of the southwestern \\\n",
        "state of Guerrero without power or cellphone service. While little is known about \\\n",
        "possible deaths or the full extent of the damage — the main highway into Acapulco \\\n",
        "was impassable — experts are calling Otis the strongest storm in history to make \\\n",
        "landfall along the Eastern Pacific Coast.\"\n",
        "\n",
        "_pred, _prob = predict(other_ex, text_transform)\n",
        "\n",
        "print(f'This is a {ag_news_label[_pred]} article according to our model. (Confidence: {_prob:.2%})')"
      ]
    },
    {
      "cell_type": "markdown",
      "metadata": {
        "id": "upTgruIZFtnc"
      },
      "source": [
        "Although results aren't bad, the model struggles somewhat in classifying the first paragraph, which turns out to be about golfing."
      ]
    }
  ],
  "metadata": {
    "accelerator": "GPU",
    "colab": {
      "gpuType": "T4",
      "provenance": []
    },
    "kernelspec": {
      "display_name": "base",
      "language": "python",
      "name": "python3"
    },
    "language_info": {
      "codemirror_mode": {
        "name": "ipython",
        "version": 3
      },
      "file_extension": ".py",
      "mimetype": "text/x-python",
      "name": "python",
      "nbconvert_exporter": "python",
      "pygments_lexer": "ipython3",
      "version": "3.10.13"
    }
  },
  "nbformat": 4,
  "nbformat_minor": 0
}
