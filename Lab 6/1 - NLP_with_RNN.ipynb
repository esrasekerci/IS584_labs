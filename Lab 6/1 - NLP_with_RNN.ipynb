{
  "cells": [
    {
      "cell_type": "markdown",
      "metadata": {
        "colab_type": "text",
        "id": "view-in-github"
      },
      "source": [
        "<a href=\"https://colab.research.google.com/github/volgasezen/is584/blob/main/Lab 6/1 - NLP_with_RNN.ipynb\" target=\"_parent\"><img src=\"https://colab.research.google.com/assets/colab-badge.svg\" alt=\"Open In Colab\"/></a>"
      ]
    },
    {
      "cell_type": "markdown",
      "metadata": {
        "id": "cD3JzCFAuJ1w"
      },
      "source": [
        "<h1 style=\"margin-bottom:0\">IS 584: Deep Learning for Text Analytics</center></h1>\n",
        "<br>\n",
        "<h3 style=\"margin-top:0\">Lab 6: RNN Based Text Generator</center></h2>\n",
        "<h4 style=\"margin-top:0\">Given by Volga Sezen</center></h4>\n",
        "<i>\n",
        "\n",
        "Thanks to Arif Ozan Kızıldağ\n",
        "\n",
        "</i></center>\n",
        "<br>\n",
        "\n",
        "-----------"
      ]
    },
    {
      "cell_type": "markdown",
      "metadata": {
        "id": "XKrs-_q_xnmg"
      },
      "source": [
        "In this tutorial, we will explore Recurrent Neural Networks (RNNs) by creating a character-level language model that will generate text similar to Shakespeare's works. For this purpose, we will use the `tiny Shakespeare` data set prepared by Andrej Karpaty mentioned in his blog post [The Unreasonable Effectiveness of Recurrent Neural Networks]( http://karpathy.github.io/2015/05/21/rnn-effectiveness/).\n",
        "\n",
        "In the previous tutorials, we used `TorchText` to process the data and create batches, but this time we will write simple function for processing the data and creating batches.\n",
        "\n",
        "Let’s start by importing the required libraries.\n"
      ]
    },
    {
      "cell_type": "code",
      "execution_count": 1,
      "metadata": {
        "id": "sxNaF4n8t798"
      },
      "outputs": [],
      "source": [
        "import numpy as np\n",
        "import torch\n",
        "from torch import nn\n",
        "import torch.nn.functional as F"
      ]
    },
    {
      "cell_type": "markdown",
      "metadata": {
        "id": "cmXoqoN3TYdF"
      },
      "source": [
        "# Recap on LSTM\n"
      ]
    },
    {
      "cell_type": "markdown",
      "metadata": {
        "id": "Jb7XcMW5Tdai"
      },
      "source": [
        "Before we continue onto the example, let’s recap LSTM and PyTorch functions on RNN architecture. \n",
        "\n",
        "PyTorch has a few [different RNN](https://pytorch.org/docs/stable/nn.html#recurrent-layers) approaches: Cell and multilayer methods. The cell method creates a single cell for that method. For example, [nn.LSTMCell](https://pytorch.org/docs/stable/generated/torch.nn.LSTMCell.html#torch.nn.LSTMCell) creates a single LSTM block. On the other hand [nn.LSTM](https://pytorch.org/docs/stable/generated/torch.nn.LSTM.html#torch.nn.LSTM) creates an LSTM architecture with a single or multiple layers.\n"
      ]
    },
    {
      "cell_type": "markdown",
      "metadata": {
        "id": "UeXVW3lHWveq"
      },
      "source": [
        "As mentioned previously, we will be using the LSTM model. Let’s start with the `nn.LSTM` function. Let's go over its parameters first;\n",
        "* input_size: This is the size of inputs. In our case, it will be equal to the embedding size.\n",
        "* hidden_size:  It is the size of the hidden state h. (It is also equal to the size of the cell state c).\n",
        "* num_layers: It is the depth of the LSTM (i.e. stacked LSTM). Its default value is 1. \n",
        "* bias: Whether the layers have biases or not. Its default value is True.\n",
        "* batch_first: Similar to the other functions in PyTorch/TorchText, if true, it orders input and outputs as batch, seq, and feature. Its default value is false.\n",
        "* dropout: If it is not zero, dropout is applied to the end of each layer ***except the last one***. Its default value is 0.\n",
        "* bidirectional: If set true, it changes architecture to Bidirectional LSTM. Its default value is False.\n"
      ]
    },
    {
      "cell_type": "code",
      "execution_count": 2,
      "metadata": {
        "id": "T1aCr6o3aoZN"
      },
      "outputs": [],
      "source": [
        "rnn = nn.LSTM(10, 20, 2) #input_size, hidden_size, num_layers\n",
        "input = torch.randn(5, 3, 10)\n",
        "h0 = torch.randn(2, 3, 20)  #num_layers, batch_size, hidden_size\n",
        "c0 = torch.randn(2, 3, 20)\n",
        "output, (hn, cn) = rnn(input, (h0, c0))"
      ]
    },
    {
      "cell_type": "markdown",
      "metadata": {
        "id": "M1CrckUobDa9"
      },
      "source": [
        "As you can see from the above example, we have an embedding size of 10, hidden sizes of 20, and a 2-layer LSTM architecture. The hidden layer (cell state) is a three-dimensional tensor with dimensions equal to num_layers, batch_size, and hidden size. While calling the LSTM layer, we will feed our input and hidden states to our function. Please note that for the LSTM layer, you need to convert hidden and cell states as a tuple.\n",
        "\n",
        "nn.LSTM module also works if we don’t give any hidden state. In this case, it will automatically create zero-tensors for hidden states."
      ]
    },
    {
      "cell_type": "markdown",
      "metadata": {
        "id": "Qwde-29okhhu"
      },
      "source": [
        "PyTorch uses the following formulation of gates and layers:\n",
        "\n",
        "$ i_t = \\sigma(W_{ii}x_t + b_{ii} + W_{hi}h_{t-1} + b_{hi}) \\\\\n",
        "f_t = \\sigma(W_{if}x_t + b_{if} + W_{hf}h_{t-1} + b_{hf}) \\\\\n",
        "g_t = \\tanh(W_{ig}x_t + b_{ig} + W_{hg}h_{t-1} + b_{hg}) \\\\\n",
        "o_t = \\sigma(W_{io}x_t + b_{io} + W_{ho}h_{t-1} + b_{ho}) \\\\\n",
        "c_t = f_t c_{t-1} + i_t \\odot g_t \\\\\n",
        "h_t = o_t \\odot \\tanh(c_t) $\n",
        "\n",
        "where:\n",
        "* $h_t$​ is the hidden state at time $t$, \n",
        "* $c_t$​ is the cell state at time $t$, \n",
        "* $x_t$​ is the input at time t, \n",
        "* $h_{t-1}$ is the hidden state of the layer at time $t-1$ or the initial hidden state at time 0, and \n",
        "* $i_t​, f_t, g_t, o_t$ are the input, forget, cell, and output gates, respectively. \n",
        "\n",
        "$\\sigma$ is the sigmoid function, and $\\odot$ is the Hadamard product. \n",
        "\n",
        "Official documentation where the explanations were taken from: [`torch.nn.LSTM`](https://pytorch.org/docs/stable/generated/torch.nn.LSTM.html)"
      ]
    },
    {
      "cell_type": "markdown",
      "metadata": {
        "id": "TFWx7pHfnMae"
      },
      "source": [
        "Let's try to visualize this information. Before we start, here is a graph for overall LSTM architecture."
      ]
    },
    {
      "cell_type": "markdown",
      "metadata": {
        "id": "_KzAEtx1pBfY"
      },
      "source": [
        "![1_mcHP77YF63SuqUGAIiBBsA[1].jpeg](data:image/jpeg;base64,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)"
      ]
    },
    {
      "cell_type": "markdown",
      "metadata": {
        "id": "HiVnNHx8pFCw"
      },
      "source": [
        "Image taken from: [https://medium.datadriveninvestor.com/time-series-predictions-with-lstm-4877c38d87d1](https://medium.datadriveninvestor.com/time-series-predictions-with-lstm-4877c38d87d1)"
      ]
    },
    {
      "cell_type": "markdown",
      "metadata": {
        "id": "HU_y55SYp91-"
      },
      "source": [
        "## Loading Data"
      ]
    },
    {
      "cell_type": "markdown",
      "metadata": {
        "id": "ZK2I0y0inxXj"
      },
      "source": [
        "Let us start getting our data. If you are using Google Colab, you may want to install `input.text` to your drive."
      ]
    },
    {
      "cell_type": "code",
      "execution_count": 3,
      "metadata": {
        "colab": {
          "base_uri": "https://localhost:8080/"
        },
        "id": "8ZJLcB_MADAL",
        "outputId": "291d4836-fa17-4701-a5e3-67c2e5163941"
      },
      "outputs": [
        {
          "name": "stderr",
          "output_type": "stream",
          "text": [
            "--2025-04-13 14:49:54--  https://github.com/karpathy/char-rnn/raw/master/data/tinyshakespeare/input.txt\n",
            "Resolving github.com (github.com)... 140.82.121.4\n",
            "Connecting to github.com (github.com)|140.82.121.4|:443... connected.\n",
            "HTTP request sent, awaiting response... 302 Found\n",
            "Location: https://raw.githubusercontent.com/karpathy/char-rnn/master/data/tinyshakespeare/input.txt [following]\n",
            "--2025-04-13 14:49:55--  https://raw.githubusercontent.com/karpathy/char-rnn/master/data/tinyshakespeare/input.txt\n",
            "Resolving raw.githubusercontent.com (raw.githubusercontent.com)... 185.199.111.133, 185.199.108.133, 185.199.109.133, ...\n",
            "Connecting to raw.githubusercontent.com (raw.githubusercontent.com)|185.199.111.133|:443... connected.\n",
            "HTTP request sent, awaiting response... 200 OK\n",
            "Length: 1115394 (1.1M) [text/plain]\n",
            "Saving to: 'input.txt'\n",
            "\n",
            "     0K .......... .......... .......... .......... ..........  4% 1.16M 1s\n",
            "    50K .......... .......... .......... .......... ..........  9% 1.46M 1s\n",
            "   100K .......... .......... .......... .......... .......... 13% 4.69M 1s\n",
            "   150K .......... .......... .......... .......... .......... 18% 6.01M 0s\n",
            "   200K .......... .......... .......... .......... .......... 22% 1.81M 0s\n",
            "   250K .......... .......... .......... .......... .......... 27% 9.72M 0s\n",
            "   300K .......... .......... .......... .......... .......... 32% 11.1M 0s\n",
            "   350K .......... .......... .......... .......... .......... 36% 13.4M 0s\n",
            "   400K .......... .......... .......... .......... .......... 41% 13.7M 0s\n",
            "   450K .......... .......... .......... .......... .......... 45% 2.45M 0s\n",
            "   500K .......... .......... .......... .......... .......... 50% 7.39M 0s\n",
            "   550K .......... .......... .......... .......... .......... 55% 9.72M 0s\n",
            "   600K .......... .......... .......... .......... .......... 59% 16.5M 0s\n",
            "   650K .......... .......... .......... .......... .......... 64% 26.5M 0s\n",
            "   700K .......... .......... .......... .......... .......... 68% 28.5M 0s\n",
            "   750K .......... .......... .......... .......... .......... 73% 28.3M 0s\n",
            "   800K .......... .......... .......... .......... .......... 78% 21.9M 0s\n",
            "   850K .......... .......... .......... .......... .......... 82% 34.0M 0s\n",
            "   900K .......... .......... .......... .......... .......... 87% 28.0M 0s\n",
            "   950K .......... .......... .......... .......... .......... 91% 5.61M 0s\n",
            "  1000K .......... .......... .......... .......... .......... 96% 4.20M 0s\n",
            "  1050K .......... .......... .......... .........            100% 21.1M=0.2s\n",
            "\n",
            "2025-04-13 14:49:55 (5.19 MB/s) - 'input.txt' saved [1115394/1115394]\n",
            "\n"
          ]
        }
      ],
      "source": [
        "!wget https://github.com/karpathy/char-rnn/raw/master/data/tinyshakespeare/input.txt"
      ]
    },
    {
      "cell_type": "code",
      "execution_count": 4,
      "metadata": {
        "id": "T8MV5PQJoj7i"
      },
      "outputs": [],
      "source": [
        "with open('input.txt', 'r') as f:\n",
        "    text = f.read()"
      ]
    },
    {
      "cell_type": "markdown",
      "metadata": {
        "id": "Ig-MCwAJqB2H"
      },
      "source": [
        "## Data preparation"
      ]
    },
    {
      "cell_type": "markdown",
      "metadata": {
        "id": "Yi30DK_NpM9v"
      },
      "source": [
        "First, we need easy access to characters to create a character-level language model. Luckily, because our data is a string (i.e., char-array), we can easily access characters from text."
      ]
    },
    {
      "cell_type": "code",
      "execution_count": 5,
      "metadata": {
        "colab": {
          "base_uri": "https://localhost:8080/"
        },
        "id": "F0_vjQupowKD",
        "outputId": "86513f02-3d3a-45a5-b9d6-255f621bafe1"
      },
      "outputs": [
        {
          "name": "stdout",
          "output_type": "stream",
          "text": [
            "\u001b[1mFirst 100 characters:\n",
            "\u001b[0m First Citizen:\n",
            "Before we proceed any further, hear me speak.\n",
            "\n",
            "All:\n",
            "Speak, speak.\n",
            "\n",
            "First Citizen:\n",
            "You\n",
            "\u001b[1m\n",
            "3891st character:\n",
            "\u001b[0m v\n"
          ]
        }
      ],
      "source": [
        "print(\"\\033[1m\"+'First 100 characters:\\n'+\"\\033[0m\",text[:100])  # In chararray\n",
        "print(\"\\033[1m\"+'\\n3891st character:\\n'+\"\\033[0m\", text[3891]) "
      ]
    },
    {
      "cell_type": "markdown",
      "metadata": {
        "id": "RUWUZmGhq6_F"
      },
      "source": [
        "Again, due to the nature of the character-level language model, we don’t need tokenization. We only need to create our vocabulary and dictionaries to convert characters to int and int to the character."
      ]
    },
    {
      "cell_type": "code",
      "execution_count": 6,
      "metadata": {
        "colab": {
          "base_uri": "https://localhost:8080/"
        },
        "id": "5Oenqs1prcfy",
        "outputId": "525d9815-4f16-461a-88c7-1ef7abe2d6b4"
      },
      "outputs": [
        {
          "name": "stdout",
          "output_type": "stream",
          "text": [
            "Length of the vocabulary:  65\n",
            "Character 'a' is 43 and char 'A' is  48\n",
            "\u001b[1mFirst 100 characters as int :\n",
            "\u001b[0m [30 17 44 19 57 58 15 17 57 17 50 12  7 27  6  3 12 35 32 44 12 58  4 12\n",
            " 58 47 44 32 56 12 12 24 58 43  7  8 58 35 10 44 57 45 12 44 16 58 45 12\n",
            " 43 44 58 22 12 58 19 47 12 43 62  1  6  6 48  2  2 27  6 25 47 12 43 62\n",
            " 16 58 19 47 12 43 62  1  6  6 30 17 44 19 57 58 15 17 57 17 50 12  7 27\n",
            "  6 23 32 10]\n"
          ]
        }
      ],
      "source": [
        "chars = tuple(set(text))    #get characters present in the text\n",
        "int2char = dict(enumerate(chars))   #dictionary for int to character conversion\n",
        "char2int = {ch: i for i, ch in int2char.items()} #dictionary for character to int conversion\n",
        "\n",
        "text_as_int = np.array([char2int[ch] for ch in text])  #convert all text\n",
        "print('Length of the vocabulary: ', len(chars))\n",
        "print(\"Character 'a' is\" ,char2int['a'],\"and char 'A' is \", char2int['A'])\n",
        "print(\"\\033[1m\"+'First 100 characters as int :\\n'+\"\\033[0m\",text_as_int[:100])  #show first 100 characters"
      ]
    },
    {
      "cell_type": "markdown",
      "metadata": {
        "id": "zjPXyJK_sWUI"
      },
      "source": [
        "Because we have such a small vocabulary, instead of using embeddings, we can easily use it with one hot encoded vectors with size 65."
      ]
    },
    {
      "cell_type": "code",
      "execution_count": 7,
      "metadata": {
        "id": "vAS31OnXsrIz"
      },
      "outputs": [],
      "source": [
        "def one_hot_encode(int_array , u_char):  #input array of ints and char vocbulary \n",
        "    \n",
        "    one_hot = np.zeros((np.multiply(*int_array.shape), u_char), dtype=np.float32)  #create empty array\n",
        "    one_hot[np.arange(one_hot.shape[0]), int_array.flatten()] = 1.  #set appropiate column as 1\n",
        "    one_hot = one_hot.reshape((*int_array.shape, u_char))\n",
        "    return one_hot"
      ]
    },
    {
      "cell_type": "code",
      "execution_count": 8,
      "metadata": {
        "colab": {
          "base_uri": "https://localhost:8080/"
        },
        "id": "MstHJ37bsvDE",
        "outputId": "7214ba06-1339-49fc-f336-e54e2de4ff16"
      },
      "outputs": [
        {
          "data": {
            "text/plain": [
              "array([[[0., 1., 0., 0., 0.]],\n",
              "\n",
              "       [[0., 0., 1., 0., 0.]]], dtype=float32)"
            ]
          },
          "execution_count": 8,
          "metadata": {},
          "output_type": "execute_result"
        }
      ],
      "source": [
        "one_hot_encode(np.array([[1],[2]]),5)"
      ]
    },
    {
      "cell_type": "markdown",
      "metadata": {
        "id": "yaNL0TcDzdlu"
      },
      "source": [
        "<img src='http://karpathy.github.io/assets/rnn/charseq.jpeg' width='350'>\n"
      ]
    },
    {
      "cell_type": "markdown",
      "metadata": {
        "id": "cE3wUtsTwd9n"
      },
      "source": [
        "Now that we have a way to create one-hot vectors, we need to create our batches. Our output needs to be one shifted version of the inputs due to RNN architecture. For example, while our input is 'hell our output needs to be ‘ello’.\n",
        "\n",
        "Because our input data is plain text, in addition to our batch size, we need to determine how many characters we need to put in each batch.\n"
      ]
    },
    {
      "cell_type": "code",
      "execution_count": 9,
      "metadata": {
        "id": "MeF9gwSKukUC"
      },
      "outputs": [],
      "source": [
        "def batch_create(arr, batch_size, char_num):  #arr is data, char_num is character number at a data point and batch size is number of data point contained in a batch\n",
        "    batch_size_total = batch_size * char_num\n",
        "    n_batches = len(arr)//batch_size_total\n",
        "    \n",
        "    arr = arr[:n_batches * batch_size_total] #remove extra chracters from data\n",
        "\n",
        "    arr = arr.reshape((batch_size, -1)) #convert to batch sizes\n",
        "    \n",
        "    for n in range(0, arr.shape[1], char_num): # we need to create output  and input data by shifting them\n",
        "        input_data = arr[:, n:n+char_num]\n",
        "        output_data = np.zeros_like(input_data)\n",
        "        try:\n",
        "            output_data[:, :-1], output_data[:, -1] = input_data[:, 1:], arr[:, n+char_num]\n",
        "        except IndexError:\n",
        "            output_data[:, :-1], output_data[:, -1] = input_data[:, 1:], arr[:, 0]\n",
        "        yield input_data, output_data"
      ]
    },
    {
      "cell_type": "code",
      "execution_count": 10,
      "metadata": {
        "colab": {
          "base_uri": "https://localhost:8080/"
        },
        "id": "OnIfdmKoulY2",
        "outputId": "c420d096-ad61-411a-b917-cd2890ff1db7"
      },
      "outputs": [
        {
          "data": {
            "text/plain": [
              "(array([[30, 17, 44, 19],\n",
              "        [58, 45, 32,  4],\n",
              "        [12, 58, 35,  2],\n",
              "        [ 2,  2, 58, 32]]),\n",
              " array([[17, 44, 19, 57],\n",
              "        [45, 32,  4, 58],\n",
              "        [58, 35,  2, 43],\n",
              "        [ 2, 58, 32,  7]]))"
            ]
          },
          "execution_count": 10,
          "metadata": {},
          "output_type": "execute_result"
        }
      ],
      "source": [
        "next(batch_create(text_as_int,4,4))"
      ]
    },
    {
      "cell_type": "markdown",
      "metadata": {
        "id": "7LR3_YJdx2En"
      },
      "source": [
        "# Network"
      ]
    },
    {
      "cell_type": "markdown",
      "metadata": {
        "id": "LA4Rhd5g1C5P"
      },
      "source": [
        "PyTorch neural network module ([torch.nn ]( https://pytorch.org/docs/stable/nn.html#recurrent-layers)) provides easy access to RNN architectures. It provides both a single-cell and multi-layer architecture with multiple layers.\n",
        "In this example, we will use `torch.nn.LSTM`, a multi-layer LSTM module.\n"
      ]
    },
    {
      "cell_type": "code",
      "execution_count": 11,
      "metadata": {
        "id": "oS0yyEIYx3qz"
      },
      "outputs": [],
      "source": [
        "class CharLSTM(nn.Module):\n",
        "    \n",
        "    def __init__(self, tokens, n_hidden=256, n_layers=2, lr=0.001):\n",
        "        super().__init__()\n",
        "        #Let’s put the parameters inside the function for ease of access, and when we save our network parameters will stay with it.\n",
        "        self.n_layers = n_layers     \n",
        "        self.n_hidden = n_hidden\n",
        "        self.lr = lr\n",
        "        self.chars = tokens\n",
        "        self.int2char = dict(enumerate(self.chars))\n",
        "        self.char2int = {ch: ii for ii, ch in self.int2char.items()}\n",
        "        \n",
        "        self.lstm = nn.LSTM(len(self.chars), n_hidden, n_layers, dropout=0.5, batch_first=True)  #lstm layer with 0.5 dropout\n",
        "        self.dropout = nn.Dropout(0.5)\n",
        "        self.fc = nn.Linear(n_hidden, len(self.chars)) # linear layer to calculate\n",
        "      \n",
        "    \n",
        "    def forward(self, x, hidden):              \n",
        "        r_output, hidden = self.lstm(x, hidden)\n",
        "        out = self.dropout(r_output)\n",
        "        out = out.contiguous().view(-1, self.n_hidden) #convert to 1 dimension   \n",
        "        out = self.fc(out)\n",
        "        \n",
        "        return out, hidden\n",
        "    \n",
        "    \n",
        "    def init_hidden(self, batch_size): #creates hidden layer parameters.\n",
        "        weight = next(self.parameters()).data\n",
        "        hidden = (weight.new(self.n_layers, batch_size, self.n_hidden).zero_().cuda(),\n",
        "              weight.new(self.n_layers, batch_size, self.n_hidden).zero_().cuda())\n",
        "\n",
        "        return hidden"
      ]
    },
    {
      "cell_type": "markdown",
      "metadata": {
        "id": "eCMRdPEj0M2T"
      },
      "source": [
        "# Training"
      ]
    },
    {
      "cell_type": "markdown",
      "metadata": {
        "id": "O1HFu1Sd3fvR"
      },
      "source": [
        "Now that our network is ready lets start training our network"
      ]
    },
    {
      "cell_type": "code",
      "execution_count": 12,
      "metadata": {
        "colab": {
          "base_uri": "https://localhost:8080/"
        },
        "id": "yhvRM_UQ0RPa",
        "outputId": "f258e95c-a88b-4a71-95a0-99dc2316168d"
      },
      "outputs": [
        {
          "name": "stdout",
          "output_type": "stream",
          "text": [
            "CharLSTM(\n",
            "  (lstm): LSTM(65, 512, num_layers=2, batch_first=True, dropout=0.5)\n",
            "  (dropout): Dropout(p=0.5, inplace=False)\n",
            "  (fc): Linear(in_features=512, out_features=65, bias=True)\n",
            ")\n"
          ]
        }
      ],
      "source": [
        "n_hidden=512\n",
        "n_layers=2\n",
        "net = CharLSTM(chars, n_hidden, n_layers).cuda()\n",
        "print(net)"
      ]
    },
    {
      "cell_type": "code",
      "execution_count": 13,
      "metadata": {
        "id": "bdHmcecW0UH7"
      },
      "outputs": [],
      "source": [
        "opt = torch.optim.Adam(net.parameters(), lr=0.001)\n",
        "loss_fn = nn.CrossEntropyLoss()"
      ]
    },
    {
      "cell_type": "code",
      "execution_count": 14,
      "metadata": {
        "colab": {
          "base_uri": "https://localhost:8080/"
        },
        "id": "2ilumNaQsS_5",
        "outputId": "5c60ac07-214d-4439-dc1e-6a2b0df40142"
      },
      "outputs": [
        {
          "name": "stdout",
          "output_type": "stream",
          "text": [
            "Epoch: 1/40... Step: 50... Loss: 3.3373... Val Loss: 3.3384\n",
            "Epoch: 2/40... Step: 100... Loss: 3.2816... Val Loss: 3.2864\n",
            "Epoch: 2/40... Step: 150... Loss: 2.9149... Val Loss: 2.8724\n",
            "Epoch: 3/40... Step: 200... Loss: 2.5948... Val Loss: 2.5345\n",
            "Epoch: 4/40... Step: 250... Loss: 2.4218... Val Loss: 2.3606\n",
            "Epoch: 4/40... Step: 300... Loss: 2.3050... Val Loss: 2.2549\n",
            "Epoch: 5/40... Step: 350... Loss: 2.2265... Val Loss: 2.1729\n",
            "Epoch: 6/40... Step: 400... Loss: 2.1518... Val Loss: 2.0952\n",
            "Epoch: 6/40... Step: 450... Loss: 2.0800... Val Loss: 2.0449\n",
            "Epoch: 7/40... Step: 500... Loss: 2.0221... Val Loss: 2.0027\n",
            "Epoch: 8/40... Step: 550... Loss: 1.9766... Val Loss: 1.9551\n",
            "Epoch: 8/40... Step: 600... Loss: 1.9124... Val Loss: 1.9252\n",
            "Epoch: 9/40... Step: 650... Loss: 1.8724... Val Loss: 1.8968\n",
            "Epoch: 9/40... Step: 700... Loss: 1.8273... Val Loss: 1.8762\n",
            "Epoch: 10/40... Step: 750... Loss: 1.8070... Val Loss: 1.8461\n",
            "Epoch: 11/40... Step: 800... Loss: 1.7858... Val Loss: 1.8140\n",
            "Epoch: 11/40... Step: 850... Loss: 1.7479... Val Loss: 1.7899\n",
            "Epoch: 12/40... Step: 900... Loss: 1.7308... Val Loss: 1.7683\n",
            "Epoch: 13/40... Step: 950... Loss: 1.7217... Val Loss: 1.7497\n",
            "Epoch: 13/40... Step: 1000... Loss: 1.6871... Val Loss: 1.7340\n",
            "Epoch: 14/40... Step: 1050... Loss: 1.6628... Val Loss: 1.7194\n",
            "Epoch: 15/40... Step: 1100... Loss: 1.6772... Val Loss: 1.6936\n",
            "Epoch: 15/40... Step: 1150... Loss: 1.6367... Val Loss: 1.6878\n",
            "Epoch: 16/40... Step: 1200... Loss: 1.5758... Val Loss: 1.6717\n",
            "Epoch: 17/40... Step: 1250... Loss: 1.6212... Val Loss: 1.6509\n",
            "Epoch: 17/40... Step: 1300... Loss: 1.6009... Val Loss: 1.6452\n",
            "Epoch: 18/40... Step: 1350... Loss: 1.5582... Val Loss: 1.6347\n",
            "Epoch: 18/40... Step: 1400... Loss: 1.5775... Val Loss: 1.6241\n",
            "Epoch: 19/40... Step: 1450... Loss: 1.5654... Val Loss: 1.6191\n",
            "Epoch: 20/40... Step: 1500... Loss: 1.5515... Val Loss: 1.6055\n",
            "Epoch: 20/40... Step: 1550... Loss: 1.5277... Val Loss: 1.5985\n",
            "Epoch: 21/40... Step: 1600... Loss: 1.4899... Val Loss: 1.5922\n",
            "Epoch: 22/40... Step: 1650... Loss: 1.5041... Val Loss: 1.5822\n",
            "Epoch: 22/40... Step: 1700... Loss: 1.5170... Val Loss: 1.5740\n",
            "Epoch: 23/40... Step: 1750... Loss: 1.5192... Val Loss: 1.5692\n",
            "Epoch: 24/40... Step: 1800... Loss: 1.5017... Val Loss: 1.5562\n",
            "Epoch: 24/40... Step: 1850... Loss: 1.4966... Val Loss: 1.5565\n",
            "Epoch: 25/40... Step: 1900... Loss: 1.4516... Val Loss: 1.5507\n",
            "Epoch: 25/40... Step: 1950... Loss: 1.4739... Val Loss: 1.5418\n",
            "Epoch: 26/40... Step: 2000... Loss: 1.4338... Val Loss: 1.5414\n",
            "Epoch: 27/40... Step: 2050... Loss: 1.4138... Val Loss: 1.5360\n",
            "Epoch: 27/40... Step: 2100... Loss: 1.4562... Val Loss: 1.5344\n",
            "Epoch: 28/40... Step: 2150... Loss: 1.4526... Val Loss: 1.5311\n",
            "Epoch: 29/40... Step: 2200... Loss: 1.4126... Val Loss: 1.5269\n",
            "Epoch: 29/40... Step: 2250... Loss: 1.4211... Val Loss: 1.5227\n",
            "Epoch: 30/40... Step: 2300... Loss: 1.3854... Val Loss: 1.5184\n",
            "Epoch: 31/40... Step: 2350... Loss: 1.4308... Val Loss: 1.5084\n",
            "Epoch: 31/40... Step: 2400... Loss: 1.4214... Val Loss: 1.5166\n",
            "Epoch: 32/40... Step: 2450... Loss: 1.3970... Val Loss: 1.5119\n",
            "Epoch: 33/40... Step: 2500... Loss: 1.4271... Val Loss: 1.4999\n",
            "Epoch: 33/40... Step: 2550... Loss: 1.3852... Val Loss: 1.5097\n",
            "Epoch: 34/40... Step: 2600... Loss: 1.3785... Val Loss: 1.4997\n",
            "Epoch: 34/40... Step: 2650... Loss: 1.3632... Val Loss: 1.4950\n",
            "Epoch: 35/40... Step: 2700... Loss: 1.3742... Val Loss: 1.5048\n",
            "Epoch: 36/40... Step: 2750... Loss: 1.3809... Val Loss: 1.4965\n",
            "Epoch: 36/40... Step: 2800... Loss: 1.3639... Val Loss: 1.4955\n",
            "Epoch: 37/40... Step: 2850... Loss: 1.3560... Val Loss: 1.4938\n",
            "Epoch: 38/40... Step: 2900... Loss: 1.3442... Val Loss: 1.4903\n",
            "Epoch: 38/40... Step: 2950... Loss: 1.3374... Val Loss: 1.4947\n",
            "Epoch: 39/40... Step: 3000... Loss: 1.3281... Val Loss: 1.4871\n",
            "Epoch: 40/40... Step: 3050... Loss: 1.3678... Val Loss: 1.4831\n",
            "Epoch: 40/40... Step: 3100... Loss: 1.3240... Val Loss: 1.4878\n",
            "139.72 seconds\n"
          ]
        }
      ],
      "source": [
        "from time import time\n",
        "start = time()\n",
        "batch_size = 128\n",
        "seq_length = 100\n",
        "epochs = 40\n",
        "net.train()\n",
        "\n",
        "val_idx = int(len(text_as_int)*(0.9)) #select %90/10 split\n",
        "data, val_data = text_as_int[:val_idx], text_as_int[val_idx:]\n",
        "\n",
        "\n",
        "counter = 0\n",
        "n_chars = len(net.chars)\n",
        "for e in range(epochs):\n",
        "    h = net.init_hidden(batch_size)\n",
        "    \n",
        "    for x, y in batch_create(data, batch_size, seq_length):\n",
        "        counter += 1  #counter for printing\n",
        "        \n",
        "        x = one_hot_encode(x, n_chars)    #encode the data\n",
        "        inputs, targets = torch.from_numpy(x), torch.from_numpy(y)\n",
        "        inputs, targets = inputs.cuda(), targets.cuda()\n",
        "\n",
        "        h = tuple([each.data for each in h]) #creating new h for new batch to prevent backprobation for all h\n",
        "        \n",
        "        net.zero_grad()\n",
        "        output, h = net(inputs, h)\n",
        "        loss = loss_fn(output, targets.view(batch_size*seq_length).long())\n",
        "        loss.backward()\n",
        "\n",
        "        nn.utils.clip_grad_norm_(net.parameters(), 5)  #clip at parameters higher than 5 for preventing exploding gradient problem\n",
        "        opt.step()\n",
        "        \n",
        "        if counter % 50 == 0: #print every 50 step\n",
        "            val_h = net.init_hidden(batch_size)\n",
        "            val_losses = []\n",
        "            net.eval()\n",
        "            for x, y in batch_create(val_data, batch_size, seq_length):\n",
        "                x = one_hot_encode(x, n_chars)\n",
        "                x, y = torch.from_numpy(x), torch.from_numpy(y)\n",
        "                val_h = tuple([each.data for each in val_h]) #creating new h for new batch to prevent backprobation for all h\n",
        "                \n",
        "                inputs, targets = x.cuda(), y.cuda()\n",
        "\n",
        "                output, val_h = net(inputs, val_h)\n",
        "                val_loss = loss_fn(output, targets.view(batch_size*seq_length).long())\n",
        "            \n",
        "                val_losses.append(val_loss.item())\n",
        "            \n",
        "            net.train() # reset to train mode after iterationg through validation data\n",
        "            \n",
        "            print(f'Epoch: {e+1}/{epochs}... Step: {counter}... Loss: {loss.item():.4f}... Val Loss: {np.mean(val_losses):.4f}')\n",
        "end=time()\n",
        "cpu_time = end - start\n",
        "print(f'{cpu_time:.2f} seconds')"
      ]
    },
    {
      "cell_type": "markdown",
      "metadata": {
        "id": "sOlVFQ6E0bAo"
      },
      "source": [
        "# Saving model "
      ]
    },
    {
      "cell_type": "markdown",
      "metadata": {
        "id": "lGsaiY115B__"
      },
      "source": [
        "Now that our training is done, we can save our network using the `torch.save()` command to use later. (If you can also integrate this command into the training loop to save your model in regular intervals)"
      ]
    },
    {
      "cell_type": "code",
      "execution_count": 19,
      "metadata": {
        "id": "0NszKje5w51F"
      },
      "outputs": [],
      "source": [
        "# Saving the model\n",
        "model_name = 'LSTM.net'\n",
        "checkpoint = {'n_hidden': net.n_hidden,\n",
        "              'n_layers': net.n_layers,\n",
        "              'state_dict': net.state_dict(),\n",
        "              'tokens': net.chars}"
      ]
    },
    {
      "cell_type": "code",
      "execution_count": 20,
      "metadata": {
        "id": "ABYJAV9a0i3e"
      },
      "outputs": [],
      "source": [
        "with open(model_name, 'wb') as f:  # in this case we will save it to drive folder that we opened in begining of this tutorial.\n",
        "    torch.save(checkpoint, f)"
      ]
    },
    {
      "cell_type": "markdown",
      "metadata": {
        "id": "lMeQYrNXBuri"
      },
      "source": [
        "Of course, you may want to move files to local storage or connect to Google drive."
      ]
    },
    {
      "cell_type": "markdown",
      "metadata": {
        "id": "yYg7com50krw"
      },
      "source": [
        "# Prediction"
      ]
    },
    {
      "cell_type": "markdown",
      "metadata": {
        "id": "HQWHYiR054UL"
      },
      "source": [
        "We created our network, trained it, and saved it. The last thing we need to do is to create text similar to Shakespeare’s works. Our problem now is that when we give the network an initial set of characters, we will obtain the same output every time if we select the output with the highest probability.\n",
        "\n",
        "To solve this, we will apply the topk prediction approach. This method gives random probability to k words according to their weights. For example, if we want to apply using two characters, and the highest valued characters are ‘a' with 0.7 and ‘e' with 0.1 using this approach, the random model will select ‘a' with 87.5% probability and ‘e' with 12.5% probability. Using the topk method when we run the code, we can obtain different results each time we run the algorithm.\n"
      ]
    },
    {
      "cell_type": "code",
      "execution_count": 17,
      "metadata": {
        "id": "xchr6jGc0jpz"
      },
      "outputs": [],
      "source": [
        "def predict(net, char, h=None):  #created function for top k prediction\n",
        "        x = np.array([[net.char2int[char]]])\n",
        "        x = one_hot_encode(x, len(net.chars))\n",
        "        inputs = torch.from_numpy(x).cuda()\n",
        "             \n",
        "        h = tuple([each.data for each in h]) #again preventing backprobagation\n",
        "        out, h = net(inputs, h)\n",
        "\n",
        "        p = F.softmax(out, dim=1).data.cpu()  #sofmax here due to preventing softmaxing whole data\n",
        "\n",
        "        p, top_ch = p.topk(5)   #choose 5 elements and choose add a probability choice\n",
        "        top_ch = top_ch.numpy().squeeze()\n",
        "        p = p.numpy().squeeze()\n",
        "        output = np.random.choice(top_ch, p=p/p.sum())\n",
        "\n",
        "        return net.int2char[output], h"
      ]
    },
    {
      "cell_type": "code",
      "execution_count": 18,
      "metadata": {
        "colab": {
          "base_uri": "https://localhost:8080/"
        },
        "id": "rsc59L3D00iJ",
        "outputId": "0c6849ec-c5d4-4088-8d28-710feadc7518"
      },
      "outputs": [
        {
          "name": "stdout",
          "output_type": "stream",
          "text": [
            "A man,\n",
            "Was he was not all service.\n",
            "\n",
            "CORIOLANUS:\n",
            "Ay, that he shall be such and father's death,\n",
            "To have my honour is answer, and here's\n",
            "But steal the cale and sea that says, and honest\n",
            "With heres before a blenting frame to be this:\n",
            "Well he done to thy, to hend thanks.\n",
            "\n",
            "Second Catisin:\n",
            "How say the mighty will they would have speak me?\n",
            "If I was a ten to be thunk to say.\n",
            "\n",
            "CAPULET:\n",
            "If they have dare to stir as any strange;\n",
            "And thus this lives of answer'd hate is spreath\n",
            "But with the still, but which how he \n"
          ]
        }
      ],
      "source": [
        "first_chars='A man'       \n",
        "net.eval()\n",
        "\n",
        "chars = [ch for ch in first_chars]\n",
        "h = net.init_hidden(1)\n",
        "for ch in first_chars:\n",
        "    char, h = predict(net, ch, h)\n",
        "\n",
        "chars.append(char)\n",
        "\n",
        "for ii in range(500): #find next 100 characters\n",
        "    char, h = predict(net, chars[-1], h)\n",
        "    chars.append(char)\n",
        "\n",
        "output= ''.join(chars)\n",
        "\n",
        "print(output)"
      ]
    }
  ],
  "metadata": {
    "accelerator": "GPU",
    "colab": {
      "include_colab_link": true,
      "provenance": []
    },
    "kernelspec": {
      "display_name": "base",
      "language": "python",
      "name": "python3"
    },
    "language_info": {
      "codemirror_mode": {
        "name": "ipython",
        "version": 3
      },
      "file_extension": ".py",
      "mimetype": "text/x-python",
      "name": "python",
      "nbconvert_exporter": "python",
      "pygments_lexer": "ipython3",
      "version": "3.10.13"
    }
  },
  "nbformat": 4,
  "nbformat_minor": 0
}
