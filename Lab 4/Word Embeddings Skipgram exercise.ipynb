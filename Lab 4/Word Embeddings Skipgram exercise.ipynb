{
  "cells": [
    {
      "cell_type": "markdown",
      "metadata": {
        "colab_type": "text",
        "id": "view-in-github"
      },
      "source": [
        "<a href=\"https://colab.research.google.com/github/volgasezen/is584/blob/main/Lab 4/Word Embeddings Skipgram exercise.ipynb\" target=\"_parent\"><img src=\"https://colab.research.google.com/assets/colab-badge.svg\" alt=\"Open In Colab\"/></a>"
      ]
    },
    {
      "cell_type": "markdown",
      "metadata": {
        "id": "mVZyWSZZhjg3"
      },
      "source": [
        "# Now you try!"
      ]
    },
    {
      "cell_type": "markdown",
      "metadata": {
        "id": "lvEp96LYhnFy"
      },
      "source": [
        "Implement a skip-gram model by modifying the CBOW implementation we have studied before. \n",
        "As a reminder, skip-gram models take one input and give neighboring words. You also need to change/find an appropriate loss function. PyTorch's [loss function](https://pytorch.org/docs/stable/nn.html#loss-functions) page can help here. Also, do not forget to change the training loop accordingly. \n",
        "\n",
        "Quick tips:\n",
        "* Utilize Cross entropy loss or Log SoftMax loss functions.\n",
        "* Do not forget to change the data dimensions for your network. You can user [.view()](https://pytorch.org/docs/stable/generated/torch.Tensor.view.html) or [torch.reshape()](https://pytorch.org/docs/stable/generated/torch.reshape.html) \n",
        "\n",
        "At the end of the experiment, you are required to observe the embeddings of study-learn and idea-way word pairs. You are expected to reach 95% cosine similarity with one of the word pairs, while observing the cosine similarity of other word pair increasing with each epoch."
      ]
    },
    {
      "cell_type": "code",
      "execution_count": null,
      "metadata": {
        "colab": {
          "base_uri": "https://localhost:8080/"
        },
        "id": "KoUOXN5ixhSD",
        "outputId": "787d001f-b772-4473-ffc7-a3a4b5f7cb29"
      },
      "outputs": [
        {
          "name": "stdout",
          "output_type": "stream",
          "text": [
            "1.12.1+cu113\n"
          ]
        }
      ],
      "source": [
        "import torch\n",
        "import torch.nn as nn\n",
        "print(torch.__version__)"
      ]
    },
    {
      "cell_type": "markdown",
      "metadata": {
        "id": "kIFbaZvZvRNP"
      },
      "source": [
        "You are required to fill the necessary functions to implement the ski-gram model.\n",
        "\n",
        "Let's start with importing necessary libraries(again).\n"
      ]
    },
    {
      "cell_type": "code",
      "execution_count": null,
      "metadata": {
        "colab": {
          "base_uri": "https://localhost:8080/"
        },
        "id": "8z7zfdYYvwoE",
        "outputId": "ab6ee7b5-00e3-4e5d-8ff1-b95e4a4af6c5"
      },
      "outputs": [
        {
          "name": "stdout",
          "output_type": "stream",
          "text": [
            "1.12.1+cu113\n"
          ]
        }
      ],
      "source": [
        "import torch\n",
        "import torch.nn as nn\n",
        "print(torch.__version__)"
      ]
    },
    {
      "cell_type": "markdown",
      "metadata": {
        "id": "Ie6Am632vHlP"
      },
      "source": [
        "Reminder for skipgram"
      ]
    },
    {
      "cell_type": "markdown",
      "metadata": {
        "id": "evgAEDKUs_i1"
      },
      "source": [
        "![image.png](data:image/png;base64,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)"
      ]
    },
    {
      "cell_type": "code",
      "execution_count": null,
      "metadata": {
        "id": "hghX45PJ0JaU"
      },
      "outputs": [],
      "source": [
        "raw_text = \"\"\"We are about to study the idea of a computational process.\n",
        "              We are about to learn the idea of a computational process.\n",
        "              We are about to study the way of a computational process.\n",
        "              We are about to learn the way of a computational process.\"\"\".split()"
      ]
    },
    {
      "cell_type": "markdown",
      "metadata": {
        "id": "OO3xWp-cvX_n"
      },
      "source": [
        "Let's prepare the input and output vectors for training. We will calculate the vocabulary size."
      ]
    },
    {
      "cell_type": "code",
      "execution_count": null,
      "metadata": {
        "colab": {
          "base_uri": "https://localhost:8080/"
        },
        "id": "_JBW2H04tf01",
        "outputId": "42c7184d-5052-468e-b9c3-3cea8a95c610"
      },
      "outputs": [
        {
          "name": "stdout",
          "output_type": "stream",
          "text": [
            "[('about', ['We', 'are', 'to', 'study']), ('to', ['are', 'about', 'study', 'the']), ('study', ['about', 'to', 'the', 'idea']), ('the', ['to', 'study', 'idea', 'of']), ('idea', ['study', 'the', 'of', 'a']), ('of', ['the', 'idea', 'a', 'computational']), ('a', ['idea', 'of', 'computational', 'process.']), ('computational', ['of', 'a', 'process.', 'We']), ('process.', ['a', 'computational', 'We', 'are']), ('We', ['computational', 'process.', 'are', 'about'])]\n"
          ]
        }
      ],
      "source": [
        "CONTEXT_SIZE = 2  # 2 words to the left, 2 to the right\n",
        "\n",
        "data = []\n",
        "for i in range(CONTEXT_SIZE, len(raw_text) - CONTEXT_SIZE):\n",
        "    context =\n",
        "    target = \n",
        "    data.append((context, target))\n",
        "\n",
        "print(data[:10])"
      ]
    },
    {
      "cell_type": "code",
      "execution_count": null,
      "metadata": {
        "colab": {
          "base_uri": "https://localhost:8080/"
        },
        "id": "4_CaBdijwUmv",
        "outputId": "0e00abe9-8de5-46f2-8090-e4f3bc237da6"
      },
      "outputs": [
        {
          "name": "stdout",
          "output_type": "stream",
          "text": [
            "13\n"
          ]
        }
      ],
      "source": [
        "vocab = set(raw_text)\n",
        "vocab_size = len(vocab)\n",
        "print(vocab_size)"
      ]
    },
    {
      "cell_type": "code",
      "execution_count": null,
      "metadata": {
        "colab": {
          "base_uri": "https://localhost:8080/"
        },
        "id": "as_NvJ18yvVw",
        "outputId": "ed0431b8-77b0-4219-a64a-0dd151d745a7"
      },
      "outputs": [
        {
          "name": "stdout",
          "output_type": "stream",
          "text": [
            "word to ix converts word to numbers: word_to_ix[\"We\"] -> 11\n",
            "ix to word converts word to numbers: ix_to_word[11] -> We\n"
          ]
        }
      ],
      "source": [
        "word_to_ix = {word: i for i, word in enumerate(vocab)}  # a dictionary that is similar to torchtext's stoi function\n",
        "ix_to_word = {ix:word for ix, word in enumerate(vocab)} # a dictionary that is similar to torchtext's itos function\n",
        "\n",
        "print('word to ix converts word to numbers: word_to_ix[\"We\"] ->', word_to_ix[\"We\"])\n",
        "print(\"ix to word converts word to numbers: ix_to_word[11] ->\", ix_to_word[11])"
      ]
    },
    {
      "cell_type": "code",
      "execution_count": null,
      "metadata": {
        "colab": {
          "base_uri": "https://localhost:8080/"
        },
        "id": "sce09h4hzU1M",
        "outputId": "78920e11-a963-421d-94ff-22f624dd45c1"
      },
      "outputs": [
        {
          "name": "stdout",
          "output_type": "stream",
          "text": [
            "Make context vector function convert our data set to tensors:\n",
            " ['We', 'are', 'to', 'study'] -> tensor([11, 10, 12,  4])\n",
            "\n",
            "For target we can still use: \n",
            "word_to_ix[data[0][1]]-> 0\n"
          ]
        }
      ],
      "source": [
        "def make_context_vector(context, word_to_ix):  # function to convert our word array to  torch tensor\n",
        "    idxs = [word_to_ix[w] for w in context]\n",
        "    return torch.tensor(idxs, dtype=torch.long)\n",
        "\n",
        "print(\"Make context vector function convert our data set to tensors:\\n\", data[0][1],\"->\", make_context_vector(data[0][1], word_to_ix))\n",
        "print(\"\\nFor target we can still use: \\nword_to_ix[data[0][1]]->\",word_to_ix[data[0][0]])"
      ]
    },
    {
      "cell_type": "markdown",
      "metadata": {
        "id": "qowS51bjNNl6"
      },
      "source": [
        "You are required to create the network below: A model with 2 layers and an embedding layer. Fill the below function accordingly.\n"
      ]
    },
    {
      "cell_type": "code",
      "execution_count": null,
      "metadata": {
        "id": "GeAZgWBZ1r9-"
      },
      "outputs": [],
      "source": [
        "class network(nn.Module):\n",
        "\n",
        "    def __init__(self, vocab_size, embedding_dim,hidden_dim):  \n",
        "        super(network, self).__init__()\n",
        "            self.embeddings = #create a model with 2 layers and an embedding layer\n",
        "        \n",
        "\n",
        "    def forward(self, inputs):\n",
        "\n",
        "        return x\n",
        "        \n",
        "    def get_word_embedding(self, word):\n",
        "        word = torch.tensor([word_to_ix[word]])\n",
        "        return self.embeddings(word).view(1,-1)"
      ]
    },
    {
      "cell_type": "code",
      "execution_count": null,
      "metadata": {
        "colab": {
          "base_uri": "https://localhost:8080/"
        },
        "id": "vzHZPIbl3BFh",
        "outputId": "7df4a2a8-e71d-457c-e3fb-0c9d13d9848c"
      },
      "outputs": [
        {
          "data": {
            "text/plain": [
              "CBOWnetwork(\n",
              "  (embeddings): Embedding(13, 3)\n",
              "  (linear1): Linear(in_features=3, out_features=10, bias=True)\n",
              "  (relu1): ReLU()\n",
              "  (linear2): Linear(in_features=10, out_features=52, bias=True)\n",
              "  (softmax): LogSoftmax(dim=1)\n",
              ")"
            ]
          },
          "execution_count": 61,
          "metadata": {},
          "output_type": "execute_result"
        }
      ],
      "source": [
        "EMBEDDING_DIM = 2 \n",
        "HIDDEN_DIM = 5\n",
        "\n",
        "model = network(len(vocab), EMBEDDING_DIM,HIDDEN_DIM)   \n",
        "\n",
        "model"
      ]
    },
    {
      "cell_type": "markdown",
      "metadata": {
        "id": "0e8rSwkTNcut"
      },
      "source": [
        "Write down the optimizer and loss function you will be using for training your network."
      ]
    },
    {
      "cell_type": "code",
      "execution_count": null,
      "metadata": {
        "id": "kHnbPM55yHA5"
      },
      "outputs": [],
      "source": [
        "# Fill parameters according to your model\n",
        "optimizer = \n",
        "loss_function =   "
      ]
    },
    {
      "cell_type": "markdown",
      "metadata": {
        "id": "vkzeuLx0Nk4s"
      },
      "source": [
        "Write down the necessary codes for training your network below."
      ]
    },
    {
      "cell_type": "code",
      "execution_count": null,
      "metadata": {
        "id": "pAsdWGldzy1W"
      },
      "outputs": [],
      "source": [
        "from sklearn.metrics.pairwise import cosine_similarity"
      ]
    },
    {
      "cell_type": "code",
      "execution_count": null,
      "metadata": {
        "colab": {
          "base_uri": "https://localhost:8080/"
        },
        "id": "W_pfPmQm11cW",
        "outputId": "6069c35f-2098-4118-fa01-9ae5a18572dc"
      },
      "outputs": [
        {
          "name": "stdout",
          "output_type": "stream",
          "text": [
            "epoch  0  avarage loss  0.21293779010884464\n",
            "study: [[-0.2535174 -1.6105576  0.8534502]] learn: [[ 1.0816721  -1.3381094  -0.20064513]]\n",
            "cosine_similarity[[0.5362987]]\n",
            "idea: [[ 0.31931025  1.4306628  -1.0289829 ]] way: [[ 0.10452295  2.0273862  -0.7759744 ]]\n",
            "cosine_similarity[[0.9588907]] \n",
            "\n",
            "epoch  100  avarage loss  0.19889857894740998\n",
            "study: [[-0.24950255 -1.624092    0.86536855]] learn: [[ 1.0974569  -1.3699363  -0.16681112]]\n",
            "cosine_similarity[[0.5517628]]\n",
            "idea: [[ 0.32007405  1.439333   -1.0347471 ]] way: [[ 0.1029678  2.031888  -0.7857338]]\n",
            "cosine_similarity[[0.95976216]] \n",
            "\n",
            "epoch  200  avarage loss  0.18868879289366305\n",
            "study: [[-0.24577177 -1.6362417   0.87476146]] learn: [[ 1.110665  -1.3983276 -0.1371016]]\n",
            "cosine_similarity[[0.56535614]]\n",
            "idea: [[ 0.3208956  1.4471033 -1.0400101]] way: [[ 0.10154499  2.035952   -0.7943189 ]]\n",
            "cosine_similarity[[0.96048766]] \n",
            "\n",
            "epoch  300  avarage loss  0.18116832030937075\n",
            "study: [[-0.24238639 -1.6471918   0.88236004]] learn: [[ 1.1218145  -1.4235928  -0.11097384]]\n",
            "cosine_similarity[[0.5772384]]\n",
            "idea: [[ 0.32174584  1.4541382  -1.0448318 ]] way: [[ 0.10028875  2.0396512  -0.8019104 ]]\n",
            "cosine_similarity[[0.961102]] \n",
            "\n",
            "epoch  400  avarage loss  0.1755034260917455\n",
            "study: [[-0.23937231 -1.6571312   0.8886579 ]] learn: [[ 1.131342   -1.4461253  -0.08786634]]\n",
            "cosine_similarity[[0.5876312]]\n",
            "idea: [[ 0.3226107  1.4605622 -1.0492562]] way: [[ 0.09920083  2.043042   -0.8086599 ]]\n",
            "cosine_similarity[[0.96163]] \n",
            "\n",
            "epoch  500  avarage loss  0.17113186847418546\n",
            "study: [[-0.2367208 -1.6662198  0.8939888]] learn: [[ 1.1395954  -1.4663057  -0.06727119]]\n",
            "cosine_similarity[[0.5967571]]\n",
            "idea: [[ 0.32350627  1.4664756  -1.0533171 ]] way: [[ 0.0982744  2.04617   -0.8146944]]\n",
            "cosine_similarity[[0.9620898]] \n",
            "\n",
            "epoch  600  avarage loss  0.1676802588161081\n",
            "study: [[-0.23441006 -1.6745932   0.8985786 ]] learn: [[ 1.1468459  -1.4844741  -0.04874621]]\n",
            "cosine_similarity[[0.60481787]]\n",
            "idea: [[ 0.3243792  1.4719497 -1.0570513]] way: [[ 0.09749554  2.0490694  -0.82012284]]\n",
            "cosine_similarity[[0.9624979]] \n",
            "\n",
            "epoch  700  avarage loss  0.16489382791332902\n",
            "study: [[-0.23240581 -1.6823599   0.90258497]] learn: [[ 1.1532774  -1.5009376  -0.03196961]]\n",
            "cosine_similarity[[0.6119855]]\n",
            "idea: [[ 0.32525635  1.4770491  -1.0605043 ]] way: [[ 0.09684876  2.0517716  -0.825034  ]]\n",
            "cosine_similarity[[0.96286213]] \n",
            "\n",
            "epoch  800  avarage loss  0.16260490491986274\n",
            "study: [[-0.23067205 -1.6896058   0.9061199 ]] learn: [[ 1.1590314  -1.5159453  -0.01668117]]\n",
            "cosine_similarity[[0.6184005]]\n",
            "idea: [[ 0.32610282  1.4818239  -1.0637224 ]] way: [[ 0.0963175  2.0542996 -0.8295013]]\n",
            "cosine_similarity[[0.96319103]] \n",
            "\n",
            "epoch  900  avarage loss  0.16069340456742792\n",
            "study: [[-0.22917466 -1.6964006   0.9092657 ]] learn: [[ 1.1642182  -1.5296999  -0.00266782]]\n",
            "cosine_similarity[[0.62417793]]\n",
            "idea: [[ 0.3269323  1.4863111 -1.0667194]] way: [[ 0.09588621  2.0566723  -0.83358485]]\n",
            "cosine_similarity[[0.9634903]] \n",
            "\n",
            "epoch  1000  avarage loss  0.15907695512287318\n",
            "study: [[-0.2278818 -1.702805   0.9120838]] learn: [[ 1.1689255  -1.5423696   0.01024525]]\n",
            "cosine_similarity[[0.6294131]]\n",
            "idea: [[ 0.32775587  1.4905419  -1.0695124 ]] way: [[ 0.0955411  2.0589092 -0.8373349]]\n",
            "cosine_similarity[[0.9637644]] \n",
            "\n",
            "epoch  1100  avarage loss  0.1576919548911974\n",
            "study: [[-0.22676505 -1.7088554   0.9146214 ]] learn: [[ 1.173224   -1.554093    0.02220318]]\n",
            "cosine_similarity[[0.6341826]]\n",
            "idea: [[ 0.32855985  1.4945468  -1.0721341 ]] way: [[ 0.09527027  2.0610209  -0.84079313]]\n",
            "cosine_similarity[[0.9640168]] \n",
            "\n",
            "epoch  1200  avarage loss  0.15649257323239\n",
            "study: [[-0.22579981 -1.7146072   0.91691667]] learn: [[ 1.1771692  -1.5649858   0.03332483]]\n",
            "cosine_similarity[[0.6385524]]\n",
            "idea: [[ 0.32933682  1.4983481  -1.0746057 ]] way: [[ 0.09506357  2.0630207  -0.843995  ]]\n",
            "cosine_similarity[[0.9642506]] \n",
            "\n",
            "epoch  1300  avarage loss  0.15544730685651303\n",
            "study: [[-0.22496429 -1.7200787   0.91900027]] learn: [[ 1.1808072  -1.575144    0.04371037]]\n",
            "cosine_similarity[[0.64257395]]\n",
            "idea: [[ 0.33008775  1.5019643  -1.0769364 ]] way: [[ 0.09491196  2.064922   -0.8469703 ]]\n",
            "cosine_similarity[[0.9644688]] \n",
            "\n",
            "epoch  1400  avarage loss  0.15452639977447688\n",
            "study: [[-0.22423984 -1.725305    0.92089844]] learn: [[ 1.184176   -1.5846491   0.05344368]]\n",
            "cosine_similarity[[0.6462924]]\n",
            "idea: [[ 0.33082068  1.5054122  -1.0791365 ]] way: [[ 0.09480761  2.0667274  -0.84974474]]\n",
            "cosine_similarity[[0.964673]] \n",
            "\n",
            "epoch  1500  avarage loss  0.15371035956777632\n",
            "study: [[-0.22361062 -1.7303046   0.92263234]] learn: [[ 1.1873075  -1.5935695   0.06259498]]\n",
            "cosine_similarity[[0.64974374]]\n",
            "idea: [[ 0.33154052  1.5087067  -1.0812213 ]] way: [[ 0.09474348  2.0684505  -0.85233986]]\n",
            "cosine_similarity[[0.96486413]] \n",
            "\n",
            "epoch  1600  avarage loss  0.1529840423958376\n",
            "study: [[-0.22306311 -1.7350982   0.9242201 ]] learn: [[ 1.1902273  -1.6019659   0.07122486]]\n",
            "cosine_similarity[[0.65295964]]\n",
            "idea: [[ 0.3322212  1.511861  -1.0832094]] way: [[ 0.09471406  2.0700963  -0.85477495]]\n",
            "cosine_similarity[[0.9650448]] \n",
            "\n"
          ]
        }
      ],
      "source": [
        "losses = []   # for keeping the losses\n",
        "EPOCHS = 1601  # lower learning rate and small data\n",
        "\n",
        "j=0\n",
        "for epoch in range(EPOCHS):    \n",
        "    total_loss = 0\n",
        "    i=0 \n",
        "    for context, target in data:     #lets get our context and target\n",
        "        \n",
        "        # Remove the gradients for next iteration \n",
        "       \n",
        "        # forward pass\n",
        "\n",
        "        # calculate the Loss\n",
        "        loss =\n",
        "\n",
        "        # backward Pass\n",
        "\n",
        "        # Gradient decent using optimizer \n",
        "\n",
        "        # \n",
        "        total_loss += loss.item()\n",
        "        i +=1\n",
        "    if j%100 ==0:\n",
        "      print(f'epoch  {j}  avarage loss  {(total_loss/i):0}')\n",
        "      model.eval()\n",
        "      with torch.no_grad():\n",
        "        print(\"study:\", model.get_word_embedding('study').detach().numpy(),\"learn:\", model.get_word_embedding('learn').detach().numpy())\n",
        "        print('cosine_similarity is ->' + str(cosine_similarity(model.get_word_embedding('study').detach().numpy() ,model.get_word_embedding('learn').detach().numpy() )))\n",
        "        print(\"idea:\", str(model.get_word_embedding('idea').detach().numpy()),\"way:\", model.get_word_embedding('way').detach().numpy())\n",
        "        print('cosine_similarity is ->' + str(cosine_similarity(model.get_word_embedding('idea').detach().numpy() ,model.get_word_embedding('way').detach().numpy() )), '\\n')\n",
        "      model.train()\n",
        "    losses.append(total_loss)\n",
        "    j += 1"
      ]
    },
    {
      "cell_type": "markdown",
      "metadata": {
        "id": "30xZ9GL-NxdV"
      },
      "source": [
        "At the end, you are expected to see an similar output as follows:\n",
        "\n",
        "epoch  1600  avarage loss  0.1529840423958376\n",
        "study: [[-0.22306311 -1.7350982   0.9242201 ]] learn: [[ 1.1902273  -1.6019659   0.07122486]]\n",
        "cosine_similarity[[0.65295964]]\n",
        "idea: [[ 0.3322212  1.511861  -1.0832094]] way: [[ 0.09471406  2.0700963  -0.85477495]]\n",
        "cosine_similarity[[0.9650448]] \n",
        "\n",
        "Please note that the embeddings of words can change due to random initialization."
      ]
    },
    {
      "cell_type": "code",
      "execution_count": null,
      "metadata": {
        "id": "yDLasyFQRP1a"
      },
      "outputs": [],
      "source": []
    }
  ],
  "metadata": {
    "accelerator": "GPU",
    "colab": {
      "include_colab_link": true,
      "name": "Word Embeddings_skipgram.ipynb",
      "provenance": [],
      "toc_visible": true
    },
    "kernelspec": {
      "display_name": "Python 3",
      "name": "python3"
    }
  },
  "nbformat": 4,
  "nbformat_minor": 0
}
