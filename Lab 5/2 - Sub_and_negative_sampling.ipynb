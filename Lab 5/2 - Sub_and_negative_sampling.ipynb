{
  "cells": [
    {
      "cell_type": "markdown",
      "metadata": {
        "colab_type": "text",
        "id": "view-in-github"
      },
      "source": [
        "<a href=\"https://colab.research.google.com/github/volgasezen/is584/blob/main/Lab 5/2 - Sub_and_negative_sampling.ipynb\" target=\"_parent\"><img src=\"https://colab.research.google.com/assets/colab-badge.svg\" alt=\"Open In Colab\"/></a>"
      ]
    },
    {
      "cell_type": "markdown",
      "metadata": {},
      "source": [
        "<h1 style=\"margin-bottom:0\">IS 584: Deep Learning for Text Analytics</center></h1>\n",
        "<br>\n",
        "<h3 style=\"margin-top:0\">Lab 5: Subsampling and Negative Sampling</center></h2>\n",
        "<h4 style=\"margin-top:0\">Given by Volga Sezen</center></h4>\n",
        "\n",
        "<i>Thanks to Arif Ozan Kızıldağ</i>"
      ]
    },
    {
      "cell_type": "markdown",
      "metadata": {
        "id": "mAfwGQqUgziX"
      },
      "source": [
        "In this tutorial, we will talk about negative sampling and sub-sampling. For this purpose, we will utilize The Children’s [Books Test(CBT) dataset](https://www.kaggle.com/datasets/amoghjrules/babi-childrens-books-facebool-ai). First, let us load the dataset and do some data cleaning."
      ]
    },
    {
      "cell_type": "code",
      "execution_count": null,
      "metadata": {},
      "outputs": [],
      "source": [
        "!wget  -P './data' \"https://raw.githubusercontent.com/volgasezen/is584/main/Lab 5/data/text.txt\""
      ]
    },
    {
      "cell_type": "code",
      "execution_count": 1,
      "metadata": {
        "id": "-CFaH4vSyZy1"
      },
      "outputs": [],
      "source": [
        "with open('data/text.txt', 'r') as f:\n",
        "    text = f.read()"
      ]
    },
    {
      "cell_type": "code",
      "execution_count": 2,
      "metadata": {
        "colab": {
          "base_uri": "https://localhost:8080/"
        },
        "id": "aW_Wum6oyhRk",
        "outputId": "d29c5780-59c6-446e-9353-35a80f64d817"
      },
      "outputs": [
        {
          "name": "stdout",
          "output_type": "stream",
          "text": [
            "_BOOK_TITLE_ : Andrew_Lang___The_Grey_Fairy_Book.txt.out\n",
            "DONKEY SKIN There was once upon a time a king who was so much beloved by his subjects that he thought himself the happiest monarch in the whole world , and he had everything his heart could desire .\n",
            "His palace was filled with the rarest of curiosities , and his garden with the sweetest flowers , while the marble stalls of his stables stood a row of milk-white Arabs , with big brown eyes .\n",
            "Strangers who had heard of the marvels which the king had collected , and made long journeys to see them , were , however , surprised to find the most splendid stall of all occupied by a donkey , with particularly large and drooping ears .\n",
            "It was a very fine donkey ; but still , as far as they could tell , nothing so very remarkable as to account for the care with which it was lodged ; and they went away wondering , for they could not know that every night , when it was asleep , bushels of gold pieces tumbled out of its ears , which were picked \n"
          ]
        }
      ],
      "source": [
        "print(text[:1000])"
      ]
    },
    {
      "cell_type": "code",
      "execution_count": 3,
      "metadata": {
        "id": "nGxQsE_NdUTR"
      },
      "outputs": [],
      "source": [
        "import re\n",
        "import nltk\n",
        "import numpy as np\n",
        "import pandas as pd"
      ]
    },
    {
      "cell_type": "code",
      "execution_count": 4,
      "metadata": {
        "colab": {
          "base_uri": "https://localhost:8080/",
          "height": 105
        },
        "id": "SPwqXcDUfMBZ",
        "outputId": "e834f734-5786-4645-c7ae-4e33c1064d6b"
      },
      "outputs": [
        {
          "data": {
            "text/plain": [
              "'DONKEY SKIN There was once upon a time a king who was so much beloved by his subjects that he thought himself the happiest monarch in the whole world , and he had everything his heart could desire .\\nHis palace was filled with the rarest of curiosities , and his garden with the sweetest flowers , while the marble stalls of his stables stood a row of milk-white Arabs , with big brown eyes .\\nStrangers who had heard of the marvels which the king had collected , and made long journeys to see them , were , however , surprised to find the most splendid stall of all occupied by a donkey , with particularly large and drooping ears .\\nIt was a very fine donkey ; but still , as far as they could tell , nothing so very remarkable as to account for the care with which it was lodged ; and they went away wondering , for they could not know that every night , when it was asleep , bushels of gold pieces tumbled out of its ears , which were picked up each morning by the attendants .\\nAfter many years of p'"
            ]
          },
          "execution_count": 4,
          "metadata": {},
          "output_type": "execute_result"
        }
      ],
      "source": [
        "text =re.sub(r\"(?m)^(\\_BOOK_TITLE\\_|CHAPTER).*\\n?\",\"\",text,re.MULTILINE) # some preprocessing but not all\n",
        "text =re.sub(r\"(?m)-LCB.*RCB-\",\"\",text,re.MULTILINE)\n",
        "text[:1000]"
      ]
    },
    {
      "cell_type": "code",
      "execution_count": 5,
      "metadata": {
        "colab": {
          "base_uri": "https://localhost:8080/"
        },
        "id": "8h8tXTtVeKVa",
        "outputId": "f1e0e3dd-04e6-4fd4-9720-f0e4b4c1c21f"
      },
      "outputs": [
        {
          "name": "stderr",
          "output_type": "stream",
          "text": [
            "[nltk_data] Error loading popular: <urlopen error [WinError 10054] An\n",
            "[nltk_data]     existing connection was forcibly closed by the remote\n",
            "[nltk_data]     host>\n"
          ]
        },
        {
          "data": {
            "text/plain": [
              "False"
            ]
          },
          "execution_count": 5,
          "metadata": {},
          "output_type": "execute_result"
        }
      ],
      "source": [
        "from nltk.tokenize import word_tokenize\n",
        "from nltk.tokenize import sent_tokenize\n",
        "nltk.download(\"popular\")"
      ]
    },
    {
      "cell_type": "code",
      "execution_count": 6,
      "metadata": {
        "colab": {
          "base_uri": "https://localhost:8080/"
        },
        "id": "YXhMeXg-eWa5",
        "outputId": "357941e9-f63d-4579-9231-05f2f4822086"
      },
      "outputs": [
        {
          "data": {
            "text/plain": [
              "['donkey skin there was once upon a time a king who was so much beloved by his subjects that he thought himself the happiest monarch in the whole world , and he had everything his heart could desire .',\n",
              " 'his palace was filled with the rarest of curiosities , and his garden with the sweetest flowers , while the marble stalls of his stables stood a row of milk-white arabs , with big brown eyes .',\n",
              " 'strangers who had heard of the marvels which the king had collected , and made long journeys to see them , were , however , surprised to find the most splendid stall of all occupied by a donkey , with particularly large and drooping ears .',\n",
              " 'it was a very fine donkey ; but still , as far as they could tell , nothing so very remarkable as to account for the care with which it was lodged ; and they went away wondering , for they could not know that every night , when it was asleep , bushels of gold pieces tumbled out of its ears , which were picked up each morning by the attendants .',\n",
              " 'after many years of prosperity a sudden blow fell upon the king in the death of his wife , whom he loved dearly .',\n",
              " 'but before she died , the queen , who had always thought first of his happiness , gathered all her strength , and said to him : ` promise me one thing : you must marry again , i know , for the good of your people , as well as of yourself .',\n",
              " 'but do not set about it in a hurry .',\n",
              " \"wait until you have found a woman more beautiful and better formed than myself . '\",\n",
              " \"` oh , do not speak to me of marrying , ' sobbed the king ; ` rather let me die with you ! '\",\n",
              " 'but the queen only smiled faintly , and turned over on her pillow and died .']"
            ]
          },
          "execution_count": 6,
          "metadata": {},
          "output_type": "execute_result"
        }
      ],
      "source": [
        "sentence_tokens= sent_tokenize(text.lower())\n",
        "sentence_tokens[0:10]"
      ]
    },
    {
      "cell_type": "code",
      "execution_count": 7,
      "metadata": {
        "colab": {
          "base_uri": "https://localhost:8080/"
        },
        "id": "y9mp9wirklRT",
        "outputId": "8e9f60f8-2299-43b1-b281-731c1148b19b"
      },
      "outputs": [
        {
          "name": "stdout",
          "output_type": "stream",
          "text": [
            "['donkey', 'skin', 'there', 'was', 'once', 'upon', 'a', 'time', 'a', 'king', 'who', 'was', 'so', 'much', 'beloved', 'by', 'his', 'subjects', 'that', 'he', 'thought', 'himself', 'the', 'happiest', 'monarch', 'in', 'the', 'whole', 'world', ',', 'and', 'he', 'had', 'everything', 'his', 'heart', 'could', 'desire', '.']\n"
          ]
        }
      ],
      "source": [
        "word_token =[word_tokenize(token) for token in sentence_tokens]\n",
        "print(word_token[0])"
      ]
    },
    {
      "cell_type": "code",
      "execution_count": 8,
      "metadata": {
        "id": "2xXAnfRwlOS9"
      },
      "outputs": [],
      "source": [
        "token = [tok  for sent in word_token  for tok in sent ]"
      ]
    },
    {
      "cell_type": "code",
      "execution_count": 9,
      "metadata": {
        "id": "GjeKvDqXozYe"
      },
      "outputs": [],
      "source": [
        "words = tuple(set(token))\n",
        "int2str = dict(enumerate(words))\n",
        "str2int = {ch: i for i, ch in int2str.items()}"
      ]
    },
    {
      "cell_type": "code",
      "execution_count": 10,
      "metadata": {
        "colab": {
          "base_uri": "https://localhost:8080/"
        },
        "id": "nTuRNP7UpE-G",
        "outputId": "fdfee88b-a8da-4664-84c2-c777190e65fb"
      },
      "outputs": [
        {
          "name": "stdout",
          "output_type": "stream",
          "text": [
            "Length of the vocabulary:  5473\n"
          ]
        },
        {
          "data": {
            "text/plain": [
              "('discovered',\n",
              " 'shrill',\n",
              " 'sorcerer',\n",
              " 'tread',\n",
              " 'forgetting',\n",
              " 'mountain',\n",
              " 'wed',\n",
              " 'risk',\n",
              " 'cruellest',\n",
              " 'dress')"
            ]
          },
          "execution_count": 10,
          "metadata": {},
          "output_type": "execute_result"
        }
      ],
      "source": [
        "print('Length of the vocabulary: ', len(words))\n",
        "words[0:10]"
      ]
    },
    {
      "cell_type": "markdown",
      "metadata": {
        "id": "f53zmm-BhmxR"
      },
      "source": [
        "Our first step is sub-sampling. In lectures, we have gone over how sub-sampling works in `Lecture 3, part 5`. Briefly, sub-sampling removes some more frequent words like `the` to create a more uniform dataset. For this purpose, we will create a probability function to see whether we will remove a token from our dataset. This probability will be checked for **each occurrence** of the token. "
      ]
    },
    {
      "cell_type": "code",
      "execution_count": 11,
      "metadata": {
        "id": "HgTpUa3SrsGT"
      },
      "outputs": [],
      "source": [
        "from collections import Counter,defaultdict\n",
        "\n",
        "wordFreq = defaultdict(int)\n",
        "\n",
        "for sent in word_token:\n",
        "    for word in sent:\n",
        "        wordFreq[word] += 1"
      ]
    },
    {
      "cell_type": "code",
      "execution_count": 12,
      "metadata": {
        "id": "WMJ5ruhxmd-B"
      },
      "outputs": [],
      "source": [
        "import math"
      ]
    },
    {
      "cell_type": "code",
      "execution_count": 13,
      "metadata": {
        "id": "9LK4DPe-jQro"
      },
      "outputs": [],
      "source": [
        "totalWords = sum([freq for freq in wordFreq.values()])\n",
        "wi = {word:(freq/totalWords) for word, freq in wordFreq.items()}\n",
        "wordProb ={ word:(math.sqrt(wi[word]/0.001)+1)*0.001/wi[word]  for word in wi}"
      ]
    },
    {
      "cell_type": "code",
      "execution_count": 14,
      "metadata": {
        "colab": {
          "base_uri": "https://localhost:8080/"
        },
        "id": "B9DsAD4htjhC",
        "outputId": "f33f0ad2-01b6-4e59-8107-58ecec8cd040"
      },
      "outputs": [
        {
          "name": "stdout",
          "output_type": "stream",
          "text": [
            "33964\n"
          ]
        },
        {
          "data": {
            "text/plain": [
              "[('skin', 'donkey'),\n",
              " ('skin', 'there'),\n",
              " ('there', 'skin'),\n",
              " ('there', 'was'),\n",
              " ('was', 'there'),\n",
              " ('was', 'once'),\n",
              " ('once', 'was'),\n",
              " ('once', 'upon'),\n",
              " ('upon', 'once'),\n",
              " ('upon', 'a')]"
            ]
          },
          "execution_count": 14,
          "metadata": {},
          "output_type": "execute_result"
        }
      ],
      "source": [
        "posSet = []  ## there is a problem in this approach\n",
        "dropped = 0\n",
        "# add positive examples\n",
        "for sent in word_token:\n",
        "    for i in range(1, len(sent)-1):\n",
        "      if   np.random.rand()<wordProb[sent[i]]:\n",
        "        word = sent[i]\n",
        "        context_words = [sent[i-1], sent[i+1]]   \n",
        "        for context in context_words:\n",
        "            posSet.append((word, context))  # we are creating bi-grams for text generation task here\n",
        "      else:\n",
        "        dropped+=1\n",
        "n_pos_examples = len(posSet)\n",
        "print(dropped)\n",
        "posSet[0:10]"
      ]
    },
    {
      "cell_type": "markdown",
      "metadata": {
        "id": "ow8Q7y8CxEJL"
      },
      "source": [
        "There is a problem with the approach above. Do you see what it is?"
      ]
    },
    {
      "cell_type": "code",
      "execution_count": 15,
      "metadata": {
        "colab": {
          "base_uri": "https://localhost:8080/"
        },
        "id": "L46mASYLt-f-",
        "outputId": "9d22139d-b482-4871-f73d-4375a217cbf0"
      },
      "outputs": [
        {
          "name": "stdout",
          "output_type": "stream",
          "text": [
            "36105\n"
          ]
        },
        {
          "data": {
            "text/plain": [
              "[('skin', 'there'),\n",
              " ('skin', 'donkey'),\n",
              " ('there', 'skin'),\n",
              " ('once', 'upon'),\n",
              " ('upon', 'a'),\n",
              " ('upon', 'once'),\n",
              " ('a', 'time'),\n",
              " ('a', 'upon'),\n",
              " ('time', 'a'),\n",
              " ('time', 'a')]"
            ]
          },
          "execution_count": 15,
          "metadata": {},
          "output_type": "execute_result"
        }
      ],
      "source": [
        "posSet = [] \n",
        "dropped = 0\n",
        "for sent in word_token:\n",
        "  dum_sent = sent.copy()\n",
        "  for i in range(len(dum_sent)-1):\n",
        "    if   np.random.rand()>wordProb[dum_sent[i]]:\n",
        "        dum_sent[i] = None\n",
        "        dropped +=1\n",
        "  for i in range(1, len(dum_sent)-2):\n",
        "      if(dum_sent[i]!= None):\n",
        "        if(dum_sent[i+1]!= None):\n",
        "          posSet.append((dum_sent[i], dum_sent[i+1]))\n",
        "        if(dum_sent[i-1]!= None):\n",
        "          posSet.append((dum_sent[i], dum_sent[i-1]))\n",
        "print(dropped)\n",
        "posSet[0:10]"
      ]
    },
    {
      "cell_type": "code",
      "execution_count": 16,
      "metadata": {
        "colab": {
          "base_uri": "https://localhost:8080/"
        },
        "id": "ls58Kc-1JdAG",
        "outputId": "a2048e0c-58a9-4f56-c90b-7b055a3e19cf"
      },
      "outputs": [
        {
          "data": {
            "text/plain": [
              "87739"
            ]
          },
          "execution_count": 16,
          "metadata": {},
          "output_type": "execute_result"
        }
      ],
      "source": [
        "n_pos_examples = len(posSet)\n",
        "len(posSet)"
      ]
    },
    {
      "cell_type": "markdown",
      "metadata": {
        "id": "_cEgGfTExbO7"
      },
      "source": [
        "If you guessed that it keeps words as context you are right"
      ]
    },
    {
      "cell_type": "markdown",
      "metadata": {
        "id": "VWuXBV2HlNix"
      },
      "source": [
        "Now that we finished our sub-sampling, we can do a negative sampling to enrich our data. Negative sampling is utilized to balance the positive examples with negatives so that our network will not overfit positive examples. This is again done by creating a probabilistic function to create examples. In the following code, we again create a word probability function. Then, utilizing this probability, we select create negative examples for each positive example."
      ]
    },
    {
      "cell_type": "code",
      "execution_count": 17,
      "metadata": {
        "id": "x-SwM5e_sJSy"
      },
      "outputs": [],
      "source": [
        "totalWords = sum([freq**(3/4) for freq in wordFreq.values()])\n",
        "wordProb = {word:(freq**(3/4)/totalWords) for word, freq in wordFreq.items()}"
      ]
    },
    {
      "cell_type": "code",
      "execution_count": 18,
      "metadata": {
        "colab": {
          "base_uri": "https://localhost:8080/"
        },
        "id": "xcf1BX8jHG_c",
        "outputId": "3e4e7f68-bae4-449d-9b5e-78172b65d60e"
      },
      "outputs": [
        {
          "name": "stderr",
          "output_type": "stream",
          "text": [
            "100%|██████████| 87739/87739 [04:53<00:00, 298.86it/s]\n"
          ]
        }
      ],
      "source": [
        "n_neg_examples = 0 # 5m run time\n",
        "negSet = []\n",
        "import tqdm\n",
        "\n",
        "for i in tqdm.tqdm(range(n_pos_examples)):\n",
        "  context=np.random.choice(list(wordProb.keys()), p=list(wordProb.values())) \n",
        "  while ((posSet[i][0],context)  in posSet):\n",
        "    context=np.random.choice(list(wordProb.keys()), p=list(wordProb.values()))\n",
        "  negSet.append((posSet[i][0], context))\n"
      ]
    },
    {
      "cell_type": "code",
      "execution_count": 19,
      "metadata": {
        "colab": {
          "base_uri": "https://localhost:8080/"
        },
        "id": "gPtgursKJZjr",
        "outputId": "13595033-2b33-4b22-db91-10e33837cc17"
      },
      "outputs": [
        {
          "data": {
            "text/plain": [
              "87739"
            ]
          },
          "execution_count": 19,
          "metadata": {},
          "output_type": "execute_result"
        }
      ],
      "source": [
        "len(negSet)"
      ]
    },
    {
      "cell_type": "code",
      "execution_count": 20,
      "metadata": {
        "colab": {
          "base_uri": "https://localhost:8080/",
          "height": 206
        },
        "id": "vmY3OwiTDogE",
        "outputId": "1a9f00a5-8f8b-4f37-f001-33ec1aac08e2"
      },
      "outputs": [
        {
          "data": {
            "text/html": [
              "<div>\n",
              "<style scoped>\n",
              "    .dataframe tbody tr th:only-of-type {\n",
              "        vertical-align: middle;\n",
              "    }\n",
              "\n",
              "    .dataframe tbody tr th {\n",
              "        vertical-align: top;\n",
              "    }\n",
              "\n",
              "    .dataframe thead th {\n",
              "        text-align: right;\n",
              "    }\n",
              "</style>\n",
              "<table border=\"1\" class=\"dataframe\">\n",
              "  <thead>\n",
              "    <tr style=\"text-align: right;\">\n",
              "      <th></th>\n",
              "      <th>word</th>\n",
              "      <th>context</th>\n",
              "      <th>out</th>\n",
              "    </tr>\n",
              "  </thead>\n",
              "  <tbody>\n",
              "    <tr>\n",
              "      <th>0</th>\n",
              "      <td>skin</td>\n",
              "      <td>there</td>\n",
              "      <td>1</td>\n",
              "    </tr>\n",
              "    <tr>\n",
              "      <th>1</th>\n",
              "      <td>skin</td>\n",
              "      <td>donkey</td>\n",
              "      <td>1</td>\n",
              "    </tr>\n",
              "    <tr>\n",
              "      <th>2</th>\n",
              "      <td>there</td>\n",
              "      <td>skin</td>\n",
              "      <td>1</td>\n",
              "    </tr>\n",
              "    <tr>\n",
              "      <th>3</th>\n",
              "      <td>once</td>\n",
              "      <td>upon</td>\n",
              "      <td>1</td>\n",
              "    </tr>\n",
              "    <tr>\n",
              "      <th>4</th>\n",
              "      <td>upon</td>\n",
              "      <td>a</td>\n",
              "      <td>1</td>\n",
              "    </tr>\n",
              "  </tbody>\n",
              "</table>\n",
              "</div>"
            ],
            "text/plain": [
              "    word context  out\n",
              "0   skin   there    1\n",
              "1   skin  donkey    1\n",
              "2  there    skin    1\n",
              "3   once    upon    1\n",
              "4   upon       a    1"
            ]
          },
          "execution_count": 20,
          "metadata": {},
          "output_type": "execute_result"
        }
      ],
      "source": [
        "pos_data = pd.DataFrame(posSet,columns=[\"word\",\"context\"])\n",
        "pos_data[\"out\"] = 1\n",
        "pos_data.head()"
      ]
    },
    {
      "cell_type": "code",
      "execution_count": 21,
      "metadata": {
        "colab": {
          "base_uri": "https://localhost:8080/",
          "height": 206
        },
        "id": "UTVx6WTbKgWU",
        "outputId": "32bbd8d4-f89a-4690-9b9f-76393319ca07"
      },
      "outputs": [
        {
          "data": {
            "text/html": [
              "<div>\n",
              "<style scoped>\n",
              "    .dataframe tbody tr th:only-of-type {\n",
              "        vertical-align: middle;\n",
              "    }\n",
              "\n",
              "    .dataframe tbody tr th {\n",
              "        vertical-align: top;\n",
              "    }\n",
              "\n",
              "    .dataframe thead th {\n",
              "        text-align: right;\n",
              "    }\n",
              "</style>\n",
              "<table border=\"1\" class=\"dataframe\">\n",
              "  <thead>\n",
              "    <tr style=\"text-align: right;\">\n",
              "      <th></th>\n",
              "      <th>word</th>\n",
              "      <th>context</th>\n",
              "      <th>out</th>\n",
              "    </tr>\n",
              "  </thead>\n",
              "  <tbody>\n",
              "    <tr>\n",
              "      <th>0</th>\n",
              "      <td>skin</td>\n",
              "      <td>demanding</td>\n",
              "      <td>0</td>\n",
              "    </tr>\n",
              "    <tr>\n",
              "      <th>1</th>\n",
              "      <td>skin</td>\n",
              "      <td>.</td>\n",
              "      <td>0</td>\n",
              "    </tr>\n",
              "    <tr>\n",
              "      <th>2</th>\n",
              "      <td>there</td>\n",
              "      <td>my</td>\n",
              "      <td>0</td>\n",
              "    </tr>\n",
              "    <tr>\n",
              "      <th>3</th>\n",
              "      <td>once</td>\n",
              "      <td>apartments</td>\n",
              "      <td>0</td>\n",
              "    </tr>\n",
              "    <tr>\n",
              "      <th>4</th>\n",
              "      <td>upon</td>\n",
              "      <td>sight</td>\n",
              "      <td>0</td>\n",
              "    </tr>\n",
              "  </tbody>\n",
              "</table>\n",
              "</div>"
            ],
            "text/plain": [
              "    word     context  out\n",
              "0   skin   demanding    0\n",
              "1   skin           .    0\n",
              "2  there          my    0\n",
              "3   once  apartments    0\n",
              "4   upon       sight    0"
            ]
          },
          "execution_count": 21,
          "metadata": {},
          "output_type": "execute_result"
        }
      ],
      "source": [
        "neg_data = pd.DataFrame(negSet,columns=[\"word\",\"context\"])\n",
        "neg_data[\"out\"] = 0\n",
        "neg_data.head()"
      ]
    },
    {
      "cell_type": "code",
      "execution_count": 22,
      "metadata": {
        "colab": {
          "base_uri": "https://localhost:8080/",
          "height": 300
        },
        "id": "1I0XNRCzK-zR",
        "outputId": "626faee3-ee7d-473b-bfd3-c18267a3dfa8"
      },
      "outputs": [
        {
          "data": {
            "text/html": [
              "<div>\n",
              "<style scoped>\n",
              "    .dataframe tbody tr th:only-of-type {\n",
              "        vertical-align: middle;\n",
              "    }\n",
              "\n",
              "    .dataframe tbody tr th {\n",
              "        vertical-align: top;\n",
              "    }\n",
              "\n",
              "    .dataframe thead th {\n",
              "        text-align: right;\n",
              "    }\n",
              "</style>\n",
              "<table border=\"1\" class=\"dataframe\">\n",
              "  <thead>\n",
              "    <tr style=\"text-align: right;\">\n",
              "      <th></th>\n",
              "      <th>out</th>\n",
              "    </tr>\n",
              "  </thead>\n",
              "  <tbody>\n",
              "    <tr>\n",
              "      <th>count</th>\n",
              "      <td>175478.000000</td>\n",
              "    </tr>\n",
              "    <tr>\n",
              "      <th>mean</th>\n",
              "      <td>0.500000</td>\n",
              "    </tr>\n",
              "    <tr>\n",
              "      <th>std</th>\n",
              "      <td>0.500001</td>\n",
              "    </tr>\n",
              "    <tr>\n",
              "      <th>min</th>\n",
              "      <td>0.000000</td>\n",
              "    </tr>\n",
              "    <tr>\n",
              "      <th>25%</th>\n",
              "      <td>0.000000</td>\n",
              "    </tr>\n",
              "    <tr>\n",
              "      <th>50%</th>\n",
              "      <td>0.500000</td>\n",
              "    </tr>\n",
              "    <tr>\n",
              "      <th>75%</th>\n",
              "      <td>1.000000</td>\n",
              "    </tr>\n",
              "    <tr>\n",
              "      <th>max</th>\n",
              "      <td>1.000000</td>\n",
              "    </tr>\n",
              "  </tbody>\n",
              "</table>\n",
              "</div>"
            ],
            "text/plain": [
              "                 out\n",
              "count  175478.000000\n",
              "mean        0.500000\n",
              "std         0.500001\n",
              "min         0.000000\n",
              "25%         0.000000\n",
              "50%         0.500000\n",
              "75%         1.000000\n",
              "max         1.000000"
            ]
          },
          "execution_count": 22,
          "metadata": {},
          "output_type": "execute_result"
        }
      ],
      "source": [
        "data = pd.concat([pos_data,neg_data],axis=0)\n",
        "data.describe()"
      ]
    },
    {
      "cell_type": "code",
      "execution_count": 23,
      "metadata": {
        "colab": {
          "base_uri": "https://localhost:8080/",
          "height": 424
        },
        "id": "cSBDMgRTMFMf",
        "outputId": "a5208d5b-dcbe-426d-91cd-2433e3c26247"
      },
      "outputs": [
        {
          "data": {
            "text/html": [
              "<div>\n",
              "<style scoped>\n",
              "    .dataframe tbody tr th:only-of-type {\n",
              "        vertical-align: middle;\n",
              "    }\n",
              "\n",
              "    .dataframe tbody tr th {\n",
              "        vertical-align: top;\n",
              "    }\n",
              "\n",
              "    .dataframe thead th {\n",
              "        text-align: right;\n",
              "    }\n",
              "</style>\n",
              "<table border=\"1\" class=\"dataframe\">\n",
              "  <thead>\n",
              "    <tr style=\"text-align: right;\">\n",
              "      <th></th>\n",
              "      <th>word</th>\n",
              "      <th>context</th>\n",
              "      <th>out</th>\n",
              "      <th>text</th>\n",
              "    </tr>\n",
              "  </thead>\n",
              "  <tbody>\n",
              "    <tr>\n",
              "      <th>0</th>\n",
              "      <td>skin</td>\n",
              "      <td>there</td>\n",
              "      <td>1</td>\n",
              "      <td>skin there</td>\n",
              "    </tr>\n",
              "    <tr>\n",
              "      <th>1</th>\n",
              "      <td>skin</td>\n",
              "      <td>donkey</td>\n",
              "      <td>1</td>\n",
              "      <td>skin donkey</td>\n",
              "    </tr>\n",
              "    <tr>\n",
              "      <th>2</th>\n",
              "      <td>there</td>\n",
              "      <td>skin</td>\n",
              "      <td>1</td>\n",
              "      <td>there skin</td>\n",
              "    </tr>\n",
              "    <tr>\n",
              "      <th>3</th>\n",
              "      <td>once</td>\n",
              "      <td>upon</td>\n",
              "      <td>1</td>\n",
              "      <td>once upon</td>\n",
              "    </tr>\n",
              "    <tr>\n",
              "      <th>4</th>\n",
              "      <td>upon</td>\n",
              "      <td>a</td>\n",
              "      <td>1</td>\n",
              "      <td>upon a</td>\n",
              "    </tr>\n",
              "    <tr>\n",
              "      <th>...</th>\n",
              "      <td>...</td>\n",
              "      <td>...</td>\n",
              "      <td>...</td>\n",
              "      <td>...</td>\n",
              "    </tr>\n",
              "    <tr>\n",
              "      <th>995</th>\n",
              "      <td>skin</td>\n",
              "      <td>laid</td>\n",
              "      <td>1</td>\n",
              "      <td>skin laid</td>\n",
              "    </tr>\n",
              "    <tr>\n",
              "      <th>996</th>\n",
              "      <td>skin</td>\n",
              "      <td>the</td>\n",
              "      <td>1</td>\n",
              "      <td>skin the</td>\n",
              "    </tr>\n",
              "    <tr>\n",
              "      <th>997</th>\n",
              "      <td>laid</td>\n",
              "      <td>skin</td>\n",
              "      <td>1</td>\n",
              "      <td>laid skin</td>\n",
              "    </tr>\n",
              "    <tr>\n",
              "      <th>998</th>\n",
              "      <td>the</td>\n",
              "      <td>princess</td>\n",
              "      <td>1</td>\n",
              "      <td>the princess</td>\n",
              "    </tr>\n",
              "    <tr>\n",
              "      <th>999</th>\n",
              "      <td>illustration</td>\n",
              "      <td>:</td>\n",
              "      <td>1</td>\n",
              "      <td>illustration :</td>\n",
              "    </tr>\n",
              "  </tbody>\n",
              "</table>\n",
              "<p>1000 rows × 4 columns</p>\n",
              "</div>"
            ],
            "text/plain": [
              "             word   context  out            text\n",
              "0            skin     there    1      skin there\n",
              "1            skin    donkey    1     skin donkey\n",
              "2           there      skin    1      there skin\n",
              "3            once      upon    1       once upon\n",
              "4            upon         a    1          upon a\n",
              "..            ...       ...  ...             ...\n",
              "995          skin      laid    1       skin laid\n",
              "996          skin       the    1        skin the\n",
              "997          laid      skin    1       laid skin\n",
              "998           the  princess    1    the princess\n",
              "999  illustration         :    1  illustration :\n",
              "\n",
              "[1000 rows x 4 columns]"
            ]
          },
          "execution_count": 23,
          "metadata": {},
          "output_type": "execute_result"
        }
      ],
      "source": [
        "data2 = data.copy()\n",
        "data2[\"text\"] =  data[\"word\"]+' '+data[\"context\"]\n",
        "data2.head(1000)"
      ]
    },
    {
      "cell_type": "code",
      "execution_count": 24,
      "metadata": {
        "colab": {
          "base_uri": "https://localhost:8080/",
          "height": 206
        },
        "id": "EBs6L3s3M2mn",
        "outputId": "4d2692bd-4e20-412b-d397-b9a0aab94708"
      },
      "outputs": [
        {
          "data": {
            "text/html": [
              "<div>\n",
              "<style scoped>\n",
              "    .dataframe tbody tr th:only-of-type {\n",
              "        vertical-align: middle;\n",
              "    }\n",
              "\n",
              "    .dataframe tbody tr th {\n",
              "        vertical-align: top;\n",
              "    }\n",
              "\n",
              "    .dataframe thead th {\n",
              "        text-align: right;\n",
              "    }\n",
              "</style>\n",
              "<table border=\"1\" class=\"dataframe\">\n",
              "  <thead>\n",
              "    <tr style=\"text-align: right;\">\n",
              "      <th></th>\n",
              "      <th>text</th>\n",
              "      <th>out</th>\n",
              "    </tr>\n",
              "  </thead>\n",
              "  <tbody>\n",
              "    <tr>\n",
              "      <th>0</th>\n",
              "      <td>skin there</td>\n",
              "      <td>1</td>\n",
              "    </tr>\n",
              "    <tr>\n",
              "      <th>1</th>\n",
              "      <td>skin donkey</td>\n",
              "      <td>1</td>\n",
              "    </tr>\n",
              "    <tr>\n",
              "      <th>2</th>\n",
              "      <td>there skin</td>\n",
              "      <td>1</td>\n",
              "    </tr>\n",
              "    <tr>\n",
              "      <th>3</th>\n",
              "      <td>once upon</td>\n",
              "      <td>1</td>\n",
              "    </tr>\n",
              "    <tr>\n",
              "      <th>4</th>\n",
              "      <td>upon a</td>\n",
              "      <td>1</td>\n",
              "    </tr>\n",
              "  </tbody>\n",
              "</table>\n",
              "</div>"
            ],
            "text/plain": [
              "          text  out\n",
              "0   skin there    1\n",
              "1  skin donkey    1\n",
              "2   there skin    1\n",
              "3    once upon    1\n",
              "4       upon a    1"
            ]
          },
          "execution_count": 24,
          "metadata": {},
          "output_type": "execute_result"
        }
      ],
      "source": [
        "data3 =data2.drop(columns=[\"context\",\"word\"])\n",
        "data3 = data3[[\"text\",\"out\"]]\n",
        "data3.head()"
      ]
    },
    {
      "cell_type": "code",
      "execution_count": 25,
      "metadata": {
        "id": "SI7_OP1_LUVH"
      },
      "outputs": [],
      "source": [
        "data3.to_csv(\"data_all_val.csv\",index=False)"
      ]
    }
  ],
  "metadata": {
    "accelerator": "GPU",
    "colab": {
      "authorship_tag": "ABX9TyNIerXtOQnI0Mve11NZU+3R",
      "include_colab_link": true,
      "provenance": []
    },
    "kernelspec": {
      "display_name": "base",
      "language": "python",
      "name": "python3"
    },
    "language_info": {
      "codemirror_mode": {
        "name": "ipython",
        "version": 3
      },
      "file_extension": ".py",
      "mimetype": "text/x-python",
      "name": "python",
      "nbconvert_exporter": "python",
      "pygments_lexer": "ipython3",
      "version": "3.10.13"
    }
  },
  "nbformat": 4,
  "nbformat_minor": 0
}
