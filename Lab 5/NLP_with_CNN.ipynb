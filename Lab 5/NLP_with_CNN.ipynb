{
 "cells": [
  {
   "cell_type": "markdown",
   "metadata": {
    "id": "view-in-github"
   },
   "source": [
    "<a href=\"https://colab.research.google.com/github/volgasezen/is584/blob/main/Lab 5/NLP_with_CNN.ipynb\" target=\"_parent\"><img src=\"https://colab.research.google.com/assets/colab-badge.svg\" alt=\"Open In Colab\"/></a>"
   ]
  },
  {
   "cell_type": "markdown",
   "metadata": {
    "id": "Mt1QvmbPEWC9"
   },
   "source": [
    "<h1 style=\"margin-bottom:0\">IS 584: Deep Learning for Text Analytics</center></h1>\n",
    "<br>\n",
    "<h3 style=\"margin-top:0\">Lab 5: Sentiment Analysis with Convolutional Neural Networks</center></h2>\n",
    "<h4 style=\"margin-top:0\">Given by Volga Sezen</center></h4>\n",
    "<i>Thanks to Ayberk Aydın for the feedback.</i></center>\n",
    "\n",
    "<i>\n",
    "\n",
    "Thanks to Arif Ozan Kızıldağ, Özgür Ozan Kılıç, [ShalyginaA](https://github.com/ShalyginaA/imdb-sentiment-analysis-with-pytorch/blob/master/imdb_analysis.ipynb) and [Lakshmipathi N](https://www.kaggle.com/code/lakshmi25npathi/sentiment-analysis-of-imdb-movie-reviews).\n",
    "\n",
    "</i></center>\n",
    "<br>\n",
    "\n",
    "-----------"
   ]
  },
  {
   "cell_type": "markdown",
   "metadata": {
    "id": "JpKBeb3TEWDA"
   },
   "source": [
    "Contents of this lab was conceptualized by [Ben Trevett](https://github.com/bentrevett/pytorch-sentiment-analysis/blob/main/3%20-%20Convolutional%20Neural%20Networks.ipynb). It was modified by Arif Ozan Kızıldağ.\n",
    "\n",
    "After incorporating torch code from Github user [ShalyginaA](https://github.com/ShalyginaA/imdb-sentiment-analysis-with-pytorch/blob/master/imdb_analysis.ipynb), and text preprocessing code from Kaggle user [Lakshmipathi N](https://www.kaggle.com/code/lakshmi25npathi/sentiment-analysis-of-imdb-movie-reviews) and Özgür Ozan Kılıç's sentiment analysis lab, the lab was updated to work with the most recent version of `torch` and `torchtext`.\n",
    "\n",
    "In this lab we will analyze IMDB user reviews on films and classify them as having a positive or negative attitude. Raw and processed data can be downloaded from our github repository. For more details on the dataset you can visit the [kaggle](https://www.kaggle.com/datasets/lakshmi25npathi/imdb-dataset-of-50k-movie-reviews) page."
   ]
  },
  {
   "cell_type": "markdown",
   "metadata": {
    "id": "scsDJzI0cX7q"
   },
   "source": [
    "## NLP Basics: Embeddings and Building a Vocabulary"
   ]
  },
  {
   "cell_type": "markdown",
   "metadata": {
    "id": "yxSJyu9XcX7q"
   },
   "source": [
    "Natural language processing is a domain interested in analyzing **unstructured** data in the form of written text. We can broadly categorize NLP into:\n",
    "\n",
    "1. Natural Language Understanding (Coming up with insights about texts)\n",
    "\n",
    "2. Natural Language Generation (Generating new text)\n",
    "\n",
    "*We won't delve into generative models in this course.*\n",
    "\n",
    "We will however delve into some concepts used in many NLP tasks which will also be useful for adjacent use cases (like those that involve categorical features).\n",
    "\n",
    "To pass text as inputs to deep learning models, we need to represent them as arrays of numbers. This is where the concept of embeddings and the vocabulary become relevant.\n",
    "\n",
    "Let's first import our packages. Since the development of ``torchtext`` stopped, the most recent version of pytorch it can run with is 2.3.1, hence when running on colab the following commands has to be executed."
   ]
  },
  {
   "cell_type": "code",
   "execution_count": 1,
   "metadata": {
    "colab": {
     "base_uri": "https://localhost:8080/"
    },
    "id": "0KoINmO9c6AA",
    "outputId": "c5cc74ba-2286-43c9-d470-d6d8b4db22af"
   },
   "outputs": [
    {
     "name": "stdout",
     "output_type": "stream",
     "text": [
      "\u001b[2K     \u001b[90m━━━━━━━━━━━━━━━━━━━━━━━━━━━━━━━━━━━━━━━━\u001b[0m \u001b[32m781.0/781.0 MB\u001b[0m \u001b[31m921.9 kB/s\u001b[0m eta \u001b[36m0:00:00\u001b[0m\n",
      "\u001b[2K   \u001b[90m━━━━━━━━━━━━━━━━━━━━━━━━━━━━━━━━━━━━━━━━\u001b[0m \u001b[32m2.0/2.0 MB\u001b[0m \u001b[31m52.7 MB/s\u001b[0m eta \u001b[36m0:00:00\u001b[0m\n",
      "\u001b[2K   \u001b[90m━━━━━━━━━━━━━━━━━━━━━━━━━━━━━━━━━━━━━━━━\u001b[0m \u001b[32m410.6/410.6 MB\u001b[0m \u001b[31m4.0 MB/s\u001b[0m eta \u001b[36m0:00:00\u001b[0m\n",
      "\u001b[2K   \u001b[90m━━━━━━━━━━━━━━━━━━━━━━━━━━━━━━━━━━━━━━━━\u001b[0m \u001b[32m14.1/14.1 MB\u001b[0m \u001b[31m101.3 MB/s\u001b[0m eta \u001b[36m0:00:00\u001b[0m\n",
      "\u001b[2K   \u001b[90m━━━━━━━━━━━━━━━━━━━━━━━━━━━━━━━━━━━━━━━━\u001b[0m \u001b[32m23.7/23.7 MB\u001b[0m \u001b[31m86.2 MB/s\u001b[0m eta \u001b[36m0:00:00\u001b[0m\n",
      "\u001b[2K   \u001b[90m━━━━━━━━━━━━━━━━━━━━━━━━━━━━━━━━━━━━━━━━\u001b[0m \u001b[32m823.6/823.6 kB\u001b[0m \u001b[31m46.1 MB/s\u001b[0m eta \u001b[36m0:00:00\u001b[0m\n",
      "\u001b[2K   \u001b[90m━━━━━━━━━━━━━━━━━━━━━━━━━━━━━━━━━━━━━━━━\u001b[0m \u001b[32m731.7/731.7 MB\u001b[0m \u001b[31m1.7 MB/s\u001b[0m eta \u001b[36m0:00:00\u001b[0m\n",
      "\u001b[2K   \u001b[90m━━━━━━━━━━━━━━━━━━━━━━━━━━━━━━━━━━━━━━━━\u001b[0m \u001b[32m121.6/121.6 MB\u001b[0m \u001b[31m7.5 MB/s\u001b[0m eta \u001b[36m0:00:00\u001b[0m\n",
      "\u001b[2K   \u001b[90m━━━━━━━━━━━━━━━━━━━━━━━━━━━━━━━━━━━━━━━━\u001b[0m \u001b[32m56.5/56.5 MB\u001b[0m \u001b[31m12.8 MB/s\u001b[0m eta \u001b[36m0:00:00\u001b[0m\n",
      "\u001b[2K   \u001b[90m━━━━━━━━━━━━━━━━━━━━━━━━━━━━━━━━━━━━━━━━\u001b[0m \u001b[32m124.2/124.2 MB\u001b[0m \u001b[31m7.6 MB/s\u001b[0m eta \u001b[36m0:00:00\u001b[0m\n",
      "\u001b[2K   \u001b[90m━━━━━━━━━━━━━━━━━━━━━━━━━━━━━━━━━━━━━━━━\u001b[0m \u001b[32m196.0/196.0 MB\u001b[0m \u001b[31m5.9 MB/s\u001b[0m eta \u001b[36m0:00:00\u001b[0m\n",
      "\u001b[2K   \u001b[90m━━━━━━━━━━━━━━━━━━━━━━━━━━━━━━━━━━━━━━━━\u001b[0m \u001b[32m176.2/176.2 MB\u001b[0m \u001b[31m6.9 MB/s\u001b[0m eta \u001b[36m0:00:00\u001b[0m\n",
      "\u001b[2K   \u001b[90m━━━━━━━━━━━━━━━━━━━━━━━━━━━━━━━━━━━━━━━━\u001b[0m \u001b[32m99.1/99.1 kB\u001b[0m \u001b[31m6.7 MB/s\u001b[0m eta \u001b[36m0:00:00\u001b[0m\n",
      "\u001b[2K   \u001b[90m━━━━━━━━━━━━━━━━━━━━━━━━━━━━━━━━━━━━━━━━\u001b[0m \u001b[32m168.1/168.1 MB\u001b[0m \u001b[31m6.4 MB/s\u001b[0m eta \u001b[36m0:00:00\u001b[0m\n",
      "\u001b[?25h\u001b[31mERROR: pip's dependency resolver does not currently take into account all the packages that are installed. This behaviour is the source of the following dependency conflicts.\n",
      "torchaudio 2.5.0+cu121 requires torch==2.5.0, but you have torch 2.3.1+cu121 which is incompatible.\n",
      "torchvision 0.20.0+cu121 requires torch==2.5.0, but you have torch 2.3.1+cu121 which is incompatible.\u001b[0m\u001b[31m\n",
      "\u001b[0m"
     ]
    }
   ],
   "source": [
    "!pip install torch==2.3.1 --index-url https://download.pytorch.org/whl/cu121 --no-dependencies -q\n",
    "!pip install torchtext -q"
   ]
  },
  {
   "cell_type": "code",
   "execution_count": null,
   "metadata": {
    "colab": {
     "base_uri": "https://localhost:8080/"
    },
    "id": "ueMSODCO-leN",
    "outputId": "e2ec3088-8ad1-4de2-bdfa-0a35d455a84f"
   },
   "outputs": [
    {
     "name": "stdout",
     "output_type": "stream",
     "text": [
      "--2024-11-04 16:23:54--  https://raw.githubusercontent.com/volgasezen/di504/main/Lab2/utils.py\n",
      "Resolving raw.githubusercontent.com (raw.githubusercontent.com)... 185.199.108.133, 185.199.111.133, 185.199.110.133, ...\n",
      "Connecting to raw.githubusercontent.com (raw.githubusercontent.com)|185.199.108.133|:443... connected.\n",
      "HTTP request sent, awaiting response... 200 OK\n",
      "Length: 1530 (1.5K) [text/plain]\n",
      "Saving to: ‘utils.py’\n",
      "\n",
      "utils.py            100%[===================>]   1.49K  --.-KB/s    in 0s      \n",
      "\n",
      "2024-11-04 16:23:54 (28.0 MB/s) - ‘utils.py’ saved [1530/1530]\n",
      "\n",
      "--2024-11-04 16:23:54--  https://raw.githubusercontent.com/volgasezen/di504/main/Lab2/data/IMDB%20Dataset.csv.zip\n",
      "Resolving raw.githubusercontent.com (raw.githubusercontent.com)... 185.199.108.133, 185.199.109.133, 185.199.110.133, ...\n",
      "Connecting to raw.githubusercontent.com (raw.githubusercontent.com)|185.199.108.133|:443... connected.\n",
      "HTTP request sent, awaiting response... 200 OK\n",
      "Length: 26962657 (26M) [application/zip]\n",
      "Saving to: ‘./data/IMDB Dataset.csv.zip’\n",
      "\n",
      "IMDB Dataset.csv.zi 100%[===================>]  25.71M  --.-KB/s    in 0.07s   \n",
      "\n",
      "2024-11-04 16:23:57 (375 MB/s) - ‘./data/IMDB Dataset.csv.zip’ saved [26962657/26962657]\n",
      "\n"
     ]
    }
   ],
   "source": [
    "!wget https://raw.githubusercontent.com/volgasezen/di504/main/Lab2/utils.py\n",
    "!wget -P './data' https://raw.githubusercontent.com/volgasezen/di504/main/Lab2/data/IMDB%20Dataset.csv.zip\n",
    "!wget -P './data' https://raw.githubusercontent.com/volgasezen/di504/main/Lab2/data/preprocessed_imdb.npz"
   ]
  },
  {
   "cell_type": "code",
   "execution_count": 1,
   "metadata": {
    "colab": {
     "base_uri": "https://localhost:8080/"
    },
    "id": "OSIFIqxIEWDB",
    "outputId": "787288bc-6352-46e3-8fb8-b9e35839d371"
   },
   "outputs": [
    {
     "name": "stderr",
     "output_type": "stream",
     "text": [
      "[nltk_data] Downloading package stopwords to\n",
      "[nltk_data]     C:\\Users\\speed\\AppData\\Roaming\\nltk_data...\n",
      "[nltk_data] Error downloading 'stopwords' from\n",
      "[nltk_data]     <https://raw.githubusercontent.com/nltk/nltk_data/gh-\n",
      "[nltk_data]     pages/packages/corpora/stopwords.zip>:   <urlopen\n",
      "[nltk_data]     error [WinError 10054] An existing connection was\n",
      "[nltk_data]     forcibly closed by the remote host>\n"
     ]
    }
   ],
   "source": [
    "import torch\n",
    "import torchtext\n",
    "\n",
    "import numpy as np\n",
    "import pandas as pd\n",
    "import matplotlib.pyplot as plt\n",
    "\n",
    "from utils import preprocess"
   ]
  },
  {
   "cell_type": "code",
   "execution_count": 2,
   "metadata": {
    "colab": {
     "base_uri": "https://localhost:8080/"
    },
    "id": "gMmWLSuLctOO",
    "outputId": "85f61775-b409-411b-8acd-73a1f491c25a"
   },
   "outputs": [
    {
     "name": "stdout",
     "output_type": "stream",
     "text": [
      "torch version: 2.1.0\n",
      "torchtext version: 0.16.0\n"
     ]
    }
   ],
   "source": [
    "print(f'torch version: {torch.__version__}')\n",
    "print(f'torchtext version: {torchtext.__version__}')"
   ]
  },
  {
   "cell_type": "markdown",
   "metadata": {
    "id": "JcscKnA1-QaD"
   },
   "source": [
    "**Note:** This notebook was last tested on **November 4th 2024** on the Google Colab environment. The versions of torch and torchtext are printed for future reference."
   ]
  },
  {
   "cell_type": "markdown",
   "metadata": {
    "id": "Fopq57bicX7r"
   },
   "source": [
    "### The embedding layer"
   ]
  },
  {
   "cell_type": "markdown",
   "metadata": {
    "id": "xlWraig5cX7s"
   },
   "source": [
    "We considered text as **unstructured** data. We can think of it as essentially categorical data, with the number of categories equaling the number of unique words in our corpus (collection of text).\n",
    "\n",
    "As you have taken DI501, you should be familiar with the concept of one-hot encoding. If we were to use this type of encoding for our texts, we will run into the following issues:\n",
    "\n",
    "1. Given how many unique words there can be in a corpus, our input matrix will be mostly filled with zeros. (i.e. very sparse). While sparse-matrix operations are useful and actively researched, it will simply take too much of our compute resources.\n",
    "\n",
    "2. But more crucially, we will induce the following bias: each individual word is fundementally independent from each other. That means the distances between word representations will be completely arbitrary, and not take into account their meanings and relationships.\n",
    "\n",
    "We can learn representations that are compact and meaningful from data by using an embedding layer.\n",
    "\n",
    "An embedding layer holds a look-up table for n-dimensional arrays representing each category we want to encode. While it is hard to visualize, you can imagine different concepts about each category being \"embedded\" in combinations of dimensions.\n",
    "\n",
    "Let's first imagine a case where we have 10 categories that we want to embed in a 3 dimensional space. We can create such a matrix by using the `torch.nn.Embedding` layer."
   ]
  },
  {
   "cell_type": "code",
   "execution_count": 3,
   "metadata": {
    "colab": {
     "base_uri": "https://localhost:8080/"
    },
    "id": "36llbGXLcX7s",
    "outputId": "d9f14f19-4172-4a58-ced2-ba396ea5bb3d"
   },
   "outputs": [
    {
     "name": "stdout",
     "output_type": "stream",
     "text": [
      "Parameter containing:\n",
      "tensor([[-1.6095,  1.0502, -0.7809],\n",
      "        [-0.1267,  1.1973,  0.2849],\n",
      "        [ 0.4358,  0.8128, -0.9168],\n",
      "        [-1.1831, -0.3539, -0.7178],\n",
      "        [-0.6968, -1.2678, -0.1735],\n",
      "        [-0.6556, -1.1366,  0.0393],\n",
      "        [-2.1783, -1.6649,  0.4150],\n",
      "        [-0.0265,  1.5618, -0.1735],\n",
      "        [ 0.1492,  2.2870, -0.6950],\n",
      "        [-0.9308,  0.8995, -1.1109]], requires_grad=True)\n"
     ]
    }
   ],
   "source": [
    "# input: sequence of indices from 0-9,\n",
    "num_embeddings = 10 # K = 10\n",
    "# outpt: a vector of length 3 for each \"index\",\n",
    "embeddings_dim = 3 # N = 3\n",
    "\n",
    "# an Embedding module containing 10 tensors of size 3\n",
    "embedding = torch.nn.Embedding(num_embeddings, embeddings_dim)\n",
    "\n",
    "print(embedding.weight)"
   ]
  },
  {
   "cell_type": "code",
   "execution_count": 4,
   "metadata": {
    "colab": {
     "base_uri": "https://localhost:8080/"
    },
    "id": "W95oX7UycX7s",
    "outputId": "313a8f2c-22af-49ee-eca4-1071bb556efd"
   },
   "outputs": [
    {
     "name": "stdout",
     "output_type": "stream",
     "text": [
      "\u001b[1mShape and size of our input\u001b[0m\n",
      "torch.Size([2, 4])\n",
      "tensor([[1, 2, 4, 5],\n",
      "        [4, 3, 9, 2]])\n",
      "\u001b[1mShape and size of our output\u001b[0m\n",
      "torch.Size([2, 4, 3])\n",
      "tensor([[[-0.1267,  1.1973,  0.2849],\n",
      "         [ 0.4358,  0.8128, -0.9168],\n",
      "         [-0.6968, -1.2678, -0.1735],\n",
      "         [-0.6556, -1.1366,  0.0393]],\n",
      "\n",
      "        [[-0.6968, -1.2678, -0.1735],\n",
      "         [-1.1831, -0.3539, -0.7178],\n",
      "         [-0.9308,  0.8995, -1.1109],\n",
      "         [ 0.4358,  0.8128, -0.9168]]], grad_fn=<EmbeddingBackward0>)\n",
      "\u001b[1mEmbedding for index 5\u001b[0m\n",
      "tensor([-0.6556, -1.1366,  0.0393], grad_fn=<SqueezeBackward4>)\n"
     ]
    }
   ],
   "source": [
    "# the input is a batch of 2 samples of 4 indices each\n",
    "input = torch.LongTensor([[1,2,4,5],[4,3,9,2]])\n",
    "print('\\033[1m'+'Shape and size of our input'+'\\033[0m')\n",
    "print(input.shape)\n",
    "print(input)\n",
    "\n",
    "# the input is a batch of 2 samples, of 4 3-1ength ebmedding vectors\n",
    "output = embedding(input)\n",
    "\n",
    "print('\\033[1m'+'Shape and size of our output'+'\\033[0m')\n",
    "print(output.shape) # torch. Size([2, 4, 3])\n",
    "print(output)\n",
    "\n",
    "# this is a simple layer of weights num_embeddings x embeddings_dim\n",
    "# e.g. a one-hot vector representing index 5 (indices starts from 0, goes to 9\n",
    "\n",
    "aHotOne = torch.Tensor([0,0,0,0,0,1,0,0,0,0])\n",
    "embeddingofaHotOne = torch.matmul(aHotOne,embedding.weight)\n",
    "print('\\033[1m'+'Embedding for index 5'+'\\033[0m')\n",
    "print(embeddingofaHotOne)"
   ]
  },
  {
   "cell_type": "markdown",
   "metadata": {
    "id": "x9__lJaYcX7s"
   },
   "source": [
    "If we pass as input an array of integers, the embedding layer retrieves the embedding for each index. Notice how the input was a 2D array, and the output is 3D with the addition of the embedding dimension.\n",
    "\n",
    "We can see how this is done with a simple matrix multiplication between a one-hot vector and the embedding weights."
   ]
  },
  {
   "cell_type": "code",
   "execution_count": 5,
   "metadata": {
    "colab": {
     "base_uri": "https://localhost:8080/"
    },
    "id": "TjsfqTcdcX7t",
    "outputId": "a09a9049-f97d-4485-e4b9-6ca69a27e3c8"
   },
   "outputs": [
    {
     "name": "stdout",
     "output_type": "stream",
     "text": [
      " \n",
      "Ouput with Padding: \n",
      "tensor([[ 0.0000,  0.0000,  0.0000],\n",
      "        [ 0.1995, -1.1907, -0.9070],\n",
      "        [ 0.0000,  0.0000,  0.0000],\n",
      "        [-0.6700,  1.0763,  1.0496]], grad_fn=<EmbeddingBackward0>)\n"
     ]
    }
   ],
   "source": [
    "#let's talk about padding in sequences\n",
    "embedding = torch.nn.Embedding(10, 3, padding_idx=0)\n",
    "input = torch.LongTensor([0,2,0,5])\n",
    "output_wPads = embedding(input)\n",
    "print( ' \\nOuput with Padding: ')\n",
    "print (output_wPads)"
   ]
  },
  {
   "cell_type": "markdown",
   "metadata": {
    "id": "WrvmtCthcX7t"
   },
   "source": [
    "We can also reserve a certain index for categories we do not want to encode. Perhaps you have survey answers with categories \"Yes\", \"No\", and \"Unsure\". If their indices were (0,1,2), the padding index would be 2.\n",
    "\n",
    "The padding index will also be useful when we deal with sequences of varying lengths.\n",
    "\n",
    "In our case, we will represent words that the model has not encountered before using the padding index.\n",
    "\n",
    "Notice how this is done by initializing the embedding at that index as 0's. This means no matter the gradient magnitude, the values won't get updated."
   ]
  },
  {
   "cell_type": "markdown",
   "metadata": {
    "id": "Dila1YUacX7t"
   },
   "source": [
    "## Text pre-processing and the Vocabulary"
   ]
  },
  {
   "cell_type": "markdown",
   "metadata": {
    "id": "TF8S3kbfcX7t"
   },
   "source": [
    "Now that we have seen how an embedding layer works, let's discuss how to turn words into indices.\n",
    "\n",
    "On a surface level examination this seems simple. If we assign an integer for each unique word, and embed them, we should be ready to begin processing those embeddings. The problem is, human language is messy.\n",
    "\n",
    "We first need to decide what constitutes a \"word\". Do the words \"run\", \"runs\" and \"running\" convey entirely different meanings?\n",
    "\n",
    "Using every unique word will also be redundant. Not every word carries the same meaning. The most common word in the English language is, \"the\", which carries little to no meaning when understanding the bigger picture about a text. Meanwhile, many obscure words can appear only a few times in a text which makes it difficult to gather what it means in relation to other words.\n",
    "\n",
    "To side-step many of these problems we will first pre-process our text and then choose the top-n most frequent words to create a vocabulary (or a dictionary)."
   ]
  },
  {
   "cell_type": "markdown",
   "metadata": {
    "id": "pIQOqca2EWDB"
   },
   "source": [
    "## IMDB Reviews Dataset Details\n",
    "* The dataset consists of 50000 reviews.\n",
    "* A review has a negative label if it's score was $\\leq$ 4/10, and positive if it's score was $>$ 7/10.\n",
    "* Exactly half the dataset has negative reviews, with the rest being positive.\n",
    "* No movie has more than 30 reviews associated with it."
   ]
  },
  {
   "cell_type": "code",
   "execution_count": 6,
   "metadata": {
    "colab": {
     "base_uri": "https://localhost:8080/",
     "height": 425
    },
    "id": "NvNANGx1EWDC",
    "outputId": "b879b921-42da-4bd7-8c01-bedd7af98d3c"
   },
   "outputs": [
    {
     "data": {
      "text/html": [
       "<div>\n",
       "<style scoped>\n",
       "    .dataframe tbody tr th:only-of-type {\n",
       "        vertical-align: middle;\n",
       "    }\n",
       "\n",
       "    .dataframe tbody tr th {\n",
       "        vertical-align: top;\n",
       "    }\n",
       "\n",
       "    .dataframe thead th {\n",
       "        text-align: right;\n",
       "    }\n",
       "</style>\n",
       "<table border=\"1\" class=\"dataframe\">\n",
       "  <thead>\n",
       "    <tr style=\"text-align: right;\">\n",
       "      <th></th>\n",
       "      <th>review</th>\n",
       "      <th>sentiment</th>\n",
       "    </tr>\n",
       "  </thead>\n",
       "  <tbody>\n",
       "    <tr>\n",
       "      <th>0</th>\n",
       "      <td>One of the other reviewers has mentioned that after watching just 1 Oz episode you'll be hooked. They are right, as this is exactly what happened with me.&lt;br /&gt;&lt;br /&gt;The first thing that struck me about Oz was its brutality and unflinching scenes of violence, which set in right from the word GO. Trust me, this is not a show for the faint hearted or timid. This show pulls no punches with regards to drugs, sex or violence. Its is hardcore, in the classic use of the word.&lt;br /&gt;&lt;br /&gt;It is called OZ as that is the nickname given to the Oswald Maximum Security State Penitentary. It focuses mainly on Emerald City, an experimental section of the prison where all the cells have glass fronts and face inwards, so privacy is not high on the agenda. Em City is home to many..Aryans, Muslims, gangstas, Latinos, Christians, Italians, Irish and more....so scuffles, death stares, dodgy dealings and shady agreements are never far away.&lt;br /&gt;&lt;br /&gt;I would say the main appeal of the show is due to the fact that it goes where other shows wouldn't dare. Forget pretty pictures painted for mainstream audiences, forget charm, forget romance...OZ doesn't mess around. The first episode I ever saw struck me as so nasty it was surreal, I couldn't say I was ready for it, but as I watched more, I developed a taste for Oz, and got accustomed to the high levels of graphic violence. Not just violence, but injustice (crooked guards who'll be sold out for a nickel, inmates who'll kill on order and get away with it, well mannered, middle class inmates being turned into prison bitches due to their lack of street skills or prison experience) Watching Oz, you may become comfortable with what is uncomfortable viewing....thats if you can get in touch with your darker side.</td>\n",
       "      <td>positive</td>\n",
       "    </tr>\n",
       "    <tr>\n",
       "      <th>1</th>\n",
       "      <td>A wonderful little production. &lt;br /&gt;&lt;br /&gt;The filming technique is very unassuming- very old-time-BBC fashion and gives a comforting, and sometimes discomforting, sense of realism to the entire piece. &lt;br /&gt;&lt;br /&gt;The actors are extremely well chosen- Michael Sheen not only \"has got all the polari\" but he has all the voices down pat too! You can truly see the seamless editing guided by the references to Williams' diary entries, not only is it well worth the watching but it is a terrificly written and performed piece. A masterful production about one of the great master's of comedy and his life. &lt;br /&gt;&lt;br /&gt;The realism really comes home with the little things: the fantasy of the guard which, rather than use the traditional 'dream' techniques remains solid then disappears. It plays on our knowledge and our senses, particularly with the scenes concerning Orton and Halliwell and the sets (particularly of their flat with Halliwell's murals decorating every surface) are terribly well done.</td>\n",
       "      <td>positive</td>\n",
       "    </tr>\n",
       "  </tbody>\n",
       "</table>\n",
       "</div>"
      ],
      "text/plain": [
       "                                                                                                                                                                                                                                                                                                                                                                                                                                                                                                                                                                                                                                                                                                                                                                                                                                                                                                                                                                                                                                                                                                                                                                                                                                                                                                                                                                                                                                                                                                                                                                                                                                                                                                                                                                                                                              review  \\\n",
       "0  One of the other reviewers has mentioned that after watching just 1 Oz episode you'll be hooked. They are right, as this is exactly what happened with me.<br /><br />The first thing that struck me about Oz was its brutality and unflinching scenes of violence, which set in right from the word GO. Trust me, this is not a show for the faint hearted or timid. This show pulls no punches with regards to drugs, sex or violence. Its is hardcore, in the classic use of the word.<br /><br />It is called OZ as that is the nickname given to the Oswald Maximum Security State Penitentary. It focuses mainly on Emerald City, an experimental section of the prison where all the cells have glass fronts and face inwards, so privacy is not high on the agenda. Em City is home to many..Aryans, Muslims, gangstas, Latinos, Christians, Italians, Irish and more....so scuffles, death stares, dodgy dealings and shady agreements are never far away.<br /><br />I would say the main appeal of the show is due to the fact that it goes where other shows wouldn't dare. Forget pretty pictures painted for mainstream audiences, forget charm, forget romance...OZ doesn't mess around. The first episode I ever saw struck me as so nasty it was surreal, I couldn't say I was ready for it, but as I watched more, I developed a taste for Oz, and got accustomed to the high levels of graphic violence. Not just violence, but injustice (crooked guards who'll be sold out for a nickel, inmates who'll kill on order and get away with it, well mannered, middle class inmates being turned into prison bitches due to their lack of street skills or prison experience) Watching Oz, you may become comfortable with what is uncomfortable viewing....thats if you can get in touch with your darker side.   \n",
       "1                                                                                                                                                                                                                                                                                                                                                                                                                                                                                                                                                                                                                                                                                                                                                                                             A wonderful little production. <br /><br />The filming technique is very unassuming- very old-time-BBC fashion and gives a comforting, and sometimes discomforting, sense of realism to the entire piece. <br /><br />The actors are extremely well chosen- Michael Sheen not only \"has got all the polari\" but he has all the voices down pat too! You can truly see the seamless editing guided by the references to Williams' diary entries, not only is it well worth the watching but it is a terrificly written and performed piece. A masterful production about one of the great master's of comedy and his life. <br /><br />The realism really comes home with the little things: the fantasy of the guard which, rather than use the traditional 'dream' techniques remains solid then disappears. It plays on our knowledge and our senses, particularly with the scenes concerning Orton and Halliwell and the sets (particularly of their flat with Halliwell's murals decorating every surface) are terribly well done.   \n",
       "\n",
       "  sentiment  \n",
       "0  positive  \n",
       "1  positive  "
      ]
     },
     "execution_count": 6,
     "metadata": {},
     "output_type": "execute_result"
    }
   ],
   "source": [
    "imdb_data=pd.read_csv('data/IMDB Dataset.csv.zip')\n",
    "pd.set_option('display.max_colwidth', None)\n",
    "imdb_data.head(2)"
   ]
  },
  {
   "cell_type": "markdown",
   "metadata": {
    "id": "fj_PeshYcX7t"
   },
   "source": [
    "### Preprocessing"
   ]
  },
  {
   "cell_type": "markdown",
   "metadata": {
    "id": "fjE2F9GJEWDD"
   },
   "source": [
    "The `preprocess` function from utils.py will be written to preprocess the text data. The following preprocessing steps will be applied: (adapted from Lakshmipathi N[$^{1}$](#di-504-lab-2) and Özgün Ozan Kılıç)\n",
    "\n",
    "* HTML tags like `<br>` and terms inside square brackets will be removed\n",
    "* Text will be broken up into words via `NLTKTokenizer`\n",
    "* Special characters like `.` `,` and digits will be removed\n",
    "* Words will be rid of their suffixes via `PorterStemmer()`\n",
    "* Stop words like [I, me, and, the, ... ] as well as [movie, character, ... ] will be removed\n",
    "\n",
    "(*Stop words were also processed in a similar fashion prior to the checks for removal*)\n",
    "\n",
    "Let's give an example sentence to our function."
   ]
  },
  {
   "cell_type": "code",
   "execution_count": 7,
   "metadata": {
    "colab": {
     "base_uri": "https://localhost:8080/"
    },
    "id": "ojIOhILMcX7t",
    "outputId": "1477eb27-138a-4424-c61f-b6479b09efda"
   },
   "outputs": [
    {
     "name": "stdout",
     "output_type": "stream",
     "text": [
      "['thi', 'titl', 'mkerrer', 'becaus', 'wa', 'bore']\n"
     ]
    }
   ],
   "source": [
    "test_string = \"This film should've been titled <br> mükerrer because it was so boring. [like] [dislike]\"\n",
    "\n",
    "processed_test = preprocess(test_string)\n",
    "print(processed_test)"
   ]
  },
  {
   "cell_type": "markdown",
   "metadata": {
    "id": "iYpjO7DtcX7t"
   },
   "source": [
    "We can then apply this function to each review in the dataset. Also the string labels will be converted to indices using the `pandas.replace` method.\n",
    "\n",
    "To save time, the preprocessed portion was saved as a npz file, which can be loaded using `np.load`"
   ]
  },
  {
   "cell_type": "code",
   "execution_count": 8,
   "metadata": {
    "colab": {
     "base_uri": "https://localhost:8080/"
    },
    "id": "zJ6weFg7EWDD",
    "outputId": "4158b54c-107e-4bdd-b144-5f9a3eabe6bf"
   },
   "outputs": [
    {
     "data": {
      "text/plain": [
       "array([[list(['one', 'review', 'ha', 'mention', 'watch', 'oz', 'episod', 'hook', 'right', 'thi', 'exactli', 'happen', 'meth', 'first', 'thing', 'struck', 'oz', 'wa', 'brutal', 'unflinch', 'scene', 'violenc', 'set', 'right', 'word', 'go', 'trust', 'thi', 'show', 'faint', 'heart', 'timid', 'thi', 'show', 'pull', 'punch', 'regard', 'drug', 'sex', 'violenc', 'hardcor', 'classic', 'use', 'wordit', 'call', 'oz', 'nicknam', 'given', 'oswald', 'maximum', 'secur', 'state', 'penitentari', 'focus', 'mainli', 'emerald', 'citi', 'experiment', 'section', 'prison', 'cell', 'glass', 'front', 'face', 'inward', 'privaci', 'high', 'agenda', 'em', 'citi', 'home', 'mani', 'aryan', 'muslim', 'gangsta', 'latino', 'christian', 'italian', 'irish', 'scuffl', 'death', 'stare', 'dodgi', 'deal', 'shadi', 'agreement', 'never', 'far', 'awayi', 'would', 'say', 'main', 'appeal', 'show', 'due', 'fact', 'goe', 'show', 'would', 'nt', 'dare', 'forget', 'pretti', 'pictur', 'paint', 'mainstream', 'audienc', 'forget', 'charm', 'forget', 'romanc', 'oz', 'doe', 'nt', 'mess', 'around', 'first', 'episod', 'ever', 'saw', 'struck', 'nasti', 'wa', 'surreal', 'could', 'nt', 'say', 'wa', 'readi', 'watch', 'develop', 'tast', 'oz', 'got', 'accustom', 'high', 'level', 'graphic', 'violenc', 'violenc', 'injustic', 'crook', 'guard', 'sold', 'nickel', 'inmat', 'kill', 'order', 'get', 'away', 'well', 'manner', 'middl', 'class', 'inmat', 'turn', 'prison', 'bitch', 'due', 'lack', 'street', 'skill', 'prison', 'experi', 'watch', 'oz', 'may', 'becom', 'comfort', 'uncomfort', 'view', 'get', 'touch', 'darker', 'side']),\n",
       "        1],\n",
       "       [list(['wonder', 'littl', 'product', 'techniqu', 'veri', 'unassum', 'veri', 'oldtimebbc', 'fashion', 'give', 'comfort', 'sometim', 'discomfort', 'sens', 'realism', 'entir', 'piec', 'actor', 'extrem', 'well', 'chosen', 'michael', 'sheen', 'onli', 'ha', 'got', 'polari', 'ha', 'voic', 'pat', 'truli', 'see', 'seamless', 'edit', 'guid', 'refer', 'william', 'diari', 'entri', 'onli', 'well', 'worth', 'watch', 'terrificli', 'written', 'perform', 'piec', 'master', 'product', 'one', 'great', 'master', 'comedi', 'hi', 'life', 'realism', 'realli', 'come', 'home', 'littl', 'thing', 'fantasi', 'guard', 'rather', 'use', 'tradit', 'dream', 'techniqu', 'remain', 'solid', 'disappear', 'play', 'knowledg', 'sens', 'particularli', 'scene', 'concern', 'orton', 'halliwel', 'set', 'particularli', 'flat', 'halliwel', 'mural', 'decor', 'everi', 'surfac', 'terribl', 'well', 'done']),\n",
       "        1]], dtype=object)"
      ]
     },
     "execution_count": 8,
     "metadata": {},
     "output_type": "execute_result"
    }
   ],
   "source": [
    "# imdb_data['review'] = imdb_data['review'].apply(preprocess)\n",
    "# imdb_data['sentiment'].replace({'positive':1, 'negative':0}, inplace=True)\n",
    "# np.savez_compressed('data/preprocessed_imdb.npz', imdb_data.values)\n",
    "\n",
    "with np.load('data/preprocessed_imdb.npz',allow_pickle=True) as data:\n",
    "    imdb_data = data['arr_0']\n",
    "\n",
    "imdb_data[:2]"
   ]
  },
  {
   "cell_type": "markdown",
   "metadata": {
    "id": "G4TciTMIcX7u"
   },
   "source": [
    "### Vocabulary"
   ]
  },
  {
   "cell_type": "markdown",
   "metadata": {
    "id": "fJxqW1heEWDD"
   },
   "source": [
    "With the preprocessed text, we can begin constructing a vocabulary. To use our corpus effectively, we will opt to only represent the top-n most used words.\n",
    "\n",
    "To illustrate our point on the word frequencies let's first tally up how many times each word occured in our corpus and plot this as a figure."
   ]
  },
  {
   "cell_type": "code",
   "execution_count": 9,
   "metadata": {
    "colab": {
     "base_uri": "https://localhost:8080/",
     "height": 452
    },
    "id": "9bzjed7scX7u",
    "outputId": "7a2628dc-3c4f-427e-c879-85ba156a3f2e"
   },
   "outputs": [
    {
     "data": {
      "image/png": "[encoded data removed]",
      "text/plain": [
       "<Figure size 640x480 with 1 Axes>"
      ]
     },
     "metadata": {},
     "output_type": "display_data"
    }
   ],
   "source": [
    "import itertools\n",
    "from torchtext.vocab import vocab as vocab_maker\n",
    "from collections import Counter, OrderedDict\n",
    "\n",
    "data = imdb_data.to_numpy() if type(imdb_data) == pd.DataFrame else imdb_data\n",
    "\n",
    "words = list(itertools.chain.from_iterable(data[:,0]))\n",
    "\n",
    "counter = Counter(words)\n",
    "sorted_by_freq_tuples = sorted(counter.items(), key=lambda x: x[1], reverse=True)\n",
    "\n",
    "frequencies = [x[1] for x in sorted_by_freq_tuples]\n",
    "\n",
    "plt.plot(frequencies)\n",
    "plt.title('Sorted logarithmic frequencies of each word')\n",
    "# plt.xscale('log')\n",
    "plt.yscale('log')"
   ]
  },
  {
   "cell_type": "markdown",
   "metadata": {
    "id": "hU9mirkmcX7u"
   },
   "source": [
    "We have over 140000 unique words, but of those more than 80000 have only occured once! Even if we embed them, their meaning will not be easily understood from their little occurance and thus context."
   ]
  },
  {
   "cell_type": "code",
   "execution_count": 10,
   "metadata": {
    "colab": {
     "base_uri": "https://localhost:8080/"
    },
    "id": "6eUFSjxVcX7u",
    "outputId": "f8bcb481-ea03-4a46-df46-d31359508f97"
   },
   "outputs": [
    {
     "data": {
      "text/plain": [
       "0.9746580856705702"
      ]
     },
     "execution_count": 10,
     "metadata": {},
     "output_type": "execute_result"
    }
   ],
   "source": [
    "vocab_size = 30000\n",
    "\n",
    "np.cumsum(frequencies)[vocab_size-1]/sum(frequencies)"
   ]
  },
  {
   "cell_type": "markdown",
   "metadata": {
    "id": "E1snds6TcX7u"
   },
   "source": [
    "If we choose the top 30000 words, these will cover 97% of the word occurances in our texts, which should be plentiful to classify their sentiment."
   ]
  },
  {
   "cell_type": "code",
   "execution_count": 11,
   "metadata": {
    "colab": {
     "base_uri": "https://localhost:8080/"
    },
    "id": "L6pqCP24EWDE",
    "outputId": "0ba145cf-102b-4cdc-e60c-fb5b25aa2051"
   },
   "outputs": [
    {
     "name": "stdout",
     "output_type": "stream",
     "text": [
      "\u001b[1mOriginal string:\u001b[0m\n",
      "This film should've been titled <br> mükerrer because it was so boring. [like] [dislike]\n",
      "\u001b[1mProcessed version:\u001b[0m\n",
      "['thi', 'titl', 'mkerrer', 'becaus', 'wa', 'bore']\n",
      "\u001b[1mVocabulary indices:\u001b[0m\n",
      "[1, 322, 0, 33, 2, 193]\n"
     ]
    }
   ],
   "source": [
    "ordered_dict = OrderedDict(sorted_by_freq_tuples[:vocab_size-1])\n",
    "vocab = vocab_maker(ordered_dict, specials=[\"<unk>\"])\n",
    "vocab.set_default_index(vocab[\"<unk>\"])\n",
    "\n",
    "print('\\033[1m'+'Original string:'+'\\033[0m')\n",
    "print(test_string)\n",
    "print('\\033[1m'+'Processed version:'+'\\033[0m')\n",
    "print(processed_test)\n",
    "print('\\033[1m'+'Vocabulary indices:'+'\\033[0m')\n",
    "print(vocab(processed_test))"
   ]
  },
  {
   "cell_type": "markdown",
   "metadata": {
    "id": "tLGgLlYhcX7u"
   },
   "source": [
    "Notice how the `vocab_maker` utility of torchtext takes as input special tokens. We can then set the default index of the dictionary to be the unknown token. The name of the token is irrelevant, but any word that is not in our vocabulary will be mapped to index 0."
   ]
  },
  {
   "cell_type": "markdown",
   "metadata": {
    "id": "v5zSSLBlEWDH"
   },
   "source": [
    "We need to process our raw data further for the model to accept it. The get_collator function defined below (adapted from ShalyginaA[$^{1}$](#di-504-lab-2)) will give us a function that can be used to process each batch.\n",
    "\n",
    "After getting the vocabulary index of each word, we will need to handle the varying input lengths. One simple way to do this is to pad the rest of the empty space with an index (the unknown index in this case) such that the output is a proper tensor instead of a list of lists."
   ]
  },
  {
   "cell_type": "code",
   "execution_count": 12,
   "metadata": {
    "id": "8BhKrEB0EWDH"
   },
   "outputs": [],
   "source": [
    "def get_collator(pad_idx):\n",
    "    def collate(batch):\n",
    "        texts, labels = zip(*batch)\n",
    "\n",
    "        # words are turned into their vocabulary index\n",
    "        texts = [torch.tensor(vocab(x)) for x in texts]\n",
    "        # empty space is padded here, and batch dim is made the first\n",
    "        texts = torch.nn.utils.rnn.pad_sequence(texts, padding_value=pad_idx, batch_first=True)\n",
    "\n",
    "        labels = torch.tensor(labels)\n",
    "\n",
    "        return texts, labels\n",
    "    return collate"
   ]
  },
  {
   "cell_type": "markdown",
   "metadata": {
    "id": "P8LnTccxEWDH"
   },
   "source": [
    "We can set seeds for the random number generators in torch using the first 3 lines below:\n",
    "\n",
    "torch.manual_seed will mostly control stuff outside the model description, (given it is defined in the gpu) like `random_split` in this case.\n",
    "\n",
    "Setting seeds will allow you to have reproducible code blocks and codebases, but usually for scientific research you would run experiments with different splits and model initiations and report the distribution of performance metrics across experiments."
   ]
  },
  {
   "cell_type": "code",
   "execution_count": 14,
   "metadata": {
    "colab": {
     "base_uri": "https://localhost:8080/"
    },
    "id": "fUCjnL7QEWDH",
    "outputId": "82e83b4f-bd50-4e3a-b6e6-b9d3be334eba"
   },
   "outputs": [
    {
     "data": {
      "text/plain": [
       "array([list(['thi', 'desper', 'thoroughli', 'silli', 'attempt', 'keep', 'hammer', 'dracula', 'franchis', 'aliv', 'despit', 'lost', 'power', 'long', 'time', 'alreadi', 'legendari', 'vampir', 'brought', 'back', 'life', 'swing', 'london', 'exactli', 'hundr', 'year', 'wa', 'destroy', 'hi', 'archenemi', 'van', 'hels', 'occult', 'discipl', 'name', 'johnni', 'alucard', 'get', 'get', 'gather', 'hi', 'flamboy', 'friend', 'abandon', 'church', 'among', 'van', 'hels', 'great', 'granddaught', 'jessica', 'perform', 'satan', 'ritual', 'resurrect', 'dracula', 'haze', 'smoke', 'dracula', 'onli', 'mission', 'wreak', 'havoc', 'upon', 'entir', 'van', 'hels', 'lineag', 'fragil', 'jessica', 'ideal', 'victim', 'achiev', 'thi', 'thi', 'probabl', 'onli', 'goe', 'immens', 'top', 'tri', 'look', 'like', 'consid', 'previou', 'six', 'dracula', 'set', 'victorian', 'era', 'director', 'alan', 'gibson', 'realli', 'want', 'stress', 'fact', 'th', 'centuri', 'thu', 'stuff', 'hi', 'insuffer', 'hippiecharact', 'hideou', 'fashion', 'trend', 'aw', 'music', 'christoph', 'lee', 'peter', 'cush', 'seem', 'hopelessli', 'lost', 'thi', 'set', 'perform', 'regret', 'show', 'open', 'sequenc', 'flashback', 'showdown', 'climax', 'fairli', 'enjoy', 'everyth', 'pain', 'bore', 'complet', 'opposit', 'scari', 'greatest', 'element', 'thi', 'seri', 'alway', 'dracula', 'dark', 'castl', 'exhilar', 'coach', 'race', 'obvious', 'thi', 'instal', 'lack', 'luckili', 'fan', 'hammer', 'studio', 'contemporari', 'releas', 'revolv', 'vampir', 'much', 'better', 'vampir', 'lover', 'twin', 'evil', 'legend', 'seven', 'golden', 'vampir', 'recommend']),\n",
       "       0], dtype=object)"
      ]
     },
     "execution_count": 14,
     "metadata": {},
     "output_type": "execute_result"
    }
   ],
   "source": [
    "torch.manual_seed(1337)\n",
    "torch.cuda.manual_seed(1337)\n",
    "torch.cuda.manual_seed_all(1337)\n",
    "\n",
    "from torch.utils.data import random_split\n",
    "\n",
    "train_set, valid_set, test_set = random_split(data, lengths=[0.7,0.15,0.15])\n",
    "next(iter(train_set))"
   ]
  },
  {
   "cell_type": "markdown",
   "metadata": {
    "id": "qJmKQ1ptEWDH"
   },
   "source": [
    "Now that we have our dataset as an iterable object, we can wrap the DataLoader structure using the collate_fn."
   ]
  },
  {
   "cell_type": "code",
   "execution_count": 15,
   "metadata": {
    "colab": {
     "base_uri": "https://localhost:8080/"
    },
    "id": "TqeaI1S6EWDI",
    "outputId": "fa4877e2-cfbd-4f85-c078-423f55a8cba1"
   },
   "outputs": [
    {
     "data": {
      "text/plain": [
       "(tensor([[   75,     0, 17084,  ...,    63,  1207,   100],\n",
       "         [  605,   259,   200,  ...,     0,     0,     0],\n",
       "         [ 1067,   373,  4708,  ...,     0,     0,     0],\n",
       "         ...,\n",
       "         [    0,  3701,  2289,  ...,     0,     0,     0],\n",
       "         [12033,   318,   357,  ...,     0,     0,     0],\n",
       "         [   57,   545,  5747,  ...,     0,     0,     0]]),\n",
       " tensor([1, 1, 1, 1, 1, 1, 1, 1, 0, 1, 1, 0, 0, 1, 1, 1, 0, 1, 1, 1, 0, 1, 0, 1,\n",
       "         1, 1, 0, 1, 1, 0, 1, 0, 1, 1, 1, 0, 1, 0, 0, 0, 1, 0, 0, 1, 1, 0, 0, 0,\n",
       "         0, 1, 0, 1, 0, 0, 1, 1, 0, 1, 1, 1, 1, 0, 1, 0]))"
      ]
     },
     "execution_count": 15,
     "metadata": {},
     "output_type": "execute_result"
    }
   ],
   "source": [
    "pad_idx = 0\n",
    "collator = get_collator(pad_idx)\n",
    "\n",
    "batch_size = 64\n",
    "\n",
    "text_len = torch.tensor([len(x[0]) for x in train_set])\n",
    "train_batches = torch.split(torch.sort(text_len, descending=True)[1], batch_size)\n",
    "\n",
    "train_loader = torch.utils.data.DataLoader(\n",
    "    train_set, batch_sampler = train_batches,\n",
    "    shuffle = False, collate_fn = collator\n",
    ")\n",
    "\n",
    "valid_loader = torch.utils.data.DataLoader(\n",
    "    valid_set, batch_size = batch_size,\n",
    "    shuffle = False, collate_fn = collator\n",
    ")\n",
    "\n",
    "test_loader = torch.utils.data.DataLoader(\n",
    "    test_set, batch_size = batch_size,\n",
    "    shuffle = False, collate_fn = collator\n",
    ")\n",
    "\n",
    "next(iter(train_loader))"
   ]
  },
  {
   "cell_type": "markdown",
   "metadata": {
    "id": "24F6D9nTEWDI"
   },
   "source": [
    "As you can see, we have vocabulary indices of words for each sentence. Each batch is padded with 0's.\n",
    "\n",
    "To reduce the computational load padding will introduce, we instructed the training dataloader to sample batches that have lengths of text close to each other.\n",
    "\n",
    "We also have the sentiment for each sentence. (1 = Positive, 0 = Negative)"
   ]
  },
  {
   "cell_type": "code",
   "execution_count": 19,
   "metadata": {
    "colab": {
     "base_uri": "https://localhost:8080/"
    },
    "id": "XhRHA8PB-QaM",
    "outputId": "9f7fc907-7921-470d-8279-63c0e0398eef"
   },
   "outputs": [
    {
     "name": "stdout",
     "output_type": "stream",
     "text": [
      "torch.Size([64, 1181])\n",
      "torch.Size([64, 559])\n",
      "torch.Size([64, 535])\n",
      "torch.Size([64, 517])\n",
      "torch.Size([64, 501])\n",
      "torch.Size([64, 489])\n"
     ]
    }
   ],
   "source": [
    "for i,batch in enumerate(train_loader):\n",
    "    print(batch[0].shape)\n",
    "    if i == 5:\n",
    "        break"
   ]
  },
  {
   "cell_type": "markdown",
   "metadata": {
    "id": "ytfuStTwEWDI"
   },
   "source": [
    "## Conv1D and Conv2D"
   ]
  },
  {
   "cell_type": "markdown",
   "metadata": {
    "id": "FX9SJXRwEWDJ"
   },
   "source": [
    "If you previously worked with CNN’s with machine vision tasks, this part sould seem similar to you. As input we have word embeddings which is essentially a 2-dimensional array like images. How we will process them actually changes with the two implementations of a convolution we will cover.\n",
    "\n",
    "Our model structure will look similar to the figure above. After passing our corpus from different filters we will concatenate them and pass through a linear layer to obtain desired dimensions. Figure above shows a convolutional network with 3x2=6 different filters."
   ]
  },
  {
   "cell_type": "markdown",
   "metadata": {
    "id": "fuz4p1gVEWDJ"
   },
   "source": [
    "In PyTorch there are few different convolutional layer architectures. You maybe familiar with `Conv2D` module from image processing tasks. Because our text input is one dimensional array, we can also use `Conv1D`. Firstly let’s see the differences between these two modules."
   ]
  },
  {
   "cell_type": "markdown",
   "metadata": {
    "id": "BNV4g6LhEWDJ"
   },
   "source": [
    "`Conv1D` module takes 1 or 2 dimensional array as input. `in_channels` parameter is for depth of the 2nd dimension. `kernel_size` parameters determines sizes of the kernel and `out_channels` parameter determines how many filters will be used. Example below uses 2 different filters with 2 kernel size."
   ]
  },
  {
   "cell_type": "code",
   "execution_count": 17,
   "metadata": {
    "colab": {
     "base_uri": "https://localhost:8080/"
    },
    "id": "bHFE2xniEWDK",
    "outputId": "37ec7496-7494-4fd4-f4be-1df691423d15"
   },
   "outputs": [
    {
     "name": "stdout",
     "output_type": "stream",
     "text": [
      "torch.Size([6, 5])\n",
      "torch.Size([6, 5, 3])\n",
      "torch.Size([6, 1, 5, 3])\n",
      "torch.Size([6, 2, 4, 1])\n"
     ]
    }
   ],
   "source": [
    "print(dum.shape)\n",
    "print(x.shape)\n",
    "print(x.unsqueeze(1).shape)\n",
    "\n",
    "cvd2 = torch.nn.Conv2d(in_channels=1, out_channels=2, kernel_size=(2,3))  # in kernel size 2x3, 3 is the embedding dimension\n",
    "\n",
    "print(cvd2(x.unsqueeze(1)).shape)"
   ]
  },
  {
   "cell_type": "code",
   "execution_count": 16,
   "metadata": {
    "colab": {
     "base_uri": "https://localhost:8080/"
    },
    "id": "25GLH3m1EWDJ",
    "outputId": "637f52fc-905c-45a7-cd6a-d2101b29e18b"
   },
   "outputs": [
    {
     "name": "stdout",
     "output_type": "stream",
     "text": [
      "torch.Size([6, 5])\n",
      "torch.Size([6, 5, 3])\n",
      "torch.Size([6, 3, 5])\n",
      "torch.Size([6, 1, 4])\n"
     ]
    }
   ],
   "source": [
    "embedding = torch.nn.Embedding(10, 3)\n",
    "dum= torch.tensor([[1,2,3,4,5],[1,2,3,4,5],[1,2,3,4,5],[1,2,3,4,5],[1,2,3,4,5],[2,5,6,2,5]])\n",
    "x= embedding(dum)\n",
    "print(dum.shape)\n",
    "print(x.shape)\n",
    "print(x.transpose(1,2).shape) # if we didnt have batches we could have used rot90()\n",
    "\n",
    "cvd1 = torch.nn.Conv1d(in_channels=3, out_channels=1,kernel_size=2)\n",
    "\n",
    "print(cvd1(x.transpose(1,2)).shape)"
   ]
  },
  {
   "cell_type": "markdown",
   "metadata": {
    "id": "Y-biRhliEWDK"
   },
   "source": [
    "On the other hand `Conv2D` module takes 2 or 3 dimensional arras as input. `in_channels` parameter is for depth of the 3rd dimension. `kernel_size` parameters determines sizes of the kernel and `out_channels` parameter determines how many filters will be used. Example below uses 3 different filters with 2x3 size."
   ]
  },
  {
   "cell_type": "markdown",
   "metadata": {
    "id": "XvHtmKCfcX73"
   },
   "source": [
    "For our case, a 2D convolution won't make much sense as parts of a words embedding might not correlate well with the same part of another word. There can only be correlation if we consider the whole embedding space.\n",
    "\n",
    "If we were to set the second dimension of the kernel to 100, we would essentially be doing 1D convolution with extra steps, as we would only move forward in the sequence. Hence we will use the 1D implementation of convolutions in our model."
   ]
  },
  {
   "cell_type": "markdown",
   "metadata": {
    "id": "3vGCbQGjEWDK"
   },
   "source": [
    "## Helper functions for the training loop"
   ]
  },
  {
   "cell_type": "markdown",
   "metadata": {
    "id": "-kc7B9_qcX73"
   },
   "source": [
    "Here we will define functions to do training and validation at each epoch. They are written to take in different models, dataloaders and loss functions. Each function reports  "
   ]
  },
  {
   "cell_type": "code",
   "execution_count": 18,
   "metadata": {
    "id": "OFJxA7OZEWDK"
   },
   "outputs": [],
   "source": [
    "def accuracy(preds, y):\n",
    "    \"\"\" Return accuracy per batch. \"\"\"\n",
    "    correct = (torch.round(torch.sigmoid(preds)) == y).float()\n",
    "    return correct.sum() / len(correct)\n",
    "\n",
    "def train(model, iterator, optimizer, criterion):\n",
    "    '''Train the model with specified data, optimizer, and loss function. '''\n",
    "    epoch_loss = 0\n",
    "    epoch_acc = 0\n",
    "\n",
    "    model.train()\n",
    "\n",
    "    for text, label in iterator:\n",
    "        text, label = text.to(device), label.to(device)\n",
    "\n",
    "        predictions = model(text).squeeze(1)\n",
    "        loss = criterion(predictions, label.float())\n",
    "\n",
    "        optimizer.zero_grad()\n",
    "        loss.backward()\n",
    "        optimizer.step()\n",
    "\n",
    "        acc = accuracy(predictions, label)\n",
    "\n",
    "        epoch_loss += loss.item()\n",
    "        epoch_acc += acc.item()\n",
    "\n",
    "    return epoch_loss / len(iterator), epoch_acc / len(iterator)\n",
    "\n",
    "\n",
    "def evaluate(model, iterator, criterion):\n",
    "    '''Evaluate model performance. '''\n",
    "    epoch_loss = 0\n",
    "    epoch_acc = 0\n",
    "\n",
    "    # Turm off dropout while evaluating\n",
    "    model.eval()\n",
    "\n",
    "    # No need to backprop in eval\n",
    "    with torch.no_grad():\n",
    "        for text, label in iterator:\n",
    "            text, label = text.to(device), label.to(device)\n",
    "            predictions = model(text).squeeze(1)\n",
    "            loss = criterion(predictions, label.float())\n",
    "            acc = accuracy(predictions, label)\n",
    "\n",
    "            epoch_loss += loss.item()\n",
    "            epoch_acc += acc.item()\n",
    "\n",
    "    return epoch_loss / len(iterator), epoch_acc / len(iterator)"
   ]
  },
  {
   "cell_type": "markdown",
   "metadata": {
    "id": "o4H_h_69EWDL"
   },
   "source": [
    "Training and evaluation loops were written as functions, for ease of access during multi-epoch training. Notice how on the training function we set model to \"train mode\", and for the evaluation one model is set to \"eval mode\"."
   ]
  },
  {
   "cell_type": "markdown",
   "metadata": {
    "id": "yLw7rB_sEWDL"
   },
   "source": [
    "## 1D Convolutional Neural Network Definition"
   ]
  },
  {
   "cell_type": "markdown",
   "metadata": {},
   "source": [
    "![NLP CNN.png](data:image/png;base64,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)"
   ]
  },
  {
   "cell_type": "markdown",
   "metadata": {
    "id": "kgYAkSVDEWDL"
   },
   "source": [
    "Notice how the convolutions with different filter sizes will be done in parallel using nn.ModuleList. Once we get activation maps, we will use a pooling layer to reduce all sentences to length one by taking the maximum activation.\n",
    "\n",
    "Result of each convolution will be concatenated after the pooling layer. While this model does not generate deep features, we will later increase the model complexity and also initialize the embeddings from pre-trained weights to improve upon it. (As you can imagine CNN's aren't used for NLP anymore, and the way they can learn deep features was understood better in computer vision tasks.)"
   ]
  },
  {
   "cell_type": "code",
   "execution_count": 24,
   "metadata": {
    "id": "eWBoqtuAEWDM"
   },
   "outputs": [],
   "source": [
    "from torch import nn\n",
    "import torch.nn.functional as F\n",
    "\n",
    "class CNN_1D(nn.Module):\n",
    "    ''' Define network architecture and forward path. '''\n",
    "    def __init__(self, vocab_size, embed_dim, filter_sizes, n_filters, output_dim, dropout, pad_idx):\n",
    "        super().__init__()\n",
    "        # Create word embeddings from the input words\n",
    "        self.embedding = nn.Embedding(vocab_size, embed_dim,\n",
    "                                      padding_idx = pad_idx)\n",
    "\n",
    "        # Specify convolutions with filters of different sizes (fs)\n",
    "        self.convs = nn.ModuleList([nn.Conv1d(in_channels = embed_dim,\n",
    "                                              out_channels = n_filters,\n",
    "                                              kernel_size = fs)\n",
    "                                    for fs in filter_sizes])\n",
    "\n",
    "        # Add a fully connected layer for final predicitons\n",
    "        self.linear = nn.Linear(len(filter_sizes) * n_filters, output_dim)\n",
    "\n",
    "        # Deactivate random neurons to increase robustness in training\n",
    "        self.dropout = nn.Dropout(dropout)\n",
    "\n",
    "    def forward(self, text):\n",
    "        '''Forward path of the network.'''\n",
    "        # Get word embeddings and format them for convolutions\n",
    "        embedded = self.embedding(text).transpose(1,2)\n",
    "\n",
    "        # Perform convolutions and apply relu activation\n",
    "        conved = [F.relu(conv(embedded)) for conv in self.convs]\n",
    "\n",
    "        # Pooling layer will reduce the sentence into 5 1x{n_filters} vectors\n",
    "        pooled = [F.max_pool1d(conv, conv.shape[2]).squeeze(2) for conv in conved]\n",
    "\n",
    "        # Concatenate each filter response side by side to get a 1x10 vector\n",
    "        # Notice the use of dropout. This will prevent memorisation (overfitting)\n",
    "        cat = torch.cat(pooled, dim = 1)\n",
    "        out = self.linear(self.dropout(cat))\n",
    "        return out"
   ]
  },
  {
   "cell_type": "markdown",
   "metadata": {
    "id": "QAO-jne8cX73"
   },
   "source": [
    "Let's define our model parameters in a dictionary for convenience:"
   ]
  },
  {
   "cell_type": "code",
   "execution_count": 25,
   "metadata": {
    "id": "TEtz3-2IcX73"
   },
   "outputs": [],
   "source": [
    "cnn_params = {\n",
    "    'vocab_size': vocab_size,     # Number of words in our vocab (30000)\n",
    "    'embed_dim': 100,             # Shape of the vector repr. for each word\n",
    "    'filter_sizes': [1,2,3,4,5],  # N-grams we will consider\n",
    "    'n_filters': 2,               # Number of filters for each N-gram\n",
    "    'output_dim': 1,              # Output of our model (probability of positive)\n",
    "    'dropout': 0.5,               # Proportion of units to drop in the final layer\n",
    "    'pad_idx': 0                  # Location of the unknown/padding token in vocab\n",
    "}"
   ]
  },
  {
   "cell_type": "markdown",
   "metadata": {
    "id": "JoPQfaARcX74"
   },
   "source": [
    "We can initiate the model by unpacking our dictionary inside the model definition. We will then send the model to the appropriate device based on the checks defined."
   ]
  },
  {
   "cell_type": "code",
   "execution_count": 26,
   "metadata": {
    "id": "F018YhNJcX74"
   },
   "outputs": [],
   "source": [
    "\n",
    "if torch.cuda.is_available():\n",
    "    device = 'cuda'\n",
    "elif torch.backends.mps.is_available():\n",
    "    device = 'mps'\n",
    "else:\n",
    "    device = 'cpu'\n",
    "\n",
    "model = CNN_1D(**cnn_params).to(device)"
   ]
  },
  {
   "cell_type": "markdown",
   "metadata": {
    "id": "vl1aWSkOEWDN"
   },
   "source": [
    "For the optimizer, [Adam](https://pytorch.org/docs/stable/generated/torch.optim.Adam.html) is used this time. It is more efficient than SGD in reaching the loss minima for many domains.\n",
    "\n",
    "BCE stands for binary cross entropy, and is the standard loss function for any binary classification problem (where classes are nominal in nature). [`BCEWithLogitsLoss`](https://pytorch.org/docs/stable/generated/torch.nn.BCEWithLogitsLoss.html) is a version of BCE that combines the sigmoid activation, allowing us to not use the sigmoid in the model definition. This is argued to be slightly faster, but overall not a huge deal."
   ]
  },
  {
   "cell_type": "code",
   "execution_count": 28,
   "metadata": {
    "id": "NjLFjui3EWDO"
   },
   "outputs": [],
   "source": [
    "optimizer = torch.optim.Adam(model.parameters(), lr=0.001) # Network optimizer\n",
    "\n",
    "criterion = nn.BCEWithLogitsLoss() # Loss function"
   ]
  },
  {
   "cell_type": "markdown",
   "metadata": {
    "id": "DeaDJ05jEWDO"
   },
   "source": [
    "## Training loop in action"
   ]
  },
  {
   "cell_type": "markdown",
   "metadata": {
    "id": "p1N3GtazEWDO"
   },
   "source": [
    "Bringing everything together is the loop below. It will call the train and evaluate functions defined above for 10 epochs. We will also track accuracy and loss for each epoch and print them out to track the model while its learning."
   ]
  },
  {
   "cell_type": "code",
   "execution_count": 29,
   "metadata": {
    "colab": {
     "base_uri": "https://localhost:8080/"
    },
    "id": "kJOEZDabEWDO",
    "outputId": "890bfe58-ab4b-4a10-c1a8-67de715941f2"
   },
   "outputs": [
    {
     "name": "stdout",
     "output_type": "stream",
     "text": [
      "Epoch  1 ended.\n",
      "\tTrain Loss: 0.672 | Train Acc: 57.35%\n",
      "\t Val. Loss: 0.545 |  Val. Acc: 73.95%\n",
      "Epoch  2 ended.\n",
      "\tTrain Loss: 0.575 | Train Acc: 68.66%\n",
      "\t Val. Loss: 0.477 |  Val. Acc: 77.00%\n",
      "Epoch  3 ended.\n",
      "\tTrain Loss: 0.529 | Train Acc: 74.09%\n",
      "\t Val. Loss: 0.448 |  Val. Acc: 80.06%\n",
      "Epoch  4 ended.\n",
      "\tTrain Loss: 0.496 | Train Acc: 76.88%\n",
      "\t Val. Loss: 0.415 |  Val. Acc: 82.07%\n",
      "Epoch  5 ended.\n",
      "\tTrain Loss: 0.458 | Train Acc: 79.46%\n",
      "\t Val. Loss: 0.394 |  Val. Acc: 83.41%\n",
      "Epoch  6 ended.\n",
      "\tTrain Loss: 0.433 | Train Acc: 81.31%\n",
      "\t Val. Loss: 0.386 |  Val. Acc: 83.76%\n",
      "Epoch  7 ended.\n",
      "\tTrain Loss: 0.411 | Train Acc: 82.65%\n",
      "\t Val. Loss: 0.388 |  Val. Acc: 83.61%\n",
      "Epoch  8 ended.\n",
      "\tTrain Loss: 0.384 | Train Acc: 84.05%\n",
      "\t Val. Loss: 0.378 |  Val. Acc: 83.79%\n",
      "Epoch  9 ended.\n",
      "\tTrain Loss: 0.370 | Train Acc: 84.90%\n",
      "\t Val. Loss: 0.391 |  Val. Acc: 83.54%\n",
      "Epoch 10 ended.\n",
      "\tTrain Loss: 0.348 | Train Acc: 86.16%\n",
      "\t Val. Loss: 0.404 |  Val. Acc: 82.99%\n"
     ]
    }
   ],
   "source": [
    "n_epochs = 10\n",
    "\n",
    "train_loss, train_acc = evaluate(model, train_loader, criterion)\n",
    "valid_loss, valid_acc = evaluate(model, valid_loader, criterion)\n",
    "\n",
    "val_loss = [valid_loss]\n",
    "val_acc = [valid_acc]\n",
    "tr_loss = [train_loss]\n",
    "tr_acc = [train_acc]\n",
    "\n",
    "for epoch in range(n_epochs):\n",
    "\n",
    "    # Get epoch losses and accuracies\n",
    "    train_loss, train_acc = train(model, train_loader, optimizer, criterion)\n",
    "    valid_loss, valid_acc = evaluate(model, valid_loader, criterion)\n",
    "\n",
    "    # Save training metrics\n",
    "    val_loss.append(valid_loss)\n",
    "    val_acc.append(valid_acc)\n",
    "    tr_loss.append(train_loss)\n",
    "    tr_acc.append(train_acc)\n",
    "\n",
    "    print(f'Epoch {epoch+1:2} ended.')\n",
    "    print(f'\\tTrain Loss: {train_loss:.3f} | Train Acc: {train_acc*100:.2f}%')\n",
    "    print(f'\\t Val. Loss: {valid_loss:.3f} |  Val. Acc: {valid_acc*100:.2f}%')"
   ]
  },
  {
   "cell_type": "code",
   "execution_count": 30,
   "metadata": {
    "colab": {
     "base_uri": "https://localhost:8080/",
     "height": 487
    },
    "id": "Eb0rPmnrEWDO",
    "outputId": "e5dd433c-a0d4-4c10-a451-f1fafd58b86f"
   },
   "outputs": [
    {
     "data": {
      "image/png": "[encoded data removed]",
      "text/plain": [
       "<Figure size 1100x500 with 2 Axes>"
      ]
     },
     "metadata": {},
     "output_type": "display_data"
    }
   ],
   "source": [
    "# Plot loss and accuracy curves\n",
    "fig, ax = plt.subplots(1, 2, figsize=(11,5))\n",
    "\n",
    "ax[0].plot(val_loss, label='Validation loss')\n",
    "ax[0].plot(tr_loss, label='Training loss')\n",
    "ax[0].set_title('BCE Losses')\n",
    "ax[0].set_xlabel('Epoch')\n",
    "ax[0].set_ylabel('Loss')\n",
    "ax[0].legend()\n",
    "\n",
    "ax[1].plot(val_acc, label='Validation accuracy', c='r')\n",
    "ax[1].plot(tr_acc, label='Training accuracy', c='g')\n",
    "ax[1].set_title('Accuracies')\n",
    "ax[1].set_xlabel('Epoch')\n",
    "ax[1].set_ylabel('Accuracy')\n",
    "ax[1].legend()\n",
    "\n",
    "plt.show()"
   ]
  },
  {
   "cell_type": "markdown",
   "metadata": {
    "id": "AGl-rBf5EWDP"
   },
   "source": [
    "Since we tested the model on the two sets before any training, the models start out with poor accuracies around 50%, not better than a coin toss.\n",
    "\n",
    "By looking at these graphs we can conclude that the model learned sufficiently until epoch 10, when the training set performance exceeded that of the validation set."
   ]
  },
  {
   "cell_type": "markdown",
   "metadata": {
    "id": "pn72Wt3eEWDP"
   },
   "source": [
    "## Evaluation"
   ]
  },
  {
   "cell_type": "markdown",
   "metadata": {
    "id": "XJDJaZu4-QaP"
   },
   "source": [
    "With our trained model we can observe it's performance on the test set. Note that this value represents the average accuracy across all batches, though our batch size of 64 should be representative enough."
   ]
  },
  {
   "cell_type": "code",
   "execution_count": 31,
   "metadata": {
    "colab": {
     "base_uri": "https://localhost:8080/"
    },
    "id": "8zJTTGBRcX75",
    "outputId": "81d7fdc8-6b3e-46a8-8bfc-f9d82e3349e2"
   },
   "outputs": [
    {
     "name": "stdout",
     "output_type": "stream",
     "text": [
      "Accuracy of our model on the test set is: 83.63%\n"
     ]
    }
   ],
   "source": [
    "_, test_acc = evaluate(model, test_loader, criterion)\n",
    "print(f'Accuracy of our model on the test set is: {test_acc:.2%}')"
   ]
  },
  {
   "cell_type": "code",
   "execution_count": 32,
   "metadata": {
    "colab": {
     "base_uri": "https://localhost:8080/"
    },
    "id": "Zcaoc9jlEWDP",
    "outputId": "54352e41-79f1-4d7d-ff08-837fb51c3c22"
   },
   "outputs": [
    {
     "data": {
      "text/plain": [
       "[0.6875895261764526, 0.22285158932209015, 0.0013246028684079647]"
      ]
     },
     "execution_count": 32,
     "metadata": {},
     "output_type": "execute_result"
    }
   ],
   "source": [
    "def sentiment(model, sentence, min_len = 5):\n",
    "    '''Predict user-defined review sentiment.'''\n",
    "    model.eval()\n",
    "    tokenized = preprocess(sentence)\n",
    "    if len(tokenized) < min_len:\n",
    "        tokenized += ['<pad>'] * (min_len - len(tokenized))\n",
    "    # Map words to word embeddings\n",
    "    indexed = vocab(tokenized)\n",
    "\n",
    "    tensor = torch.LongTensor(indexed).to(device)\n",
    "    tensor = tensor.unsqueeze(0)\n",
    "    # Get predicitons\n",
    "    prediction = torch.sigmoid(model(tensor))\n",
    "    return prediction.item()\n",
    "\n",
    "reviews = ['This is the best movie I have ever watched!',\n",
    "           'This is an okay movie, I just hated the lead',\n",
    "           'This was a waste of time! I hated this movie.']\n",
    "scores = [sentiment(model, review) for review in reviews]\n",
    "scores"
   ]
  },
  {
   "cell_type": "markdown",
   "metadata": {
    "id": "IHeO5rDrEWDP"
   },
   "source": [
    "Our model seems to give accurate sentiment scores to different reviews, even those with some nuance."
   ]
  },
  {
   "cell_type": "code",
   "execution_count": 33,
   "metadata": {
    "colab": {
     "base_uri": "https://localhost:8080/"
    },
    "id": "HUWy5qyxEWDQ",
    "outputId": "db66a397-b803-4313-ba15-c5603e5ee2bf"
   },
   "outputs": [
    {
     "data": {
      "text/plain": [
       "[0.6875895261764526, 0.915434718132019, 0.001536593190394342]"
      ]
     },
     "execution_count": 33,
     "metadata": {},
     "output_type": "execute_result"
    }
   ],
   "source": [
    "tricky_reviews = ['This is not the best movie I have ever watched!',\n",
    "           'Some would say it is an okay movie, but I found it terrific.',\n",
    "           'This was a waste of time! I did not like this movie.']\n",
    "scores = [sentiment(model, review) for review in tricky_reviews]\n",
    "scores"
   ]
  },
  {
   "cell_type": "markdown",
   "metadata": {
    "id": "eTmEHhUGEWDQ"
   },
   "source": [
    "When given more words, the model can give more accurate results.\n",
    "\n",
    "Remember that a rather large chunk of the words are cleaned as they don't carry much semantic meaning, like \"would, is, I, it\", so the model saw the same exact words for the first review in both cases.\n",
    "\n",
    "But now the review in the middle prompts the model to give a more appropriate response."
   ]
  },
  {
   "cell_type": "markdown",
   "metadata": {
    "id": "FZcufo7JcX76"
   },
   "source": [
    "## Increasing the number of filters"
   ]
  },
  {
   "cell_type": "markdown",
   "metadata": {
    "id": "UBbOdJR-infI"
   },
   "source": [
    "Let's now update the number of filters from 2 to 30 and see how our model performance changes."
   ]
  },
  {
   "cell_type": "code",
   "execution_count": 34,
   "metadata": {
    "colab": {
     "base_uri": "https://localhost:8080/"
    },
    "id": "Pne77HjVcX76",
    "outputId": "42f512ed-e922-46d5-8fdf-12aa9a9b5a8b"
   },
   "outputs": [
    {
     "name": "stdout",
     "output_type": "stream",
     "text": [
      "{'vocab_size': 30000, 'embed_dim': 100, 'filter_sizes': [1, 2, 3, 4, 5], 'n_filters': 30, 'output_dim': 1, 'dropout': 0.5, 'pad_idx': 0}\n"
     ]
    }
   ],
   "source": [
    "cnn_params.update({'n_filters':30})\n",
    "print(cnn_params)"
   ]
  },
  {
   "cell_type": "code",
   "execution_count": 35,
   "metadata": {
    "id": "8Jn4FyjUcX76"
   },
   "outputs": [],
   "source": [
    "model = CNN_1D(**cnn_params).to(device)\n",
    "\n",
    "optimizer = torch.optim.Adam(model.parameters(), lr=0.001) # Network optimizer\n",
    "\n",
    "criterion = nn.BCEWithLogitsLoss()"
   ]
  },
  {
   "cell_type": "code",
   "execution_count": 36,
   "metadata": {
    "colab": {
     "base_uri": "https://localhost:8080/"
    },
    "id": "6IH98HSfcX76",
    "outputId": "9924b448-6d65-4b32-c721-831e35ad3348"
   },
   "outputs": [
    {
     "name": "stdout",
     "output_type": "stream",
     "text": [
      "Epoch  1 ended.\n",
      "\tTrain Loss: 0.590 | Train Acc: 67.71%%\n",
      "\t Val. Loss: 0.417 |  Val. Acc: 80.88%%\n",
      "Epoch  2 ended.\n",
      "\tTrain Loss: 0.444 | Train Acc: 79.16%%\n",
      "\t Val. Loss: 0.344 |  Val. Acc: 85.09%%\n",
      "Epoch  3 ended.\n",
      "\tTrain Loss: 0.384 | Train Acc: 82.64%%\n",
      "\t Val. Loss: 0.316 |  Val. Acc: 86.38%%\n",
      "Epoch  4 ended.\n",
      "\tTrain Loss: 0.337 | Train Acc: 85.42%%\n",
      "\t Val. Loss: 0.302 |  Val. Acc: 87.21%%\n",
      "Epoch  5 ended.\n",
      "\tTrain Loss: 0.303 | Train Acc: 87.16%%\n",
      "\t Val. Loss: 0.292 |  Val. Acc: 87.58%%\n",
      "Epoch  6 ended.\n",
      "\tTrain Loss: 0.265 | Train Acc: 89.21%%\n",
      "\t Val. Loss: 0.287 |  Val. Acc: 87.93%%\n",
      "Epoch  7 ended.\n",
      "\tTrain Loss: 0.233 | Train Acc: 90.52%%\n",
      "\t Val. Loss: 0.296 |  Val. Acc: 87.81%%\n",
      "Epoch  8 ended.\n",
      "\tTrain Loss: 0.198 | Train Acc: 92.19%%\n",
      "\t Val. Loss: 0.308 |  Val. Acc: 87.71%%\n",
      "Epoch  9 ended.\n",
      "\tTrain Loss: 0.167 | Train Acc: 93.53%%\n",
      "\t Val. Loss: 0.329 |  Val. Acc: 87.61%%\n",
      "Epoch 10 ended.\n",
      "\tTrain Loss: 0.139 | Train Acc: 94.80%%\n",
      "\t Val. Loss: 0.356 |  Val. Acc: 87.20%%\n"
     ]
    }
   ],
   "source": [
    "n_epochs = 10\n",
    "\n",
    "train_loss, train_acc = evaluate(model, train_loader, criterion)\n",
    "valid_loss, valid_acc = evaluate(model, valid_loader, criterion)\n",
    "\n",
    "val_loss2 = [valid_loss]\n",
    "val_acc2 = [valid_acc]\n",
    "tr_loss2 = [train_loss]\n",
    "tr_acc2 = [train_acc]\n",
    "\n",
    "for epoch in range(n_epochs):\n",
    "\n",
    "    # Get epoch losses and accuracies\n",
    "    train_loss, train_acc = train(model, train_loader, optimizer, criterion)\n",
    "    valid_loss, valid_acc = evaluate(model, valid_loader, criterion)\n",
    "\n",
    "    # Save training metrics\n",
    "    val_loss2.append(valid_loss)\n",
    "    val_acc2.append(valid_acc)\n",
    "    tr_loss2.append(train_loss)\n",
    "    tr_acc2.append(train_acc)\n",
    "\n",
    "    print(f'Epoch {epoch+1:2} ended.')\n",
    "    print(f'\\tTrain Loss: {train_loss:.3f} | Train Acc: {train_acc:.2%}%')\n",
    "    print(f'\\t Val. Loss: {valid_loss:.3f} |  Val. Acc: {valid_acc:.2%}%')"
   ]
  },
  {
   "cell_type": "code",
   "execution_count": 37,
   "metadata": {
    "colab": {
     "base_uri": "https://localhost:8080/"
    },
    "id": "uFEFpIe5cX76",
    "outputId": "25612644-855a-4b36-8883-697341d98ec5"
   },
   "outputs": [
    {
     "name": "stdout",
     "output_type": "stream",
     "text": [
      "Accuracy of our model on the test set is: 87.59%\n"
     ]
    }
   ],
   "source": [
    "_, test_acc = evaluate(model, test_loader, criterion)\n",
    "print(f'Accuracy of our model on the test set is: {test_acc:.2%}')"
   ]
  },
  {
   "cell_type": "markdown",
   "metadata": {
    "id": "lbeV3DnL-QaQ"
   },
   "source": [
    "This model achieves a better test set score. Let's now compare the training and validation metrics for the two models."
   ]
  },
  {
   "cell_type": "code",
   "execution_count": 38,
   "metadata": {
    "colab": {
     "base_uri": "https://localhost:8080/",
     "height": 472
    },
    "id": "SUJSrM7bcX76",
    "outputId": "236efe89-2ee0-47b9-c802-380f6d6204a6"
   },
   "outputs": [
    {
     "data": {
      "image/png": "[encoded data removed]",
      "text/plain": [
       "<Figure size 640x480 with 1 Axes>"
      ]
     },
     "metadata": {},
     "output_type": "display_data"
    }
   ],
   "source": [
    "plt.plot(tr_acc, label='Train @ n_filters = 2', c='lightblue')\n",
    "plt.plot(val_acc, label='Val @ n_filters = 2', c='dodgerblue',linestyle='dashed')\n",
    "plt.plot(tr_acc2, label='Train @ n_filters = 30', c='lightsalmon')\n",
    "plt.plot(val_acc2, label='Val @ n_filters = 30', c='tomato', linestyle='dashed')\n",
    "plt.title('Accuracies for differing n_filters')\n",
    "plt.xlabel('Epoch')\n",
    "plt.ylabel('Accuracy')\n",
    "plt.legend()\n",
    "plt.show()"
   ]
  },
  {
   "cell_type": "markdown",
   "metadata": {
    "id": "6PHLo8DS-QaQ"
   },
   "source": [
    "The more complex model achieves a better score overall, but seems to start overfitting  sooner. This is generally true for deep learning models in general. You can reduce overfitting by a couple example techniques:\n",
    "\n",
    "* Data augmentation. (Generating new training set examples by rules or other models.)\n",
    "\n",
    "* Schedule decreasing learning rates. (This can depend on simple functions like StepLR, Cosine Annealing or validation results).\n",
    "\n",
    "* Parameter regularization. (i.e. via AdamW)\n",
    "\n",
    "* Dropout. (For deeper models dropout percentages should be smaller than the example shown here.)\n",
    "\n",
    "* Early stopping. (This can both be literally done but also to simply save checkpoints and resume training.)\n",
    "\n",
    "Multiple techniques can be combined to achieve better results."
   ]
  },
  {
   "cell_type": "markdown",
   "metadata": {
    "id": "RwOxhXqTcX76"
   },
   "source": [
    "## Bonus: Using existing pre-trained models to accelerate training"
   ]
  },
  {
   "cell_type": "markdown",
   "metadata": {
    "id": "0avMwfgRcX77"
   },
   "source": [
    "Instead of training the embedding layer from scratch, we can utilize pre-trained GloVe ([Global Vectors for Word Representation](https://nlp.stanford.edu/projects/glove/)) embeddings instead.\n",
    "\n",
    "We will use their model trained with 6 billion tokens, and an embedding dimension of 100. (Running this code will download an 800 mb file if it wasn't downloaded before.)\n",
    "\n",
    "When we convert one of our sentences into these vectors, we will have an array of shape word length x 100"
   ]
  },
  {
   "cell_type": "code",
   "execution_count": 39,
   "metadata": {
    "colab": {
     "base_uri": "https://localhost:8080/"
    },
    "id": "oKMQBdoYcX77",
    "outputId": "29817d8c-4ca2-427e-e635-7a90b45779bc"
   },
   "outputs": [
    {
     "data": {
      "text/plain": [
       "array([[-0.22557 ,  0.49418 ,  0.4861  , ..., -0.45744 ,  0.49646 ,\n",
       "         0.34906 ],\n",
       "       [-0.74902 , -0.19963 ,  0.24901 , ..., -0.32662 ,  0.31207 ,\n",
       "         0.58199 ],\n",
       "       [-0.21568 ,  0.21229 ,  0.17246 , ..., -0.87301 , -0.1901  ,\n",
       "        -0.55754 ],\n",
       "       ...,\n",
       "       [-0.31036 , -0.18006 ,  0.80064 , ..., -0.5341  ,  0.16042 ,\n",
       "         0.15427 ],\n",
       "       [-0.27313 ,  0.53893 ,  0.5334  , ...,  0.14543 , -0.30142 ,\n",
       "         0.12638 ],\n",
       "       [-0.48104 ,  0.025006,  0.36128 , ...,  0.18845 ,  1.2672  ,\n",
       "        -0.12581 ]], dtype=float32)"
      ]
     },
     "execution_count": 39,
     "metadata": {},
     "output_type": "execute_result"
    }
   ],
   "source": [
    "from torchtext.vocab import GloVe\n",
    "\n",
    "global_vectors = GloVe(name='6B', dim=100)\n",
    "global_vectors.get_vecs_by_tokens(data[0,0]).numpy()"
   ]
  },
  {
   "cell_type": "markdown",
   "metadata": {
    "id": "6ZeUTfsocX77"
   },
   "source": [
    "To find the corresponding embeddings for our words in the dictionary we will use the `get_vecs_by_tokens` method.\n",
    "\n",
    "Notice how the first element is again set to zeros since it represents unknown words.\n",
    "\n",
    "We will replace the random initialization of the embedding layer in our model with these vectors.\n"
   ]
  },
  {
   "cell_type": "code",
   "execution_count": 42,
   "metadata": {},
   "outputs": [
    {
     "data": {
      "text/plain": [
       "torch.Size([2999900])"
      ]
     },
     "execution_count": 42,
     "metadata": {},
     "output_type": "execute_result"
    }
   ],
   "source": []
  },
  {
   "cell_type": "code",
   "execution_count": 40,
   "metadata": {
    "colab": {
     "base_uri": "https://localhost:8080/"
    },
    "id": "UnTdyS3rcX77",
    "outputId": "2a56497c-e0bf-4edc-d247-8e52fca25cd3"
   },
   "outputs": [
    {
     "data": {
      "text/plain": [
       "torch.Size([30000, 100])"
      ]
     },
     "execution_count": 40,
     "metadata": {},
     "output_type": "execute_result"
    }
   ],
   "source": [
    "word_list = sorted_by_freq_tuples[:vocab_size-1]\n",
    "\n",
    "x = [global_vectors.get_vecs_by_tokens(x[0]) for x in word_list]\n",
    "\n",
    "vocab_vectors = torch.cat(x).reshape(-1,cnn_params['embed_dim'])\n",
    "vocab_vectors = torch.cat([torch.zeros(1,cnn_params['embed_dim']), vocab_vectors], axis=0)\n",
    "vocab_vectors.shape"
   ]
  },
  {
   "cell_type": "markdown",
   "metadata": {
    "id": "4z6b23y2cX77"
   },
   "source": [
    "We can compare the distribution of dot products between the embedding weights for our task versus the GloVe vectors. As can be seen, mostly half of the embeddings have 0 similarity when the magnitudes are also taken into account. This is to be expected as our goal of sentiment analysis does not capture many aspects of language unlike GloVe."
   ]
  },
  {
   "cell_type": "code",
   "execution_count": 43,
   "metadata": {
    "colab": {
     "base_uri": "https://localhost:8080/",
     "height": 430
    },
    "id": "syraiNkLcX77",
    "outputId": "4114cf09-bb85-4522-bcbc-4c9ae381f92e"
   },
   "outputs": [
    {
     "data": {
      "image/png": "[encoded data removed]",
      "text/plain": [
       "<Figure size 640x480 with 1 Axes>"
      ]
     },
     "metadata": {},
     "output_type": "display_data"
    }
   ],
   "source": [
    "custom_embedding = model.embedding.weight.data.cpu()\n",
    "\n",
    "plt.hist((vocab_vectors * custom_embedding).sum(1),bins=30);"
   ]
  },
  {
   "cell_type": "markdown",
   "metadata": {
    "id": "W2bGoYxScX78"
   },
   "source": [
    "Now let's initialize our model again with our parameters from last time. Notice after copying the contents of GloVe vectors the embedding layer is frozen by setting its' weights' `requires_grad` field to false."
   ]
  },
  {
   "cell_type": "code",
   "execution_count": 44,
   "metadata": {
    "id": "lAP0RRuLcX78"
   },
   "outputs": [],
   "source": [
    "model = CNN_1D(**cnn_params).to(device)\n",
    "\n",
    "# load pre-trained weights from glove and freeze them\n",
    "model.embedding.weight.data.copy_(vocab_vectors.to(device))\n",
    "model.embedding.weight.requires_grad = False\n",
    "\n",
    "optimizer = torch.optim.Adam(model.parameters(), lr=0.001)\n",
    "criterion = nn.BCEWithLogitsLoss()"
   ]
  },
  {
   "cell_type": "markdown",
   "metadata": {
    "id": "FLS_yA8fcX78"
   },
   "source": [
    "This should improve training times a bit since we won't update 3 million parameters, but the forward passes will still take some time per batch."
   ]
  },
  {
   "cell_type": "code",
   "execution_count": 45,
   "metadata": {
    "colab": {
     "base_uri": "https://localhost:8080/"
    },
    "id": "cKYNRg-TcX78",
    "outputId": "4b5a2cd1-6196-45c1-e10f-b4077deeb238"
   },
   "outputs": [
    {
     "name": "stdout",
     "output_type": "stream",
     "text": [
      "Total number of parameters in our model: 3045301 \n",
      "Number of trainable parameters in our model: 45301\n"
     ]
    }
   ],
   "source": [
    "total_params = sum(p.numel() for p in model.parameters())\n",
    "trainable_params = sum(p.numel() for p in model.parameters() if p.requires_grad)\n",
    "\n",
    "print(f'Total number of parameters in our model: {total_params} \\n' \\\n",
    "      f'Number of trainable parameters in our model: {trainable_params}')"
   ]
  },
  {
   "cell_type": "code",
   "execution_count": 46,
   "metadata": {
    "colab": {
     "base_uri": "https://localhost:8080/"
    },
    "id": "0N-6sjvScX78",
    "outputId": "8da5b7e9-00b5-40b3-d576-02085d034d6b"
   },
   "outputs": [
    {
     "name": "stdout",
     "output_type": "stream",
     "text": [
      "Epoch  1 ended.\n",
      "\tTrain Loss: 0.550 | Train Acc: 71.18%%\n",
      "\t Val. Loss: 0.429 |  Val. Acc: 81.14%%\n",
      "Epoch  2 ended.\n",
      "\tTrain Loss: 0.442 | Train Acc: 79.56%%\n",
      "\t Val. Loss: 0.395 |  Val. Acc: 82.44%%\n",
      "Epoch  3 ended.\n",
      "\tTrain Loss: 0.411 | Train Acc: 81.11%%\n",
      "\t Val. Loss: 0.386 |  Val. Acc: 82.86%%\n",
      "Epoch  4 ended.\n",
      "\tTrain Loss: 0.392 | Train Acc: 82.51%%\n",
      "\t Val. Loss: 0.369 |  Val. Acc: 84.08%%\n",
      "Epoch  5 ended.\n",
      "\tTrain Loss: 0.376 | Train Acc: 83.17%%\n",
      "\t Val. Loss: 0.370 |  Val. Acc: 83.89%%\n",
      "Epoch  6 ended.\n",
      "\tTrain Loss: 0.363 | Train Acc: 84.00%%\n",
      "\t Val. Loss: 0.358 |  Val. Acc: 84.60%%\n",
      "Epoch  7 ended.\n",
      "\tTrain Loss: 0.346 | Train Acc: 84.94%%\n",
      "\t Val. Loss: 0.354 |  Val. Acc: 85.10%%\n",
      "Epoch  8 ended.\n",
      "\tTrain Loss: 0.336 | Train Acc: 85.33%%\n",
      "\t Val. Loss: 0.350 |  Val. Acc: 85.24%%\n",
      "Epoch  9 ended.\n",
      "\tTrain Loss: 0.329 | Train Acc: 85.91%%\n",
      "\t Val. Loss: 0.349 |  Val. Acc: 85.30%%\n",
      "Epoch 10 ended.\n",
      "\tTrain Loss: 0.318 | Train Acc: 86.33%%\n",
      "\t Val. Loss: 0.346 |  Val. Acc: 85.30%%\n"
     ]
    }
   ],
   "source": [
    "n_epochs = 10\n",
    "\n",
    "train_loss, train_acc = evaluate(model, train_loader, criterion)\n",
    "valid_loss, valid_acc = evaluate(model, valid_loader, criterion)\n",
    "\n",
    "val_loss3 = [valid_loss]\n",
    "val_acc3 = [valid_acc]\n",
    "tr_loss3 = [train_loss]\n",
    "tr_acc3 = [train_acc]\n",
    "\n",
    "for epoch in range(n_epochs):\n",
    "\n",
    "    # Get epoch losses and accuracies\n",
    "    train_loss, train_acc = train(model, train_loader, optimizer, criterion)\n",
    "    valid_loss, valid_acc = evaluate(model, valid_loader, criterion)\n",
    "\n",
    "    # Save training metrics\n",
    "    val_loss3.append(valid_loss)\n",
    "    val_acc3.append(valid_acc)\n",
    "    tr_loss3.append(train_loss)\n",
    "    tr_acc3.append(train_acc)\n",
    "\n",
    "    print(f'Epoch {epoch+1:2} ended.')\n",
    "    print(f'\\tTrain Loss: {train_loss:.3f} | Train Acc: {train_acc:.2%}%')\n",
    "    print(f'\\t Val. Loss: {valid_loss:.3f} |  Val. Acc: {valid_acc:.2%}%')"
   ]
  },
  {
   "cell_type": "code",
   "execution_count": 47,
   "metadata": {
    "colab": {
     "base_uri": "https://localhost:8080/",
     "height": 472
    },
    "id": "Iec812LRcX78",
    "outputId": "e2f10d14-a81f-4be7-d817-f4834c4b9eb7"
   },
   "outputs": [
    {
     "data": {
      "image/png": "[encoded data removed]",
      "text/plain": [
       "<Figure size 640x480 with 1 Axes>"
      ]
     },
     "metadata": {},
     "output_type": "display_data"
    }
   ],
   "source": [
    "plt.plot(tr_acc2, label='Train w/ custom embed.', c='lightblue')\n",
    "plt.plot(val_acc2, label='Val w/ custom embed.', c='dodgerblue',linestyle='dashed')\n",
    "plt.plot(tr_acc3, label='Train w/ GloVe embed.', c='lightsalmon')\n",
    "plt.plot(val_acc3, label='Val w/ GloVe embed.', c='tomato', linestyle='dashed')\n",
    "plt.title('Accuracies for differing embedding layers')\n",
    "plt.xlabel('Epoch')\n",
    "plt.ylabel('Accuracy')\n",
    "plt.legend()\n",
    "plt.show()"
   ]
  },
  {
   "cell_type": "code",
   "execution_count": 48,
   "metadata": {
    "colab": {
     "base_uri": "https://localhost:8080/"
    },
    "id": "mzSfUYFPcX78",
    "outputId": "7db3e579-412e-4dac-f336-54c3d406464c"
   },
   "outputs": [
    {
     "name": "stdout",
     "output_type": "stream",
     "text": [
      "Accuracy of our model on the test set is: 85.02%\n"
     ]
    }
   ],
   "source": [
    "_, test_acc = evaluate(model, test_loader, criterion)\n",
    "print(f'Accuracy of our model on the test set is: {test_acc:.2%}')"
   ]
  },
  {
   "cell_type": "markdown",
   "metadata": {
    "id": "RDi5BfZA-QaS"
   },
   "source": [
    "As can be seen, while this version did not reach the heights of our previous model, the filters were able to find useful information from the trained weights.\n",
    "\n",
    "While GloVe vectors have been essentially replaced by LLM's, the concept of using pre-trained models for downstream tasks has been a staple ever since. If and when certain organizations release large \"foundation\" models, we can benefit from the result of their pooled resources in a similar way. We will explore this concept further in assignments and lab sessions."
   ]
  },
  {
   "cell_type": "markdown",
   "metadata": {
    "id": "yMx4J2d2EWDQ"
   },
   "source": [
    "# Try on your own:"
   ]
  },
  {
   "cell_type": "markdown",
   "metadata": {
    "id": "9DyjDgbKEWDR"
   },
   "source": [
    "* Unfreeze the embedding layer so that GloVe vectors are allowed to adapt to the task at hand.\n",
    "\n",
    "* Experiment with learning rate scheduling (for example [`StepLR()`](https://pytorch.org/docs/stable/generated/torch.optim.lr_scheduler.StepLR.html)) to see how the network evolves over time.\n",
    "\n",
    "* Use different preprocessing approaches (if you are interested in NLP specifically). You can explore `mark_negation` from `nltk.sentiment.util`, different approaches to get words into their roots like lemmatization (like snowball lemmatizer, but this can take longer to preprocess).\n",
    "\n",
    "* Look into retrieving and finetuning pre-trained language encoders such as BERT and RoBERTa utilizing a transformer architecture. You can follow this [tutorial](https://colab.research.google.com/github/DhavalTaunk08/NLP_scripts/blob/master/sentiment_analysis_using_roberta.ipynb) to get started."
   ]
  },
  {
   "cell_type": "markdown",
   "metadata": {
    "id": "MeEDLoS-EWDR"
   },
   "source": [
    "# Further reading:"
   ]
  },
  {
   "cell_type": "markdown",
   "metadata": {
    "id": "nxIOjo5tEWDR"
   },
   "source": [
    "If you want more explanations regarding the use of Conv1D instead of Conv2D, I suggest you have a look at this [stack exchange post](https://stats.stackexchange.com/questions/292751/is-a-1d-convolution-of-size-m-with-k-channels-the-same-as-a-2d-convolution-o/292791) and [Intro to CNN blog post](https://towardsdatascience.com/pytorch-basics-how-to-train-your-neural-net-intro-to-cnn-26a14c2ea29).\n",
    "\n",
    "If you want to refer to vision based explanations, I can recommend this section of the course notes of CS231n course offered by Standford: [Convolutional Neural Networks](https://cs231n.github.io/convolutional-networks/)."
   ]
  }
 ],
 "metadata": {
  "accelerator": "GPU",
  "colab": {
   "gpuType": "T4",
   "provenance": [],
   "toc_visible": true
  },
  "kernelspec": {
   "display_name": "base",
   "language": "python",
   "name": "python3"
  },
  "language_info": {
   "codemirror_mode": {
    "name": "ipython",
    "version": 3
   },
   "file_extension": ".py",
   "mimetype": "text/x-python",
   "name": "python",
   "nbconvert_exporter": "python",
   "pygments_lexer": "ipython3",
   "version": "3.10.13"
  }
 },
 "nbformat": 4,
 "nbformat_minor": 0
}
